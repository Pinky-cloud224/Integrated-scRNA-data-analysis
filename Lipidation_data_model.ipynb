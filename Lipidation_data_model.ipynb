{
  "nbformat": 4,
  "nbformat_minor": 0,
  "metadata": {
    "colab": {
      "provenance": [],
      "authorship_tag": "ABX9TyM2s5kEn5rZHa0xiCQyhkuU",
      "include_colab_link": true
    },
    "kernelspec": {
      "name": "python3",
      "display_name": "Python 3"
    },
    "language_info": {
      "name": "python"
    },
    "widgets": {
      "application/vnd.jupyter.widget-state+json": {
        "7a33e5865588486dabc905ca3dbe2c8b": {
          "model_module": "@jupyter-widgets/controls",
          "model_name": "HBoxModel",
          "model_module_version": "1.5.0",
          "state": {
            "_dom_classes": [],
            "_model_module": "@jupyter-widgets/controls",
            "_model_module_version": "1.5.0",
            "_model_name": "HBoxModel",
            "_view_count": null,
            "_view_module": "@jupyter-widgets/controls",
            "_view_module_version": "1.5.0",
            "_view_name": "HBoxView",
            "box_style": "",
            "children": [
              "IPY_MODEL_a301005b36524aba9f4eb686cb2aea58",
              "IPY_MODEL_ccc0360e5dd84e5498b91b0ef2124163",
              "IPY_MODEL_5d1e07610b854609b2f3c0309010ec96"
            ],
            "layout": "IPY_MODEL_39e2fdb612144f70a52986eb7f14598a"
          }
        },
        "a301005b36524aba9f4eb686cb2aea58": {
          "model_module": "@jupyter-widgets/controls",
          "model_name": "HTMLModel",
          "model_module_version": "1.5.0",
          "state": {
            "_dom_classes": [],
            "_model_module": "@jupyter-widgets/controls",
            "_model_module_version": "1.5.0",
            "_model_name": "HTMLModel",
            "_view_count": null,
            "_view_module": "@jupyter-widgets/controls",
            "_view_module_version": "1.5.0",
            "_view_name": "HTMLView",
            "description": "",
            "description_tooltip": null,
            "layout": "IPY_MODEL_c1d2487e3a7c462db36d14be861e9f6c",
            "placeholder": "​",
            "style": "IPY_MODEL_cf5809b23b744dac866e467073f425e3",
            "value": "  0%"
          }
        },
        "ccc0360e5dd84e5498b91b0ef2124163": {
          "model_module": "@jupyter-widgets/controls",
          "model_name": "FloatProgressModel",
          "model_module_version": "1.5.0",
          "state": {
            "_dom_classes": [],
            "_model_module": "@jupyter-widgets/controls",
            "_model_module_version": "1.5.0",
            "_model_name": "FloatProgressModel",
            "_view_count": null,
            "_view_module": "@jupyter-widgets/controls",
            "_view_module_version": "1.5.0",
            "_view_name": "ProgressView",
            "bar_style": "danger",
            "description": "",
            "description_tooltip": null,
            "layout": "IPY_MODEL_011510006e7445668da6cd8e100246ed",
            "max": 300,
            "min": 0,
            "orientation": "horizontal",
            "style": "IPY_MODEL_62964bfdb74c497596ed7cdb2a63c5b1",
            "value": 0
          }
        },
        "5d1e07610b854609b2f3c0309010ec96": {
          "model_module": "@jupyter-widgets/controls",
          "model_name": "HTMLModel",
          "model_module_version": "1.5.0",
          "state": {
            "_dom_classes": [],
            "_model_module": "@jupyter-widgets/controls",
            "_model_module_version": "1.5.0",
            "_model_name": "HTMLModel",
            "_view_count": null,
            "_view_module": "@jupyter-widgets/controls",
            "_view_module_version": "1.5.0",
            "_view_name": "HTMLView",
            "description": "",
            "description_tooltip": null,
            "layout": "IPY_MODEL_8abc05d503a94223a87249b2e34fb28c",
            "placeholder": "​",
            "style": "IPY_MODEL_a29e0043ae3041939be656edabb7eeeb",
            "value": " 0/300 [00:00&lt;?, ?it/s]"
          }
        },
        "39e2fdb612144f70a52986eb7f14598a": {
          "model_module": "@jupyter-widgets/base",
          "model_name": "LayoutModel",
          "model_module_version": "1.2.0",
          "state": {
            "_model_module": "@jupyter-widgets/base",
            "_model_module_version": "1.2.0",
            "_model_name": "LayoutModel",
            "_view_count": null,
            "_view_module": "@jupyter-widgets/base",
            "_view_module_version": "1.2.0",
            "_view_name": "LayoutView",
            "align_content": null,
            "align_items": null,
            "align_self": null,
            "border": null,
            "bottom": null,
            "display": null,
            "flex": null,
            "flex_flow": null,
            "grid_area": null,
            "grid_auto_columns": null,
            "grid_auto_flow": null,
            "grid_auto_rows": null,
            "grid_column": null,
            "grid_gap": null,
            "grid_row": null,
            "grid_template_areas": null,
            "grid_template_columns": null,
            "grid_template_rows": null,
            "height": null,
            "justify_content": null,
            "justify_items": null,
            "left": null,
            "margin": null,
            "max_height": null,
            "max_width": null,
            "min_height": null,
            "min_width": null,
            "object_fit": null,
            "object_position": null,
            "order": null,
            "overflow": null,
            "overflow_x": null,
            "overflow_y": null,
            "padding": null,
            "right": null,
            "top": null,
            "visibility": null,
            "width": null
          }
        },
        "c1d2487e3a7c462db36d14be861e9f6c": {
          "model_module": "@jupyter-widgets/base",
          "model_name": "LayoutModel",
          "model_module_version": "1.2.0",
          "state": {
            "_model_module": "@jupyter-widgets/base",
            "_model_module_version": "1.2.0",
            "_model_name": "LayoutModel",
            "_view_count": null,
            "_view_module": "@jupyter-widgets/base",
            "_view_module_version": "1.2.0",
            "_view_name": "LayoutView",
            "align_content": null,
            "align_items": null,
            "align_self": null,
            "border": null,
            "bottom": null,
            "display": null,
            "flex": null,
            "flex_flow": null,
            "grid_area": null,
            "grid_auto_columns": null,
            "grid_auto_flow": null,
            "grid_auto_rows": null,
            "grid_column": null,
            "grid_gap": null,
            "grid_row": null,
            "grid_template_areas": null,
            "grid_template_columns": null,
            "grid_template_rows": null,
            "height": null,
            "justify_content": null,
            "justify_items": null,
            "left": null,
            "margin": null,
            "max_height": null,
            "max_width": null,
            "min_height": null,
            "min_width": null,
            "object_fit": null,
            "object_position": null,
            "order": null,
            "overflow": null,
            "overflow_x": null,
            "overflow_y": null,
            "padding": null,
            "right": null,
            "top": null,
            "visibility": null,
            "width": null
          }
        },
        "cf5809b23b744dac866e467073f425e3": {
          "model_module": "@jupyter-widgets/controls",
          "model_name": "DescriptionStyleModel",
          "model_module_version": "1.5.0",
          "state": {
            "_model_module": "@jupyter-widgets/controls",
            "_model_module_version": "1.5.0",
            "_model_name": "DescriptionStyleModel",
            "_view_count": null,
            "_view_module": "@jupyter-widgets/base",
            "_view_module_version": "1.2.0",
            "_view_name": "StyleView",
            "description_width": ""
          }
        },
        "011510006e7445668da6cd8e100246ed": {
          "model_module": "@jupyter-widgets/base",
          "model_name": "LayoutModel",
          "model_module_version": "1.2.0",
          "state": {
            "_model_module": "@jupyter-widgets/base",
            "_model_module_version": "1.2.0",
            "_model_name": "LayoutModel",
            "_view_count": null,
            "_view_module": "@jupyter-widgets/base",
            "_view_module_version": "1.2.0",
            "_view_name": "LayoutView",
            "align_content": null,
            "align_items": null,
            "align_self": null,
            "border": null,
            "bottom": null,
            "display": null,
            "flex": null,
            "flex_flow": null,
            "grid_area": null,
            "grid_auto_columns": null,
            "grid_auto_flow": null,
            "grid_auto_rows": null,
            "grid_column": null,
            "grid_gap": null,
            "grid_row": null,
            "grid_template_areas": null,
            "grid_template_columns": null,
            "grid_template_rows": null,
            "height": null,
            "justify_content": null,
            "justify_items": null,
            "left": null,
            "margin": null,
            "max_height": null,
            "max_width": null,
            "min_height": null,
            "min_width": null,
            "object_fit": null,
            "object_position": null,
            "order": null,
            "overflow": null,
            "overflow_x": null,
            "overflow_y": null,
            "padding": null,
            "right": null,
            "top": null,
            "visibility": null,
            "width": null
          }
        },
        "62964bfdb74c497596ed7cdb2a63c5b1": {
          "model_module": "@jupyter-widgets/controls",
          "model_name": "ProgressStyleModel",
          "model_module_version": "1.5.0",
          "state": {
            "_model_module": "@jupyter-widgets/controls",
            "_model_module_version": "1.5.0",
            "_model_name": "ProgressStyleModel",
            "_view_count": null,
            "_view_module": "@jupyter-widgets/base",
            "_view_module_version": "1.2.0",
            "_view_name": "StyleView",
            "bar_color": null,
            "description_width": ""
          }
        },
        "8abc05d503a94223a87249b2e34fb28c": {
          "model_module": "@jupyter-widgets/base",
          "model_name": "LayoutModel",
          "model_module_version": "1.2.0",
          "state": {
            "_model_module": "@jupyter-widgets/base",
            "_model_module_version": "1.2.0",
            "_model_name": "LayoutModel",
            "_view_count": null,
            "_view_module": "@jupyter-widgets/base",
            "_view_module_version": "1.2.0",
            "_view_name": "LayoutView",
            "align_content": null,
            "align_items": null,
            "align_self": null,
            "border": null,
            "bottom": null,
            "display": null,
            "flex": null,
            "flex_flow": null,
            "grid_area": null,
            "grid_auto_columns": null,
            "grid_auto_flow": null,
            "grid_auto_rows": null,
            "grid_column": null,
            "grid_gap": null,
            "grid_row": null,
            "grid_template_areas": null,
            "grid_template_columns": null,
            "grid_template_rows": null,
            "height": null,
            "justify_content": null,
            "justify_items": null,
            "left": null,
            "margin": null,
            "max_height": null,
            "max_width": null,
            "min_height": null,
            "min_width": null,
            "object_fit": null,
            "object_position": null,
            "order": null,
            "overflow": null,
            "overflow_x": null,
            "overflow_y": null,
            "padding": null,
            "right": null,
            "top": null,
            "visibility": null,
            "width": null
          }
        },
        "a29e0043ae3041939be656edabb7eeeb": {
          "model_module": "@jupyter-widgets/controls",
          "model_name": "DescriptionStyleModel",
          "model_module_version": "1.5.0",
          "state": {
            "_model_module": "@jupyter-widgets/controls",
            "_model_module_version": "1.5.0",
            "_model_name": "DescriptionStyleModel",
            "_view_count": null,
            "_view_module": "@jupyter-widgets/base",
            "_view_module_version": "1.2.0",
            "_view_name": "StyleView",
            "description_width": ""
          }
        }
      }
    }
  },
  "cells": [
    {
      "cell_type": "markdown",
      "metadata": {
        "id": "view-in-github",
        "colab_type": "text"
      },
      "source": [
        "<a href=\"https://colab.research.google.com/github/Pinky-cloud224/Integrated-scRNA-data-analysis/blob/master/Lipidation_data_model.ipynb\" target=\"_parent\"><img src=\"https://colab.research.google.com/assets/colab-badge.svg\" alt=\"Open In Colab\"/></a>"
      ]
    },
    {
      "cell_type": "code",
      "execution_count": 219,
      "metadata": {
        "colab": {
          "base_uri": "https://localhost:8080/"
        },
        "id": "94lWRAzLWQVs",
        "outputId": "79fcae17-e402-44fc-90df-735f0fdc190a"
      },
      "outputs": [
        {
          "output_type": "stream",
          "name": "stdout",
          "text": [
            "Drive already mounted at /content/drive; to attempt to forcibly remount, call drive.mount(\"/content/drive\", force_remount=True).\n"
          ]
        }
      ],
      "source": [
        "from google.colab import drive\n",
        "drive.mount('/content/drive')"
      ]
    },
    {
      "cell_type": "code",
      "source": [
        "%cd /content/drive/My Drive/"
      ],
      "metadata": {
        "colab": {
          "base_uri": "https://localhost:8080/"
        },
        "id": "57sdRCjmWStM",
        "outputId": "ef953fa0-8f3d-4b3b-96a9-40e66ae5fd7d"
      },
      "execution_count": 220,
      "outputs": [
        {
          "output_type": "stream",
          "name": "stdout",
          "text": [
            "/content/drive/My Drive\n"
          ]
        }
      ]
    },
    {
      "cell_type": "code",
      "source": [
        "pip install XlsxWriter"
      ],
      "metadata": {
        "colab": {
          "base_uri": "https://localhost:8080/"
        },
        "id": "MUn-v2fAWcmD",
        "outputId": "0dcd1695-c6d7-48e7-c15d-1192326c406b"
      },
      "execution_count": 221,
      "outputs": [
        {
          "output_type": "stream",
          "name": "stdout",
          "text": [
            "Requirement already satisfied: XlsxWriter in /usr/local/lib/python3.10/dist-packages (3.1.2)\n"
          ]
        }
      ]
    },
    {
      "cell_type": "code",
      "source": [
        "import pandas as pd\n",
        "import xlsxwriter\n",
        "data_f=pd.read_excel('lipidation_data_all_experiment_dropna.xlsx')\n",
        "data_f"
      ],
      "metadata": {
        "colab": {
          "base_uri": "https://localhost:8080/",
          "height": 424
        },
        "id": "ClcMiKU_WfWg",
        "outputId": "38252c15-e32f-46f4-b4be-8d1c73a1bfe6"
      },
      "execution_count": 222,
      "outputs": [
        {
          "output_type": "execute_result",
          "data": {
            "text/plain": [
              "      Unnamed: 0          id  sequence_length  \\\n",
              "0              0  A0A0K8P8E7              603   \n",
              "1              1  A0A291NUG3              379   \n",
              "2              2  A0A2T4VDM4              266   \n",
              "3              3  A0A3S5YBC7              492   \n",
              "4              4      A0R1E8             2111   \n",
              "...          ...         ...              ...   \n",
              "1895        1895      Q9HGP7              278   \n",
              "1896        1896      Q9P7J9              156   \n",
              "1897        1897      Q9STH5              161   \n",
              "1898        1898      Q9SUC9              304   \n",
              "1899        1899      Q9SUV6              142   \n",
              "\n",
              "                                               sequence organism  \\\n",
              "0     M Q T T V T T M L L A S V A L A A C A G G G S ...   Others   \n",
              "1     M L H S S L H P S I P Q P R G R R A K K A A F ...   Others   \n",
              "2     M G L C S D P A I T Y L K R L G Y N V V R L P ...   Others   \n",
              "3     M R K T V V A F A A A I A A C S A V L S S T T ...   Others   \n",
              "4     M T Q N C V A P V A I I G M A C R L P G A I N ...   Others   \n",
              "...                                                 ...      ...   \n",
              "1895  M S P L I V G T L I I I L L S G L A T A F Y V ...   Others   \n",
              "1896  M F G K V S S L L V F A S F L I I Q G A F A T ...   Others   \n",
              "1897  M A Q T T T L I L L L A T L L V A A T T V S G ...   Others   \n",
              "1898  M K K S L T L L I L L L C S L L F S T V L S N ...   Others   \n",
              "1899  M A V A V T A V L F L A V V I A P Q W T E T K ...   Others   \n",
              "\n",
              "          Lipidation Lipidation_Position         Annonation  \n",
              "0     Palmitoylation                18,     Prosite-prorule  \n",
              "1     Palmitoylation            88, 91,          similarity  \n",
              "2     Palmitoylation                 4,          experiment  \n",
              "3     Palmitoylation                15,     Prosite-prorule  \n",
              "4     Palmitoylation                16,     Prosite-prorule  \n",
              "...              ...                 ...                ...  \n",
              "1895      GPI-anchor                96,   sequence analysis  \n",
              "1896      GPI-anchor               129,   sequence analysis  \n",
              "1897      GPI-anchor               138,   sequence analysis  \n",
              "1898      GPI-anchor               282,   sequence analysis  \n",
              "1899      GPI-anchor               120,   sequence analysis  \n",
              "\n",
              "[1900 rows x 8 columns]"
            ],
            "text/html": [
              "\n",
              "  <div id=\"df-de49f0a6-37fe-4df4-bc63-3ec78184fcc0\" class=\"colab-df-container\">\n",
              "    <div>\n",
              "<style scoped>\n",
              "    .dataframe tbody tr th:only-of-type {\n",
              "        vertical-align: middle;\n",
              "    }\n",
              "\n",
              "    .dataframe tbody tr th {\n",
              "        vertical-align: top;\n",
              "    }\n",
              "\n",
              "    .dataframe thead th {\n",
              "        text-align: right;\n",
              "    }\n",
              "</style>\n",
              "<table border=\"1\" class=\"dataframe\">\n",
              "  <thead>\n",
              "    <tr style=\"text-align: right;\">\n",
              "      <th></th>\n",
              "      <th>Unnamed: 0</th>\n",
              "      <th>id</th>\n",
              "      <th>sequence_length</th>\n",
              "      <th>sequence</th>\n",
              "      <th>organism</th>\n",
              "      <th>Lipidation</th>\n",
              "      <th>Lipidation_Position</th>\n",
              "      <th>Annonation</th>\n",
              "    </tr>\n",
              "  </thead>\n",
              "  <tbody>\n",
              "    <tr>\n",
              "      <th>0</th>\n",
              "      <td>0</td>\n",
              "      <td>A0A0K8P8E7</td>\n",
              "      <td>603</td>\n",
              "      <td>M Q T T V T T M L L A S V A L A A C A G G G S ...</td>\n",
              "      <td>Others</td>\n",
              "      <td>Palmitoylation</td>\n",
              "      <td>18,</td>\n",
              "      <td>Prosite-prorule</td>\n",
              "    </tr>\n",
              "    <tr>\n",
              "      <th>1</th>\n",
              "      <td>1</td>\n",
              "      <td>A0A291NUG3</td>\n",
              "      <td>379</td>\n",
              "      <td>M L H S S L H P S I P Q P R G R R A K K A A F ...</td>\n",
              "      <td>Others</td>\n",
              "      <td>Palmitoylation</td>\n",
              "      <td>88, 91,</td>\n",
              "      <td>similarity</td>\n",
              "    </tr>\n",
              "    <tr>\n",
              "      <th>2</th>\n",
              "      <td>2</td>\n",
              "      <td>A0A2T4VDM4</td>\n",
              "      <td>266</td>\n",
              "      <td>M G L C S D P A I T Y L K R L G Y N V V R L P ...</td>\n",
              "      <td>Others</td>\n",
              "      <td>Palmitoylation</td>\n",
              "      <td>4,</td>\n",
              "      <td>experiment</td>\n",
              "    </tr>\n",
              "    <tr>\n",
              "      <th>3</th>\n",
              "      <td>3</td>\n",
              "      <td>A0A3S5YBC7</td>\n",
              "      <td>492</td>\n",
              "      <td>M R K T V V A F A A A I A A C S A V L S S T T ...</td>\n",
              "      <td>Others</td>\n",
              "      <td>Palmitoylation</td>\n",
              "      <td>15,</td>\n",
              "      <td>Prosite-prorule</td>\n",
              "    </tr>\n",
              "    <tr>\n",
              "      <th>4</th>\n",
              "      <td>4</td>\n",
              "      <td>A0R1E8</td>\n",
              "      <td>2111</td>\n",
              "      <td>M T Q N C V A P V A I I G M A C R L P G A I N ...</td>\n",
              "      <td>Others</td>\n",
              "      <td>Palmitoylation</td>\n",
              "      <td>16,</td>\n",
              "      <td>Prosite-prorule</td>\n",
              "    </tr>\n",
              "    <tr>\n",
              "      <th>...</th>\n",
              "      <td>...</td>\n",
              "      <td>...</td>\n",
              "      <td>...</td>\n",
              "      <td>...</td>\n",
              "      <td>...</td>\n",
              "      <td>...</td>\n",
              "      <td>...</td>\n",
              "      <td>...</td>\n",
              "    </tr>\n",
              "    <tr>\n",
              "      <th>1895</th>\n",
              "      <td>1895</td>\n",
              "      <td>Q9HGP7</td>\n",
              "      <td>278</td>\n",
              "      <td>M S P L I V G T L I I I L L S G L A T A F Y V ...</td>\n",
              "      <td>Others</td>\n",
              "      <td>GPI-anchor</td>\n",
              "      <td>96,</td>\n",
              "      <td>sequence analysis</td>\n",
              "    </tr>\n",
              "    <tr>\n",
              "      <th>1896</th>\n",
              "      <td>1896</td>\n",
              "      <td>Q9P7J9</td>\n",
              "      <td>156</td>\n",
              "      <td>M F G K V S S L L V F A S F L I I Q G A F A T ...</td>\n",
              "      <td>Others</td>\n",
              "      <td>GPI-anchor</td>\n",
              "      <td>129,</td>\n",
              "      <td>sequence analysis</td>\n",
              "    </tr>\n",
              "    <tr>\n",
              "      <th>1897</th>\n",
              "      <td>1897</td>\n",
              "      <td>Q9STH5</td>\n",
              "      <td>161</td>\n",
              "      <td>M A Q T T T L I L L L A T L L V A A T T V S G ...</td>\n",
              "      <td>Others</td>\n",
              "      <td>GPI-anchor</td>\n",
              "      <td>138,</td>\n",
              "      <td>sequence analysis</td>\n",
              "    </tr>\n",
              "    <tr>\n",
              "      <th>1898</th>\n",
              "      <td>1898</td>\n",
              "      <td>Q9SUC9</td>\n",
              "      <td>304</td>\n",
              "      <td>M K K S L T L L I L L L C S L L F S T V L S N ...</td>\n",
              "      <td>Others</td>\n",
              "      <td>GPI-anchor</td>\n",
              "      <td>282,</td>\n",
              "      <td>sequence analysis</td>\n",
              "    </tr>\n",
              "    <tr>\n",
              "      <th>1899</th>\n",
              "      <td>1899</td>\n",
              "      <td>Q9SUV6</td>\n",
              "      <td>142</td>\n",
              "      <td>M A V A V T A V L F L A V V I A P Q W T E T K ...</td>\n",
              "      <td>Others</td>\n",
              "      <td>GPI-anchor</td>\n",
              "      <td>120,</td>\n",
              "      <td>sequence analysis</td>\n",
              "    </tr>\n",
              "  </tbody>\n",
              "</table>\n",
              "<p>1900 rows × 8 columns</p>\n",
              "</div>\n",
              "    <div class=\"colab-df-buttons\">\n",
              "\n",
              "  <div class=\"colab-df-container\">\n",
              "    <button class=\"colab-df-convert\" onclick=\"convertToInteractive('df-de49f0a6-37fe-4df4-bc63-3ec78184fcc0')\"\n",
              "            title=\"Convert this dataframe to an interactive table.\"\n",
              "            style=\"display:none;\">\n",
              "\n",
              "  <svg xmlns=\"http://www.w3.org/2000/svg\" height=\"24px\" viewBox=\"0 -960 960 960\">\n",
              "    <path d=\"M120-120v-720h720v720H120Zm60-500h600v-160H180v160Zm220 220h160v-160H400v160Zm0 220h160v-160H400v160ZM180-400h160v-160H180v160Zm440 0h160v-160H620v160ZM180-180h160v-160H180v160Zm440 0h160v-160H620v160Z\"/>\n",
              "  </svg>\n",
              "    </button>\n",
              "\n",
              "  <style>\n",
              "    .colab-df-container {\n",
              "      display:flex;\n",
              "      gap: 12px;\n",
              "    }\n",
              "\n",
              "    .colab-df-convert {\n",
              "      background-color: #E8F0FE;\n",
              "      border: none;\n",
              "      border-radius: 50%;\n",
              "      cursor: pointer;\n",
              "      display: none;\n",
              "      fill: #1967D2;\n",
              "      height: 32px;\n",
              "      padding: 0 0 0 0;\n",
              "      width: 32px;\n",
              "    }\n",
              "\n",
              "    .colab-df-convert:hover {\n",
              "      background-color: #E2EBFA;\n",
              "      box-shadow: 0px 1px 2px rgba(60, 64, 67, 0.3), 0px 1px 3px 1px rgba(60, 64, 67, 0.15);\n",
              "      fill: #174EA6;\n",
              "    }\n",
              "\n",
              "    .colab-df-buttons div {\n",
              "      margin-bottom: 4px;\n",
              "    }\n",
              "\n",
              "    [theme=dark] .colab-df-convert {\n",
              "      background-color: #3B4455;\n",
              "      fill: #D2E3FC;\n",
              "    }\n",
              "\n",
              "    [theme=dark] .colab-df-convert:hover {\n",
              "      background-color: #434B5C;\n",
              "      box-shadow: 0px 1px 3px 1px rgba(0, 0, 0, 0.15);\n",
              "      filter: drop-shadow(0px 1px 2px rgba(0, 0, 0, 0.3));\n",
              "      fill: #FFFFFF;\n",
              "    }\n",
              "  </style>\n",
              "\n",
              "    <script>\n",
              "      const buttonEl =\n",
              "        document.querySelector('#df-de49f0a6-37fe-4df4-bc63-3ec78184fcc0 button.colab-df-convert');\n",
              "      buttonEl.style.display =\n",
              "        google.colab.kernel.accessAllowed ? 'block' : 'none';\n",
              "\n",
              "      async function convertToInteractive(key) {\n",
              "        const element = document.querySelector('#df-de49f0a6-37fe-4df4-bc63-3ec78184fcc0');\n",
              "        const dataTable =\n",
              "          await google.colab.kernel.invokeFunction('convertToInteractive',\n",
              "                                                    [key], {});\n",
              "        if (!dataTable) return;\n",
              "\n",
              "        const docLinkHtml = 'Like what you see? Visit the ' +\n",
              "          '<a target=\"_blank\" href=https://colab.research.google.com/notebooks/data_table.ipynb>data table notebook</a>'\n",
              "          + ' to learn more about interactive tables.';\n",
              "        element.innerHTML = '';\n",
              "        dataTable['output_type'] = 'display_data';\n",
              "        await google.colab.output.renderOutput(dataTable, element);\n",
              "        const docLink = document.createElement('div');\n",
              "        docLink.innerHTML = docLinkHtml;\n",
              "        element.appendChild(docLink);\n",
              "      }\n",
              "    </script>\n",
              "  </div>\n",
              "\n",
              "\n",
              "<div id=\"df-f0f35345-262a-4ef9-ad61-41878d024c7f\">\n",
              "  <button class=\"colab-df-quickchart\" onclick=\"quickchart('df-f0f35345-262a-4ef9-ad61-41878d024c7f')\"\n",
              "            title=\"Suggest charts.\"\n",
              "            style=\"display:none;\">\n",
              "\n",
              "<svg xmlns=\"http://www.w3.org/2000/svg\" height=\"24px\"viewBox=\"0 0 24 24\"\n",
              "     width=\"24px\">\n",
              "    <g>\n",
              "        <path d=\"M19 3H5c-1.1 0-2 .9-2 2v14c0 1.1.9 2 2 2h14c1.1 0 2-.9 2-2V5c0-1.1-.9-2-2-2zM9 17H7v-7h2v7zm4 0h-2V7h2v10zm4 0h-2v-4h2v4z\"/>\n",
              "    </g>\n",
              "</svg>\n",
              "  </button>\n",
              "\n",
              "<style>\n",
              "  .colab-df-quickchart {\n",
              "    background-color: #E8F0FE;\n",
              "    border: none;\n",
              "    border-radius: 50%;\n",
              "    cursor: pointer;\n",
              "    display: none;\n",
              "    fill: #1967D2;\n",
              "    height: 32px;\n",
              "    padding: 0 0 0 0;\n",
              "    width: 32px;\n",
              "  }\n",
              "\n",
              "  .colab-df-quickchart:hover {\n",
              "    background-color: #E2EBFA;\n",
              "    box-shadow: 0px 1px 2px rgba(60, 64, 67, 0.3), 0px 1px 3px 1px rgba(60, 64, 67, 0.15);\n",
              "    fill: #174EA6;\n",
              "  }\n",
              "\n",
              "  [theme=dark] .colab-df-quickchart {\n",
              "    background-color: #3B4455;\n",
              "    fill: #D2E3FC;\n",
              "  }\n",
              "\n",
              "  [theme=dark] .colab-df-quickchart:hover {\n",
              "    background-color: #434B5C;\n",
              "    box-shadow: 0px 1px 3px 1px rgba(0, 0, 0, 0.15);\n",
              "    filter: drop-shadow(0px 1px 2px rgba(0, 0, 0, 0.3));\n",
              "    fill: #FFFFFF;\n",
              "  }\n",
              "</style>\n",
              "\n",
              "  <script>\n",
              "    async function quickchart(key) {\n",
              "      const charts = await google.colab.kernel.invokeFunction(\n",
              "          'suggestCharts', [key], {});\n",
              "    }\n",
              "    (() => {\n",
              "      let quickchartButtonEl =\n",
              "        document.querySelector('#df-f0f35345-262a-4ef9-ad61-41878d024c7f button');\n",
              "      quickchartButtonEl.style.display =\n",
              "        google.colab.kernel.accessAllowed ? 'block' : 'none';\n",
              "    })();\n",
              "  </script>\n",
              "</div>\n",
              "    </div>\n",
              "  </div>\n"
            ]
          },
          "metadata": {},
          "execution_count": 222
        }
      ]
    },
    {
      "cell_type": "code",
      "source": [
        "nested_list=[]\n",
        "indices = data_f.iloc[0]\n",
        "sequences, positions = data_f[\"sequence\"], data_f[\"Lipidation_Position\"]\n",
        "print(range(len(sequences)))\n",
        "for i in range(1900):\n",
        "    sequence_i = sequences[i]\n",
        "    pos = positions[i]\n",
        "    pos_list = pos.split(\", \")\n",
        "    pos_list =[int(entry) for entry in pos_list if entry]\n",
        "    labels = []\n",
        "    for i in range(1, len(sequence_i.replace(\" \", \"\"))+1):\n",
        "        if i not in pos_list:\n",
        "            data_f.iloc(labels.append(0))\n",
        "        else:\n",
        "            data_f.iloc(labels.append(1))\n",
        "\n",
        "    nested_list.append(labels)\n",
        "    #print(nested_list)"
      ],
      "metadata": {
        "colab": {
          "base_uri": "https://localhost:8080/"
        },
        "id": "vlZFQluaWik-",
        "outputId": "c9e8caf3-5d4b-4ea6-cf81-20273b1a3410"
      },
      "execution_count": 223,
      "outputs": [
        {
          "output_type": "stream",
          "name": "stdout",
          "text": [
            "range(0, 1900)\n"
          ]
        }
      ]
    },
    {
      "cell_type": "code",
      "source": [
        "nested_list_l=[]\n",
        "indices = data_f.iloc[0]\n",
        "sequences, positions = data_f[\"sequence\"], data_f[\"Lipidation_Position\"]\n",
        "print(range(len(sequences)))\n",
        "for i in range(1900):\n",
        "    sequence_i = sequences[i]\n",
        "    pos = positions[i]\n",
        "    pos_list = pos.split(\", \")\n",
        "    pos_list =[int(entry) for entry in pos_list if entry]\n",
        "    labels = []\n",
        "    for i in range(1, len(sequence_i.replace(\" \", \"\"))+1):\n",
        "        if i not in pos_list:\n",
        "            data_f.iloc(labels.append(0))\n",
        "        else:\n",
        "            data_f.iloc(labels.append(1))\n",
        "\n",
        "    nested_list_l.append(labels)\n",
        "    #print(nested_list)"
      ],
      "metadata": {
        "colab": {
          "base_uri": "https://localhost:8080/"
        },
        "id": "O74823xUXHB5",
        "outputId": "8734b0ea-54ad-4027-c8da-0c03583ade0f"
      },
      "execution_count": 224,
      "outputs": [
        {
          "output_type": "stream",
          "name": "stdout",
          "text": [
            "range(0, 1900)\n"
          ]
        }
      ]
    },
    {
      "cell_type": "code",
      "source": [
        "df=pd.DataFrame({'binary_sequence':nested_list})\n",
        "print(df)"
      ],
      "metadata": {
        "colab": {
          "base_uri": "https://localhost:8080/"
        },
        "id": "SqjOzTV8WnOZ",
        "outputId": "a6f37152-f16a-49c1-9500-32f066bf453e"
      },
      "execution_count": 225,
      "outputs": [
        {
          "output_type": "stream",
          "name": "stdout",
          "text": [
            "                                        binary_sequence\n",
            "0     [0, 0, 0, 0, 0, 0, 0, 0, 0, 0, 0, 0, 0, 0, 0, ...\n",
            "1     [0, 0, 0, 0, 0, 0, 0, 0, 0, 0, 0, 0, 0, 0, 0, ...\n",
            "2     [0, 0, 0, 1, 0, 0, 0, 0, 0, 0, 0, 0, 0, 0, 0, ...\n",
            "3     [0, 0, 0, 0, 0, 0, 0, 0, 0, 0, 0, 0, 0, 0, 1, ...\n",
            "4     [0, 0, 0, 0, 0, 0, 0, 0, 0, 0, 0, 0, 0, 0, 0, ...\n",
            "...                                                 ...\n",
            "1895  [0, 0, 0, 0, 0, 0, 0, 0, 0, 0, 0, 0, 0, 0, 0, ...\n",
            "1896  [0, 0, 0, 0, 0, 0, 0, 0, 0, 0, 0, 0, 0, 0, 0, ...\n",
            "1897  [0, 0, 0, 0, 0, 0, 0, 0, 0, 0, 0, 0, 0, 0, 0, ...\n",
            "1898  [0, 0, 0, 0, 0, 0, 0, 0, 0, 0, 0, 0, 0, 0, 0, ...\n",
            "1899  [0, 0, 0, 0, 0, 0, 0, 0, 0, 0, 0, 0, 0, 0, 0, ...\n",
            "\n",
            "[1900 rows x 1 columns]\n"
          ]
        }
      ]
    },
    {
      "cell_type": "code",
      "source": [
        "data_f[\"binary_sequence\"]=df\n",
        "data_f"
      ],
      "metadata": {
        "colab": {
          "base_uri": "https://localhost:8080/",
          "height": 424
        },
        "id": "yqFQ5Kz3Wqhv",
        "outputId": "e94f7efe-77c2-4cb4-d756-b190be203723"
      },
      "execution_count": 226,
      "outputs": [
        {
          "output_type": "execute_result",
          "data": {
            "text/plain": [
              "      Unnamed: 0          id  sequence_length  \\\n",
              "0              0  A0A0K8P8E7              603   \n",
              "1              1  A0A291NUG3              379   \n",
              "2              2  A0A2T4VDM4              266   \n",
              "3              3  A0A3S5YBC7              492   \n",
              "4              4      A0R1E8             2111   \n",
              "...          ...         ...              ...   \n",
              "1895        1895      Q9HGP7              278   \n",
              "1896        1896      Q9P7J9              156   \n",
              "1897        1897      Q9STH5              161   \n",
              "1898        1898      Q9SUC9              304   \n",
              "1899        1899      Q9SUV6              142   \n",
              "\n",
              "                                               sequence organism  \\\n",
              "0     M Q T T V T T M L L A S V A L A A C A G G G S ...   Others   \n",
              "1     M L H S S L H P S I P Q P R G R R A K K A A F ...   Others   \n",
              "2     M G L C S D P A I T Y L K R L G Y N V V R L P ...   Others   \n",
              "3     M R K T V V A F A A A I A A C S A V L S S T T ...   Others   \n",
              "4     M T Q N C V A P V A I I G M A C R L P G A I N ...   Others   \n",
              "...                                                 ...      ...   \n",
              "1895  M S P L I V G T L I I I L L S G L A T A F Y V ...   Others   \n",
              "1896  M F G K V S S L L V F A S F L I I Q G A F A T ...   Others   \n",
              "1897  M A Q T T T L I L L L A T L L V A A T T V S G ...   Others   \n",
              "1898  M K K S L T L L I L L L C S L L F S T V L S N ...   Others   \n",
              "1899  M A V A V T A V L F L A V V I A P Q W T E T K ...   Others   \n",
              "\n",
              "          Lipidation Lipidation_Position         Annonation  \\\n",
              "0     Palmitoylation                18,     Prosite-prorule   \n",
              "1     Palmitoylation            88, 91,          similarity   \n",
              "2     Palmitoylation                 4,          experiment   \n",
              "3     Palmitoylation                15,     Prosite-prorule   \n",
              "4     Palmitoylation                16,     Prosite-prorule   \n",
              "...              ...                 ...                ...   \n",
              "1895      GPI-anchor                96,   sequence analysis   \n",
              "1896      GPI-anchor               129,   sequence analysis   \n",
              "1897      GPI-anchor               138,   sequence analysis   \n",
              "1898      GPI-anchor               282,   sequence analysis   \n",
              "1899      GPI-anchor               120,   sequence analysis   \n",
              "\n",
              "                                        binary_sequence  \n",
              "0     [0, 0, 0, 0, 0, 0, 0, 0, 0, 0, 0, 0, 0, 0, 0, ...  \n",
              "1     [0, 0, 0, 0, 0, 0, 0, 0, 0, 0, 0, 0, 0, 0, 0, ...  \n",
              "2     [0, 0, 0, 1, 0, 0, 0, 0, 0, 0, 0, 0, 0, 0, 0, ...  \n",
              "3     [0, 0, 0, 0, 0, 0, 0, 0, 0, 0, 0, 0, 0, 0, 1, ...  \n",
              "4     [0, 0, 0, 0, 0, 0, 0, 0, 0, 0, 0, 0, 0, 0, 0, ...  \n",
              "...                                                 ...  \n",
              "1895  [0, 0, 0, 0, 0, 0, 0, 0, 0, 0, 0, 0, 0, 0, 0, ...  \n",
              "1896  [0, 0, 0, 0, 0, 0, 0, 0, 0, 0, 0, 0, 0, 0, 0, ...  \n",
              "1897  [0, 0, 0, 0, 0, 0, 0, 0, 0, 0, 0, 0, 0, 0, 0, ...  \n",
              "1898  [0, 0, 0, 0, 0, 0, 0, 0, 0, 0, 0, 0, 0, 0, 0, ...  \n",
              "1899  [0, 0, 0, 0, 0, 0, 0, 0, 0, 0, 0, 0, 0, 0, 0, ...  \n",
              "\n",
              "[1900 rows x 9 columns]"
            ],
            "text/html": [
              "\n",
              "  <div id=\"df-13d83ad7-c1da-45f4-b6fc-11c135900040\" class=\"colab-df-container\">\n",
              "    <div>\n",
              "<style scoped>\n",
              "    .dataframe tbody tr th:only-of-type {\n",
              "        vertical-align: middle;\n",
              "    }\n",
              "\n",
              "    .dataframe tbody tr th {\n",
              "        vertical-align: top;\n",
              "    }\n",
              "\n",
              "    .dataframe thead th {\n",
              "        text-align: right;\n",
              "    }\n",
              "</style>\n",
              "<table border=\"1\" class=\"dataframe\">\n",
              "  <thead>\n",
              "    <tr style=\"text-align: right;\">\n",
              "      <th></th>\n",
              "      <th>Unnamed: 0</th>\n",
              "      <th>id</th>\n",
              "      <th>sequence_length</th>\n",
              "      <th>sequence</th>\n",
              "      <th>organism</th>\n",
              "      <th>Lipidation</th>\n",
              "      <th>Lipidation_Position</th>\n",
              "      <th>Annonation</th>\n",
              "      <th>binary_sequence</th>\n",
              "    </tr>\n",
              "  </thead>\n",
              "  <tbody>\n",
              "    <tr>\n",
              "      <th>0</th>\n",
              "      <td>0</td>\n",
              "      <td>A0A0K8P8E7</td>\n",
              "      <td>603</td>\n",
              "      <td>M Q T T V T T M L L A S V A L A A C A G G G S ...</td>\n",
              "      <td>Others</td>\n",
              "      <td>Palmitoylation</td>\n",
              "      <td>18,</td>\n",
              "      <td>Prosite-prorule</td>\n",
              "      <td>[0, 0, 0, 0, 0, 0, 0, 0, 0, 0, 0, 0, 0, 0, 0, ...</td>\n",
              "    </tr>\n",
              "    <tr>\n",
              "      <th>1</th>\n",
              "      <td>1</td>\n",
              "      <td>A0A291NUG3</td>\n",
              "      <td>379</td>\n",
              "      <td>M L H S S L H P S I P Q P R G R R A K K A A F ...</td>\n",
              "      <td>Others</td>\n",
              "      <td>Palmitoylation</td>\n",
              "      <td>88, 91,</td>\n",
              "      <td>similarity</td>\n",
              "      <td>[0, 0, 0, 0, 0, 0, 0, 0, 0, 0, 0, 0, 0, 0, 0, ...</td>\n",
              "    </tr>\n",
              "    <tr>\n",
              "      <th>2</th>\n",
              "      <td>2</td>\n",
              "      <td>A0A2T4VDM4</td>\n",
              "      <td>266</td>\n",
              "      <td>M G L C S D P A I T Y L K R L G Y N V V R L P ...</td>\n",
              "      <td>Others</td>\n",
              "      <td>Palmitoylation</td>\n",
              "      <td>4,</td>\n",
              "      <td>experiment</td>\n",
              "      <td>[0, 0, 0, 1, 0, 0, 0, 0, 0, 0, 0, 0, 0, 0, 0, ...</td>\n",
              "    </tr>\n",
              "    <tr>\n",
              "      <th>3</th>\n",
              "      <td>3</td>\n",
              "      <td>A0A3S5YBC7</td>\n",
              "      <td>492</td>\n",
              "      <td>M R K T V V A F A A A I A A C S A V L S S T T ...</td>\n",
              "      <td>Others</td>\n",
              "      <td>Palmitoylation</td>\n",
              "      <td>15,</td>\n",
              "      <td>Prosite-prorule</td>\n",
              "      <td>[0, 0, 0, 0, 0, 0, 0, 0, 0, 0, 0, 0, 0, 0, 1, ...</td>\n",
              "    </tr>\n",
              "    <tr>\n",
              "      <th>4</th>\n",
              "      <td>4</td>\n",
              "      <td>A0R1E8</td>\n",
              "      <td>2111</td>\n",
              "      <td>M T Q N C V A P V A I I G M A C R L P G A I N ...</td>\n",
              "      <td>Others</td>\n",
              "      <td>Palmitoylation</td>\n",
              "      <td>16,</td>\n",
              "      <td>Prosite-prorule</td>\n",
              "      <td>[0, 0, 0, 0, 0, 0, 0, 0, 0, 0, 0, 0, 0, 0, 0, ...</td>\n",
              "    </tr>\n",
              "    <tr>\n",
              "      <th>...</th>\n",
              "      <td>...</td>\n",
              "      <td>...</td>\n",
              "      <td>...</td>\n",
              "      <td>...</td>\n",
              "      <td>...</td>\n",
              "      <td>...</td>\n",
              "      <td>...</td>\n",
              "      <td>...</td>\n",
              "      <td>...</td>\n",
              "    </tr>\n",
              "    <tr>\n",
              "      <th>1895</th>\n",
              "      <td>1895</td>\n",
              "      <td>Q9HGP7</td>\n",
              "      <td>278</td>\n",
              "      <td>M S P L I V G T L I I I L L S G L A T A F Y V ...</td>\n",
              "      <td>Others</td>\n",
              "      <td>GPI-anchor</td>\n",
              "      <td>96,</td>\n",
              "      <td>sequence analysis</td>\n",
              "      <td>[0, 0, 0, 0, 0, 0, 0, 0, 0, 0, 0, 0, 0, 0, 0, ...</td>\n",
              "    </tr>\n",
              "    <tr>\n",
              "      <th>1896</th>\n",
              "      <td>1896</td>\n",
              "      <td>Q9P7J9</td>\n",
              "      <td>156</td>\n",
              "      <td>M F G K V S S L L V F A S F L I I Q G A F A T ...</td>\n",
              "      <td>Others</td>\n",
              "      <td>GPI-anchor</td>\n",
              "      <td>129,</td>\n",
              "      <td>sequence analysis</td>\n",
              "      <td>[0, 0, 0, 0, 0, 0, 0, 0, 0, 0, 0, 0, 0, 0, 0, ...</td>\n",
              "    </tr>\n",
              "    <tr>\n",
              "      <th>1897</th>\n",
              "      <td>1897</td>\n",
              "      <td>Q9STH5</td>\n",
              "      <td>161</td>\n",
              "      <td>M A Q T T T L I L L L A T L L V A A T T V S G ...</td>\n",
              "      <td>Others</td>\n",
              "      <td>GPI-anchor</td>\n",
              "      <td>138,</td>\n",
              "      <td>sequence analysis</td>\n",
              "      <td>[0, 0, 0, 0, 0, 0, 0, 0, 0, 0, 0, 0, 0, 0, 0, ...</td>\n",
              "    </tr>\n",
              "    <tr>\n",
              "      <th>1898</th>\n",
              "      <td>1898</td>\n",
              "      <td>Q9SUC9</td>\n",
              "      <td>304</td>\n",
              "      <td>M K K S L T L L I L L L C S L L F S T V L S N ...</td>\n",
              "      <td>Others</td>\n",
              "      <td>GPI-anchor</td>\n",
              "      <td>282,</td>\n",
              "      <td>sequence analysis</td>\n",
              "      <td>[0, 0, 0, 0, 0, 0, 0, 0, 0, 0, 0, 0, 0, 0, 0, ...</td>\n",
              "    </tr>\n",
              "    <tr>\n",
              "      <th>1899</th>\n",
              "      <td>1899</td>\n",
              "      <td>Q9SUV6</td>\n",
              "      <td>142</td>\n",
              "      <td>M A V A V T A V L F L A V V I A P Q W T E T K ...</td>\n",
              "      <td>Others</td>\n",
              "      <td>GPI-anchor</td>\n",
              "      <td>120,</td>\n",
              "      <td>sequence analysis</td>\n",
              "      <td>[0, 0, 0, 0, 0, 0, 0, 0, 0, 0, 0, 0, 0, 0, 0, ...</td>\n",
              "    </tr>\n",
              "  </tbody>\n",
              "</table>\n",
              "<p>1900 rows × 9 columns</p>\n",
              "</div>\n",
              "    <div class=\"colab-df-buttons\">\n",
              "\n",
              "  <div class=\"colab-df-container\">\n",
              "    <button class=\"colab-df-convert\" onclick=\"convertToInteractive('df-13d83ad7-c1da-45f4-b6fc-11c135900040')\"\n",
              "            title=\"Convert this dataframe to an interactive table.\"\n",
              "            style=\"display:none;\">\n",
              "\n",
              "  <svg xmlns=\"http://www.w3.org/2000/svg\" height=\"24px\" viewBox=\"0 -960 960 960\">\n",
              "    <path d=\"M120-120v-720h720v720H120Zm60-500h600v-160H180v160Zm220 220h160v-160H400v160Zm0 220h160v-160H400v160ZM180-400h160v-160H180v160Zm440 0h160v-160H620v160ZM180-180h160v-160H180v160Zm440 0h160v-160H620v160Z\"/>\n",
              "  </svg>\n",
              "    </button>\n",
              "\n",
              "  <style>\n",
              "    .colab-df-container {\n",
              "      display:flex;\n",
              "      gap: 12px;\n",
              "    }\n",
              "\n",
              "    .colab-df-convert {\n",
              "      background-color: #E8F0FE;\n",
              "      border: none;\n",
              "      border-radius: 50%;\n",
              "      cursor: pointer;\n",
              "      display: none;\n",
              "      fill: #1967D2;\n",
              "      height: 32px;\n",
              "      padding: 0 0 0 0;\n",
              "      width: 32px;\n",
              "    }\n",
              "\n",
              "    .colab-df-convert:hover {\n",
              "      background-color: #E2EBFA;\n",
              "      box-shadow: 0px 1px 2px rgba(60, 64, 67, 0.3), 0px 1px 3px 1px rgba(60, 64, 67, 0.15);\n",
              "      fill: #174EA6;\n",
              "    }\n",
              "\n",
              "    .colab-df-buttons div {\n",
              "      margin-bottom: 4px;\n",
              "    }\n",
              "\n",
              "    [theme=dark] .colab-df-convert {\n",
              "      background-color: #3B4455;\n",
              "      fill: #D2E3FC;\n",
              "    }\n",
              "\n",
              "    [theme=dark] .colab-df-convert:hover {\n",
              "      background-color: #434B5C;\n",
              "      box-shadow: 0px 1px 3px 1px rgba(0, 0, 0, 0.15);\n",
              "      filter: drop-shadow(0px 1px 2px rgba(0, 0, 0, 0.3));\n",
              "      fill: #FFFFFF;\n",
              "    }\n",
              "  </style>\n",
              "\n",
              "    <script>\n",
              "      const buttonEl =\n",
              "        document.querySelector('#df-13d83ad7-c1da-45f4-b6fc-11c135900040 button.colab-df-convert');\n",
              "      buttonEl.style.display =\n",
              "        google.colab.kernel.accessAllowed ? 'block' : 'none';\n",
              "\n",
              "      async function convertToInteractive(key) {\n",
              "        const element = document.querySelector('#df-13d83ad7-c1da-45f4-b6fc-11c135900040');\n",
              "        const dataTable =\n",
              "          await google.colab.kernel.invokeFunction('convertToInteractive',\n",
              "                                                    [key], {});\n",
              "        if (!dataTable) return;\n",
              "\n",
              "        const docLinkHtml = 'Like what you see? Visit the ' +\n",
              "          '<a target=\"_blank\" href=https://colab.research.google.com/notebooks/data_table.ipynb>data table notebook</a>'\n",
              "          + ' to learn more about interactive tables.';\n",
              "        element.innerHTML = '';\n",
              "        dataTable['output_type'] = 'display_data';\n",
              "        await google.colab.output.renderOutput(dataTable, element);\n",
              "        const docLink = document.createElement('div');\n",
              "        docLink.innerHTML = docLinkHtml;\n",
              "        element.appendChild(docLink);\n",
              "      }\n",
              "    </script>\n",
              "  </div>\n",
              "\n",
              "\n",
              "<div id=\"df-af662ce2-f55c-47ae-9662-1a208f166123\">\n",
              "  <button class=\"colab-df-quickchart\" onclick=\"quickchart('df-af662ce2-f55c-47ae-9662-1a208f166123')\"\n",
              "            title=\"Suggest charts.\"\n",
              "            style=\"display:none;\">\n",
              "\n",
              "<svg xmlns=\"http://www.w3.org/2000/svg\" height=\"24px\"viewBox=\"0 0 24 24\"\n",
              "     width=\"24px\">\n",
              "    <g>\n",
              "        <path d=\"M19 3H5c-1.1 0-2 .9-2 2v14c0 1.1.9 2 2 2h14c1.1 0 2-.9 2-2V5c0-1.1-.9-2-2-2zM9 17H7v-7h2v7zm4 0h-2V7h2v10zm4 0h-2v-4h2v4z\"/>\n",
              "    </g>\n",
              "</svg>\n",
              "  </button>\n",
              "\n",
              "<style>\n",
              "  .colab-df-quickchart {\n",
              "    background-color: #E8F0FE;\n",
              "    border: none;\n",
              "    border-radius: 50%;\n",
              "    cursor: pointer;\n",
              "    display: none;\n",
              "    fill: #1967D2;\n",
              "    height: 32px;\n",
              "    padding: 0 0 0 0;\n",
              "    width: 32px;\n",
              "  }\n",
              "\n",
              "  .colab-df-quickchart:hover {\n",
              "    background-color: #E2EBFA;\n",
              "    box-shadow: 0px 1px 2px rgba(60, 64, 67, 0.3), 0px 1px 3px 1px rgba(60, 64, 67, 0.15);\n",
              "    fill: #174EA6;\n",
              "  }\n",
              "\n",
              "  [theme=dark] .colab-df-quickchart {\n",
              "    background-color: #3B4455;\n",
              "    fill: #D2E3FC;\n",
              "  }\n",
              "\n",
              "  [theme=dark] .colab-df-quickchart:hover {\n",
              "    background-color: #434B5C;\n",
              "    box-shadow: 0px 1px 3px 1px rgba(0, 0, 0, 0.15);\n",
              "    filter: drop-shadow(0px 1px 2px rgba(0, 0, 0, 0.3));\n",
              "    fill: #FFFFFF;\n",
              "  }\n",
              "</style>\n",
              "\n",
              "  <script>\n",
              "    async function quickchart(key) {\n",
              "      const charts = await google.colab.kernel.invokeFunction(\n",
              "          'suggestCharts', [key], {});\n",
              "    }\n",
              "    (() => {\n",
              "      let quickchartButtonEl =\n",
              "        document.querySelector('#df-af662ce2-f55c-47ae-9662-1a208f166123 button');\n",
              "      quickchartButtonEl.style.display =\n",
              "        google.colab.kernel.accessAllowed ? 'block' : 'none';\n",
              "    })();\n",
              "  </script>\n",
              "</div>\n",
              "    </div>\n",
              "  </div>\n"
            ]
          },
          "metadata": {},
          "execution_count": 226
        }
      ]
    },
    {
      "cell_type": "code",
      "source": [
        "data_f[\"sequence\"] = data_f[\"sequence\"].str.replace(\" \", \"\")\n",
        "\n",
        "data_f.head()"
      ],
      "metadata": {
        "colab": {
          "base_uri": "https://localhost:8080/",
          "height": 206
        },
        "id": "eTHVmau7WvF4",
        "outputId": "ce357e48-10cd-4ff8-f477-3d9054b0ceff"
      },
      "execution_count": 227,
      "outputs": [
        {
          "output_type": "execute_result",
          "data": {
            "text/plain": [
              "   Unnamed: 0          id  sequence_length  \\\n",
              "0           0  A0A0K8P8E7              603   \n",
              "1           1  A0A291NUG3              379   \n",
              "2           2  A0A2T4VDM4              266   \n",
              "3           3  A0A3S5YBC7              492   \n",
              "4           4      A0R1E8             2111   \n",
              "\n",
              "                                            sequence organism      Lipidation  \\\n",
              "0  MQTTVTTMLLASVALAACAGGGSTPLPLPQQQPPQQEPPPPPVPLA...   Others  Palmitoylation   \n",
              "1  MLHSSLHPSIPQPRGRRAKKAAFVLLSVCLVVLWDLGERPEHILQW...   Others  Palmitoylation   \n",
              "2  MGLCSDPAITYLKRLGYNVVRLPREGIQPLHLLGQQRGTVEYLGSL...   Others  Palmitoylation   \n",
              "3  MRKTVVAFAAAIAACSAVLSSTTTSAAPPATPITTLQADGTHLVDG...   Others  Palmitoylation   \n",
              "4  MTQNCVAPVAIIGMACRLPGAINSPQQLWEALLRGDDFVTEIPTGR...   Others  Palmitoylation   \n",
              "\n",
              "  Lipidation_Position       Annonation  \\\n",
              "0                18,   Prosite-prorule   \n",
              "1            88, 91,        similarity   \n",
              "2                 4,        experiment   \n",
              "3                15,   Prosite-prorule   \n",
              "4                16,   Prosite-prorule   \n",
              "\n",
              "                                     binary_sequence  \n",
              "0  [0, 0, 0, 0, 0, 0, 0, 0, 0, 0, 0, 0, 0, 0, 0, ...  \n",
              "1  [0, 0, 0, 0, 0, 0, 0, 0, 0, 0, 0, 0, 0, 0, 0, ...  \n",
              "2  [0, 0, 0, 1, 0, 0, 0, 0, 0, 0, 0, 0, 0, 0, 0, ...  \n",
              "3  [0, 0, 0, 0, 0, 0, 0, 0, 0, 0, 0, 0, 0, 0, 1, ...  \n",
              "4  [0, 0, 0, 0, 0, 0, 0, 0, 0, 0, 0, 0, 0, 0, 0, ...  "
            ],
            "text/html": [
              "\n",
              "  <div id=\"df-a1e21fac-7aed-4322-89ab-1fd117369404\" class=\"colab-df-container\">\n",
              "    <div>\n",
              "<style scoped>\n",
              "    .dataframe tbody tr th:only-of-type {\n",
              "        vertical-align: middle;\n",
              "    }\n",
              "\n",
              "    .dataframe tbody tr th {\n",
              "        vertical-align: top;\n",
              "    }\n",
              "\n",
              "    .dataframe thead th {\n",
              "        text-align: right;\n",
              "    }\n",
              "</style>\n",
              "<table border=\"1\" class=\"dataframe\">\n",
              "  <thead>\n",
              "    <tr style=\"text-align: right;\">\n",
              "      <th></th>\n",
              "      <th>Unnamed: 0</th>\n",
              "      <th>id</th>\n",
              "      <th>sequence_length</th>\n",
              "      <th>sequence</th>\n",
              "      <th>organism</th>\n",
              "      <th>Lipidation</th>\n",
              "      <th>Lipidation_Position</th>\n",
              "      <th>Annonation</th>\n",
              "      <th>binary_sequence</th>\n",
              "    </tr>\n",
              "  </thead>\n",
              "  <tbody>\n",
              "    <tr>\n",
              "      <th>0</th>\n",
              "      <td>0</td>\n",
              "      <td>A0A0K8P8E7</td>\n",
              "      <td>603</td>\n",
              "      <td>MQTTVTTMLLASVALAACAGGGSTPLPLPQQQPPQQEPPPPPVPLA...</td>\n",
              "      <td>Others</td>\n",
              "      <td>Palmitoylation</td>\n",
              "      <td>18,</td>\n",
              "      <td>Prosite-prorule</td>\n",
              "      <td>[0, 0, 0, 0, 0, 0, 0, 0, 0, 0, 0, 0, 0, 0, 0, ...</td>\n",
              "    </tr>\n",
              "    <tr>\n",
              "      <th>1</th>\n",
              "      <td>1</td>\n",
              "      <td>A0A291NUG3</td>\n",
              "      <td>379</td>\n",
              "      <td>MLHSSLHPSIPQPRGRRAKKAAFVLLSVCLVVLWDLGERPEHILQW...</td>\n",
              "      <td>Others</td>\n",
              "      <td>Palmitoylation</td>\n",
              "      <td>88, 91,</td>\n",
              "      <td>similarity</td>\n",
              "      <td>[0, 0, 0, 0, 0, 0, 0, 0, 0, 0, 0, 0, 0, 0, 0, ...</td>\n",
              "    </tr>\n",
              "    <tr>\n",
              "      <th>2</th>\n",
              "      <td>2</td>\n",
              "      <td>A0A2T4VDM4</td>\n",
              "      <td>266</td>\n",
              "      <td>MGLCSDPAITYLKRLGYNVVRLPREGIQPLHLLGQQRGTVEYLGSL...</td>\n",
              "      <td>Others</td>\n",
              "      <td>Palmitoylation</td>\n",
              "      <td>4,</td>\n",
              "      <td>experiment</td>\n",
              "      <td>[0, 0, 0, 1, 0, 0, 0, 0, 0, 0, 0, 0, 0, 0, 0, ...</td>\n",
              "    </tr>\n",
              "    <tr>\n",
              "      <th>3</th>\n",
              "      <td>3</td>\n",
              "      <td>A0A3S5YBC7</td>\n",
              "      <td>492</td>\n",
              "      <td>MRKTVVAFAAAIAACSAVLSSTTTSAAPPATPITTLQADGTHLVDG...</td>\n",
              "      <td>Others</td>\n",
              "      <td>Palmitoylation</td>\n",
              "      <td>15,</td>\n",
              "      <td>Prosite-prorule</td>\n",
              "      <td>[0, 0, 0, 0, 0, 0, 0, 0, 0, 0, 0, 0, 0, 0, 1, ...</td>\n",
              "    </tr>\n",
              "    <tr>\n",
              "      <th>4</th>\n",
              "      <td>4</td>\n",
              "      <td>A0R1E8</td>\n",
              "      <td>2111</td>\n",
              "      <td>MTQNCVAPVAIIGMACRLPGAINSPQQLWEALLRGDDFVTEIPTGR...</td>\n",
              "      <td>Others</td>\n",
              "      <td>Palmitoylation</td>\n",
              "      <td>16,</td>\n",
              "      <td>Prosite-prorule</td>\n",
              "      <td>[0, 0, 0, 0, 0, 0, 0, 0, 0, 0, 0, 0, 0, 0, 0, ...</td>\n",
              "    </tr>\n",
              "  </tbody>\n",
              "</table>\n",
              "</div>\n",
              "    <div class=\"colab-df-buttons\">\n",
              "\n",
              "  <div class=\"colab-df-container\">\n",
              "    <button class=\"colab-df-convert\" onclick=\"convertToInteractive('df-a1e21fac-7aed-4322-89ab-1fd117369404')\"\n",
              "            title=\"Convert this dataframe to an interactive table.\"\n",
              "            style=\"display:none;\">\n",
              "\n",
              "  <svg xmlns=\"http://www.w3.org/2000/svg\" height=\"24px\" viewBox=\"0 -960 960 960\">\n",
              "    <path d=\"M120-120v-720h720v720H120Zm60-500h600v-160H180v160Zm220 220h160v-160H400v160Zm0 220h160v-160H400v160ZM180-400h160v-160H180v160Zm440 0h160v-160H620v160ZM180-180h160v-160H180v160Zm440 0h160v-160H620v160Z\"/>\n",
              "  </svg>\n",
              "    </button>\n",
              "\n",
              "  <style>\n",
              "    .colab-df-container {\n",
              "      display:flex;\n",
              "      gap: 12px;\n",
              "    }\n",
              "\n",
              "    .colab-df-convert {\n",
              "      background-color: #E8F0FE;\n",
              "      border: none;\n",
              "      border-radius: 50%;\n",
              "      cursor: pointer;\n",
              "      display: none;\n",
              "      fill: #1967D2;\n",
              "      height: 32px;\n",
              "      padding: 0 0 0 0;\n",
              "      width: 32px;\n",
              "    }\n",
              "\n",
              "    .colab-df-convert:hover {\n",
              "      background-color: #E2EBFA;\n",
              "      box-shadow: 0px 1px 2px rgba(60, 64, 67, 0.3), 0px 1px 3px 1px rgba(60, 64, 67, 0.15);\n",
              "      fill: #174EA6;\n",
              "    }\n",
              "\n",
              "    .colab-df-buttons div {\n",
              "      margin-bottom: 4px;\n",
              "    }\n",
              "\n",
              "    [theme=dark] .colab-df-convert {\n",
              "      background-color: #3B4455;\n",
              "      fill: #D2E3FC;\n",
              "    }\n",
              "\n",
              "    [theme=dark] .colab-df-convert:hover {\n",
              "      background-color: #434B5C;\n",
              "      box-shadow: 0px 1px 3px 1px rgba(0, 0, 0, 0.15);\n",
              "      filter: drop-shadow(0px 1px 2px rgba(0, 0, 0, 0.3));\n",
              "      fill: #FFFFFF;\n",
              "    }\n",
              "  </style>\n",
              "\n",
              "    <script>\n",
              "      const buttonEl =\n",
              "        document.querySelector('#df-a1e21fac-7aed-4322-89ab-1fd117369404 button.colab-df-convert');\n",
              "      buttonEl.style.display =\n",
              "        google.colab.kernel.accessAllowed ? 'block' : 'none';\n",
              "\n",
              "      async function convertToInteractive(key) {\n",
              "        const element = document.querySelector('#df-a1e21fac-7aed-4322-89ab-1fd117369404');\n",
              "        const dataTable =\n",
              "          await google.colab.kernel.invokeFunction('convertToInteractive',\n",
              "                                                    [key], {});\n",
              "        if (!dataTable) return;\n",
              "\n",
              "        const docLinkHtml = 'Like what you see? Visit the ' +\n",
              "          '<a target=\"_blank\" href=https://colab.research.google.com/notebooks/data_table.ipynb>data table notebook</a>'\n",
              "          + ' to learn more about interactive tables.';\n",
              "        element.innerHTML = '';\n",
              "        dataTable['output_type'] = 'display_data';\n",
              "        await google.colab.output.renderOutput(dataTable, element);\n",
              "        const docLink = document.createElement('div');\n",
              "        docLink.innerHTML = docLinkHtml;\n",
              "        element.appendChild(docLink);\n",
              "      }\n",
              "    </script>\n",
              "  </div>\n",
              "\n",
              "\n",
              "<div id=\"df-22bd864f-4485-46aa-8626-249b0555c8fa\">\n",
              "  <button class=\"colab-df-quickchart\" onclick=\"quickchart('df-22bd864f-4485-46aa-8626-249b0555c8fa')\"\n",
              "            title=\"Suggest charts.\"\n",
              "            style=\"display:none;\">\n",
              "\n",
              "<svg xmlns=\"http://www.w3.org/2000/svg\" height=\"24px\"viewBox=\"0 0 24 24\"\n",
              "     width=\"24px\">\n",
              "    <g>\n",
              "        <path d=\"M19 3H5c-1.1 0-2 .9-2 2v14c0 1.1.9 2 2 2h14c1.1 0 2-.9 2-2V5c0-1.1-.9-2-2-2zM9 17H7v-7h2v7zm4 0h-2V7h2v10zm4 0h-2v-4h2v4z\"/>\n",
              "    </g>\n",
              "</svg>\n",
              "  </button>\n",
              "\n",
              "<style>\n",
              "  .colab-df-quickchart {\n",
              "    background-color: #E8F0FE;\n",
              "    border: none;\n",
              "    border-radius: 50%;\n",
              "    cursor: pointer;\n",
              "    display: none;\n",
              "    fill: #1967D2;\n",
              "    height: 32px;\n",
              "    padding: 0 0 0 0;\n",
              "    width: 32px;\n",
              "  }\n",
              "\n",
              "  .colab-df-quickchart:hover {\n",
              "    background-color: #E2EBFA;\n",
              "    box-shadow: 0px 1px 2px rgba(60, 64, 67, 0.3), 0px 1px 3px 1px rgba(60, 64, 67, 0.15);\n",
              "    fill: #174EA6;\n",
              "  }\n",
              "\n",
              "  [theme=dark] .colab-df-quickchart {\n",
              "    background-color: #3B4455;\n",
              "    fill: #D2E3FC;\n",
              "  }\n",
              "\n",
              "  [theme=dark] .colab-df-quickchart:hover {\n",
              "    background-color: #434B5C;\n",
              "    box-shadow: 0px 1px 3px 1px rgba(0, 0, 0, 0.15);\n",
              "    filter: drop-shadow(0px 1px 2px rgba(0, 0, 0, 0.3));\n",
              "    fill: #FFFFFF;\n",
              "  }\n",
              "</style>\n",
              "\n",
              "  <script>\n",
              "    async function quickchart(key) {\n",
              "      const charts = await google.colab.kernel.invokeFunction(\n",
              "          'suggestCharts', [key], {});\n",
              "    }\n",
              "    (() => {\n",
              "      let quickchartButtonEl =\n",
              "        document.querySelector('#df-22bd864f-4485-46aa-8626-249b0555c8fa button');\n",
              "      quickchartButtonEl.style.display =\n",
              "        google.colab.kernel.accessAllowed ? 'block' : 'none';\n",
              "    })();\n",
              "  </script>\n",
              "</div>\n",
              "    </div>\n",
              "  </div>\n"
            ]
          },
          "metadata": {},
          "execution_count": 227
        }
      ]
    },
    {
      "cell_type": "code",
      "source": [
        "from sklearn.preprocessing import LabelEncoder\n",
        "le=LabelEncoder()\n",
        "data_f.Lipidation=le.fit_transform(data_f.Lipidation)\n",
        "data_f"
      ],
      "metadata": {
        "colab": {
          "base_uri": "https://localhost:8080/",
          "height": 424
        },
        "id": "oftnz5iNW1Vb",
        "outputId": "6a89cb51-511d-46c5-e4ae-f425cd422b42"
      },
      "execution_count": 228,
      "outputs": [
        {
          "output_type": "execute_result",
          "data": {
            "text/plain": [
              "      Unnamed: 0          id  sequence_length  \\\n",
              "0              0  A0A0K8P8E7              603   \n",
              "1              1  A0A291NUG3              379   \n",
              "2              2  A0A2T4VDM4              266   \n",
              "3              3  A0A3S5YBC7              492   \n",
              "4              4      A0R1E8             2111   \n",
              "...          ...         ...              ...   \n",
              "1895        1895      Q9HGP7              278   \n",
              "1896        1896      Q9P7J9              156   \n",
              "1897        1897      Q9STH5              161   \n",
              "1898        1898      Q9SUC9              304   \n",
              "1899        1899      Q9SUV6              142   \n",
              "\n",
              "                                               sequence organism  Lipidation  \\\n",
              "0     MQTTVTTMLLASVALAACAGGGSTPLPLPQQQPPQQEPPPPPVPLA...   Others           2   \n",
              "1     MLHSSLHPSIPQPRGRRAKKAAFVLLSVCLVVLWDLGERPEHILQW...   Others           2   \n",
              "2     MGLCSDPAITYLKRLGYNVVRLPREGIQPLHLLGQQRGTVEYLGSL...   Others           2   \n",
              "3     MRKTVVAFAAAIAACSAVLSSTTTSAAPPATPITTLQADGTHLVDG...   Others           2   \n",
              "4     MTQNCVAPVAIIGMACRLPGAINSPQQLWEALLRGDDFVTEIPTGR...   Others           2   \n",
              "...                                                 ...      ...         ...   \n",
              "1895  MSPLIVGTLIIILLSGLATAFYVTWQGRLICAGVGLILEQAYEGGQ...   Others           0   \n",
              "1896  MFGKVSSLLVFASFLIIQGAFATLVAPIGDLEHLSEIELLYTNRVL...   Others           0   \n",
              "1897  MAQTTTLILLLATLLVAATTVSGQGPHIPLAPSPSVNEAMNCAAGL...   Others           0   \n",
              "1898  MKKSLTLLILLLCSLLFSTVLSNLLVEPVQPNTVPAFPVETQAQSC...   Others           0   \n",
              "1899  MAVAVTAVLFLAVVIAPQWTETKKPPRPSDTSDTSGTSGRDRRTMC...   Others           0   \n",
              "\n",
              "     Lipidation_Position         Annonation  \\\n",
              "0                   18,     Prosite-prorule   \n",
              "1               88, 91,          similarity   \n",
              "2                    4,          experiment   \n",
              "3                   15,     Prosite-prorule   \n",
              "4                   16,     Prosite-prorule   \n",
              "...                  ...                ...   \n",
              "1895                96,   sequence analysis   \n",
              "1896               129,   sequence analysis   \n",
              "1897               138,   sequence analysis   \n",
              "1898               282,   sequence analysis   \n",
              "1899               120,   sequence analysis   \n",
              "\n",
              "                                        binary_sequence  \n",
              "0     [0, 0, 0, 0, 0, 0, 0, 0, 0, 0, 0, 0, 0, 0, 0, ...  \n",
              "1     [0, 0, 0, 0, 0, 0, 0, 0, 0, 0, 0, 0, 0, 0, 0, ...  \n",
              "2     [0, 0, 0, 1, 0, 0, 0, 0, 0, 0, 0, 0, 0, 0, 0, ...  \n",
              "3     [0, 0, 0, 0, 0, 0, 0, 0, 0, 0, 0, 0, 0, 0, 1, ...  \n",
              "4     [0, 0, 0, 0, 0, 0, 0, 0, 0, 0, 0, 0, 0, 0, 0, ...  \n",
              "...                                                 ...  \n",
              "1895  [0, 0, 0, 0, 0, 0, 0, 0, 0, 0, 0, 0, 0, 0, 0, ...  \n",
              "1896  [0, 0, 0, 0, 0, 0, 0, 0, 0, 0, 0, 0, 0, 0, 0, ...  \n",
              "1897  [0, 0, 0, 0, 0, 0, 0, 0, 0, 0, 0, 0, 0, 0, 0, ...  \n",
              "1898  [0, 0, 0, 0, 0, 0, 0, 0, 0, 0, 0, 0, 0, 0, 0, ...  \n",
              "1899  [0, 0, 0, 0, 0, 0, 0, 0, 0, 0, 0, 0, 0, 0, 0, ...  \n",
              "\n",
              "[1900 rows x 9 columns]"
            ],
            "text/html": [
              "\n",
              "  <div id=\"df-fb3e318f-bec3-4347-a627-7c769673b992\" class=\"colab-df-container\">\n",
              "    <div>\n",
              "<style scoped>\n",
              "    .dataframe tbody tr th:only-of-type {\n",
              "        vertical-align: middle;\n",
              "    }\n",
              "\n",
              "    .dataframe tbody tr th {\n",
              "        vertical-align: top;\n",
              "    }\n",
              "\n",
              "    .dataframe thead th {\n",
              "        text-align: right;\n",
              "    }\n",
              "</style>\n",
              "<table border=\"1\" class=\"dataframe\">\n",
              "  <thead>\n",
              "    <tr style=\"text-align: right;\">\n",
              "      <th></th>\n",
              "      <th>Unnamed: 0</th>\n",
              "      <th>id</th>\n",
              "      <th>sequence_length</th>\n",
              "      <th>sequence</th>\n",
              "      <th>organism</th>\n",
              "      <th>Lipidation</th>\n",
              "      <th>Lipidation_Position</th>\n",
              "      <th>Annonation</th>\n",
              "      <th>binary_sequence</th>\n",
              "    </tr>\n",
              "  </thead>\n",
              "  <tbody>\n",
              "    <tr>\n",
              "      <th>0</th>\n",
              "      <td>0</td>\n",
              "      <td>A0A0K8P8E7</td>\n",
              "      <td>603</td>\n",
              "      <td>MQTTVTTMLLASVALAACAGGGSTPLPLPQQQPPQQEPPPPPVPLA...</td>\n",
              "      <td>Others</td>\n",
              "      <td>2</td>\n",
              "      <td>18,</td>\n",
              "      <td>Prosite-prorule</td>\n",
              "      <td>[0, 0, 0, 0, 0, 0, 0, 0, 0, 0, 0, 0, 0, 0, 0, ...</td>\n",
              "    </tr>\n",
              "    <tr>\n",
              "      <th>1</th>\n",
              "      <td>1</td>\n",
              "      <td>A0A291NUG3</td>\n",
              "      <td>379</td>\n",
              "      <td>MLHSSLHPSIPQPRGRRAKKAAFVLLSVCLVVLWDLGERPEHILQW...</td>\n",
              "      <td>Others</td>\n",
              "      <td>2</td>\n",
              "      <td>88, 91,</td>\n",
              "      <td>similarity</td>\n",
              "      <td>[0, 0, 0, 0, 0, 0, 0, 0, 0, 0, 0, 0, 0, 0, 0, ...</td>\n",
              "    </tr>\n",
              "    <tr>\n",
              "      <th>2</th>\n",
              "      <td>2</td>\n",
              "      <td>A0A2T4VDM4</td>\n",
              "      <td>266</td>\n",
              "      <td>MGLCSDPAITYLKRLGYNVVRLPREGIQPLHLLGQQRGTVEYLGSL...</td>\n",
              "      <td>Others</td>\n",
              "      <td>2</td>\n",
              "      <td>4,</td>\n",
              "      <td>experiment</td>\n",
              "      <td>[0, 0, 0, 1, 0, 0, 0, 0, 0, 0, 0, 0, 0, 0, 0, ...</td>\n",
              "    </tr>\n",
              "    <tr>\n",
              "      <th>3</th>\n",
              "      <td>3</td>\n",
              "      <td>A0A3S5YBC7</td>\n",
              "      <td>492</td>\n",
              "      <td>MRKTVVAFAAAIAACSAVLSSTTTSAAPPATPITTLQADGTHLVDG...</td>\n",
              "      <td>Others</td>\n",
              "      <td>2</td>\n",
              "      <td>15,</td>\n",
              "      <td>Prosite-prorule</td>\n",
              "      <td>[0, 0, 0, 0, 0, 0, 0, 0, 0, 0, 0, 0, 0, 0, 1, ...</td>\n",
              "    </tr>\n",
              "    <tr>\n",
              "      <th>4</th>\n",
              "      <td>4</td>\n",
              "      <td>A0R1E8</td>\n",
              "      <td>2111</td>\n",
              "      <td>MTQNCVAPVAIIGMACRLPGAINSPQQLWEALLRGDDFVTEIPTGR...</td>\n",
              "      <td>Others</td>\n",
              "      <td>2</td>\n",
              "      <td>16,</td>\n",
              "      <td>Prosite-prorule</td>\n",
              "      <td>[0, 0, 0, 0, 0, 0, 0, 0, 0, 0, 0, 0, 0, 0, 0, ...</td>\n",
              "    </tr>\n",
              "    <tr>\n",
              "      <th>...</th>\n",
              "      <td>...</td>\n",
              "      <td>...</td>\n",
              "      <td>...</td>\n",
              "      <td>...</td>\n",
              "      <td>...</td>\n",
              "      <td>...</td>\n",
              "      <td>...</td>\n",
              "      <td>...</td>\n",
              "      <td>...</td>\n",
              "    </tr>\n",
              "    <tr>\n",
              "      <th>1895</th>\n",
              "      <td>1895</td>\n",
              "      <td>Q9HGP7</td>\n",
              "      <td>278</td>\n",
              "      <td>MSPLIVGTLIIILLSGLATAFYVTWQGRLICAGVGLILEQAYEGGQ...</td>\n",
              "      <td>Others</td>\n",
              "      <td>0</td>\n",
              "      <td>96,</td>\n",
              "      <td>sequence analysis</td>\n",
              "      <td>[0, 0, 0, 0, 0, 0, 0, 0, 0, 0, 0, 0, 0, 0, 0, ...</td>\n",
              "    </tr>\n",
              "    <tr>\n",
              "      <th>1896</th>\n",
              "      <td>1896</td>\n",
              "      <td>Q9P7J9</td>\n",
              "      <td>156</td>\n",
              "      <td>MFGKVSSLLVFASFLIIQGAFATLVAPIGDLEHLSEIELLYTNRVL...</td>\n",
              "      <td>Others</td>\n",
              "      <td>0</td>\n",
              "      <td>129,</td>\n",
              "      <td>sequence analysis</td>\n",
              "      <td>[0, 0, 0, 0, 0, 0, 0, 0, 0, 0, 0, 0, 0, 0, 0, ...</td>\n",
              "    </tr>\n",
              "    <tr>\n",
              "      <th>1897</th>\n",
              "      <td>1897</td>\n",
              "      <td>Q9STH5</td>\n",
              "      <td>161</td>\n",
              "      <td>MAQTTTLILLLATLLVAATTVSGQGPHIPLAPSPSVNEAMNCAAGL...</td>\n",
              "      <td>Others</td>\n",
              "      <td>0</td>\n",
              "      <td>138,</td>\n",
              "      <td>sequence analysis</td>\n",
              "      <td>[0, 0, 0, 0, 0, 0, 0, 0, 0, 0, 0, 0, 0, 0, 0, ...</td>\n",
              "    </tr>\n",
              "    <tr>\n",
              "      <th>1898</th>\n",
              "      <td>1898</td>\n",
              "      <td>Q9SUC9</td>\n",
              "      <td>304</td>\n",
              "      <td>MKKSLTLLILLLCSLLFSTVLSNLLVEPVQPNTVPAFPVETQAQSC...</td>\n",
              "      <td>Others</td>\n",
              "      <td>0</td>\n",
              "      <td>282,</td>\n",
              "      <td>sequence analysis</td>\n",
              "      <td>[0, 0, 0, 0, 0, 0, 0, 0, 0, 0, 0, 0, 0, 0, 0, ...</td>\n",
              "    </tr>\n",
              "    <tr>\n",
              "      <th>1899</th>\n",
              "      <td>1899</td>\n",
              "      <td>Q9SUV6</td>\n",
              "      <td>142</td>\n",
              "      <td>MAVAVTAVLFLAVVIAPQWTETKKPPRPSDTSDTSGTSGRDRRTMC...</td>\n",
              "      <td>Others</td>\n",
              "      <td>0</td>\n",
              "      <td>120,</td>\n",
              "      <td>sequence analysis</td>\n",
              "      <td>[0, 0, 0, 0, 0, 0, 0, 0, 0, 0, 0, 0, 0, 0, 0, ...</td>\n",
              "    </tr>\n",
              "  </tbody>\n",
              "</table>\n",
              "<p>1900 rows × 9 columns</p>\n",
              "</div>\n",
              "    <div class=\"colab-df-buttons\">\n",
              "\n",
              "  <div class=\"colab-df-container\">\n",
              "    <button class=\"colab-df-convert\" onclick=\"convertToInteractive('df-fb3e318f-bec3-4347-a627-7c769673b992')\"\n",
              "            title=\"Convert this dataframe to an interactive table.\"\n",
              "            style=\"display:none;\">\n",
              "\n",
              "  <svg xmlns=\"http://www.w3.org/2000/svg\" height=\"24px\" viewBox=\"0 -960 960 960\">\n",
              "    <path d=\"M120-120v-720h720v720H120Zm60-500h600v-160H180v160Zm220 220h160v-160H400v160Zm0 220h160v-160H400v160ZM180-400h160v-160H180v160Zm440 0h160v-160H620v160ZM180-180h160v-160H180v160Zm440 0h160v-160H620v160Z\"/>\n",
              "  </svg>\n",
              "    </button>\n",
              "\n",
              "  <style>\n",
              "    .colab-df-container {\n",
              "      display:flex;\n",
              "      gap: 12px;\n",
              "    }\n",
              "\n",
              "    .colab-df-convert {\n",
              "      background-color: #E8F0FE;\n",
              "      border: none;\n",
              "      border-radius: 50%;\n",
              "      cursor: pointer;\n",
              "      display: none;\n",
              "      fill: #1967D2;\n",
              "      height: 32px;\n",
              "      padding: 0 0 0 0;\n",
              "      width: 32px;\n",
              "    }\n",
              "\n",
              "    .colab-df-convert:hover {\n",
              "      background-color: #E2EBFA;\n",
              "      box-shadow: 0px 1px 2px rgba(60, 64, 67, 0.3), 0px 1px 3px 1px rgba(60, 64, 67, 0.15);\n",
              "      fill: #174EA6;\n",
              "    }\n",
              "\n",
              "    .colab-df-buttons div {\n",
              "      margin-bottom: 4px;\n",
              "    }\n",
              "\n",
              "    [theme=dark] .colab-df-convert {\n",
              "      background-color: #3B4455;\n",
              "      fill: #D2E3FC;\n",
              "    }\n",
              "\n",
              "    [theme=dark] .colab-df-convert:hover {\n",
              "      background-color: #434B5C;\n",
              "      box-shadow: 0px 1px 3px 1px rgba(0, 0, 0, 0.15);\n",
              "      filter: drop-shadow(0px 1px 2px rgba(0, 0, 0, 0.3));\n",
              "      fill: #FFFFFF;\n",
              "    }\n",
              "  </style>\n",
              "\n",
              "    <script>\n",
              "      const buttonEl =\n",
              "        document.querySelector('#df-fb3e318f-bec3-4347-a627-7c769673b992 button.colab-df-convert');\n",
              "      buttonEl.style.display =\n",
              "        google.colab.kernel.accessAllowed ? 'block' : 'none';\n",
              "\n",
              "      async function convertToInteractive(key) {\n",
              "        const element = document.querySelector('#df-fb3e318f-bec3-4347-a627-7c769673b992');\n",
              "        const dataTable =\n",
              "          await google.colab.kernel.invokeFunction('convertToInteractive',\n",
              "                                                    [key], {});\n",
              "        if (!dataTable) return;\n",
              "\n",
              "        const docLinkHtml = 'Like what you see? Visit the ' +\n",
              "          '<a target=\"_blank\" href=https://colab.research.google.com/notebooks/data_table.ipynb>data table notebook</a>'\n",
              "          + ' to learn more about interactive tables.';\n",
              "        element.innerHTML = '';\n",
              "        dataTable['output_type'] = 'display_data';\n",
              "        await google.colab.output.renderOutput(dataTable, element);\n",
              "        const docLink = document.createElement('div');\n",
              "        docLink.innerHTML = docLinkHtml;\n",
              "        element.appendChild(docLink);\n",
              "      }\n",
              "    </script>\n",
              "  </div>\n",
              "\n",
              "\n",
              "<div id=\"df-07f28b74-c6ca-444c-b77d-3ffad8faa06d\">\n",
              "  <button class=\"colab-df-quickchart\" onclick=\"quickchart('df-07f28b74-c6ca-444c-b77d-3ffad8faa06d')\"\n",
              "            title=\"Suggest charts.\"\n",
              "            style=\"display:none;\">\n",
              "\n",
              "<svg xmlns=\"http://www.w3.org/2000/svg\" height=\"24px\"viewBox=\"0 0 24 24\"\n",
              "     width=\"24px\">\n",
              "    <g>\n",
              "        <path d=\"M19 3H5c-1.1 0-2 .9-2 2v14c0 1.1.9 2 2 2h14c1.1 0 2-.9 2-2V5c0-1.1-.9-2-2-2zM9 17H7v-7h2v7zm4 0h-2V7h2v10zm4 0h-2v-4h2v4z\"/>\n",
              "    </g>\n",
              "</svg>\n",
              "  </button>\n",
              "\n",
              "<style>\n",
              "  .colab-df-quickchart {\n",
              "    background-color: #E8F0FE;\n",
              "    border: none;\n",
              "    border-radius: 50%;\n",
              "    cursor: pointer;\n",
              "    display: none;\n",
              "    fill: #1967D2;\n",
              "    height: 32px;\n",
              "    padding: 0 0 0 0;\n",
              "    width: 32px;\n",
              "  }\n",
              "\n",
              "  .colab-df-quickchart:hover {\n",
              "    background-color: #E2EBFA;\n",
              "    box-shadow: 0px 1px 2px rgba(60, 64, 67, 0.3), 0px 1px 3px 1px rgba(60, 64, 67, 0.15);\n",
              "    fill: #174EA6;\n",
              "  }\n",
              "\n",
              "  [theme=dark] .colab-df-quickchart {\n",
              "    background-color: #3B4455;\n",
              "    fill: #D2E3FC;\n",
              "  }\n",
              "\n",
              "  [theme=dark] .colab-df-quickchart:hover {\n",
              "    background-color: #434B5C;\n",
              "    box-shadow: 0px 1px 3px 1px rgba(0, 0, 0, 0.15);\n",
              "    filter: drop-shadow(0px 1px 2px rgba(0, 0, 0, 0.3));\n",
              "    fill: #FFFFFF;\n",
              "  }\n",
              "</style>\n",
              "\n",
              "  <script>\n",
              "    async function quickchart(key) {\n",
              "      const charts = await google.colab.kernel.invokeFunction(\n",
              "          'suggestCharts', [key], {});\n",
              "    }\n",
              "    (() => {\n",
              "      let quickchartButtonEl =\n",
              "        document.querySelector('#df-07f28b74-c6ca-444c-b77d-3ffad8faa06d button');\n",
              "      quickchartButtonEl.style.display =\n",
              "        google.colab.kernel.accessAllowed ? 'block' : 'none';\n",
              "    })();\n",
              "  </script>\n",
              "</div>\n",
              "    </div>\n",
              "  </div>\n"
            ]
          },
          "metadata": {},
          "execution_count": 228
        }
      ]
    },
    {
      "cell_type": "code",
      "source": [
        "pal_2=nested_list_l[:967]\n",
        "for o_i,out in enumerate(pal_2):\n",
        "    for i_i,inner in enumerate(out):\n",
        "        if inner==1:\n",
        "            pal_2[o_i][i_i]=2\n",
        "    #print(pal_2)"
      ],
      "metadata": {
        "id": "rVgVD8lhW-Fp"
      },
      "execution_count": 229,
      "outputs": []
    },
    {
      "cell_type": "code",
      "source": [
        "d_f_p=pd.DataFrame({'binary_sequence_2':pal_2})\n",
        "print(d_f_p)"
      ],
      "metadata": {
        "colab": {
          "base_uri": "https://localhost:8080/"
        },
        "id": "mrem0-CIXVCI",
        "outputId": "a226e444-261f-421d-c862-cb22c4a43189"
      },
      "execution_count": 230,
      "outputs": [
        {
          "output_type": "stream",
          "name": "stdout",
          "text": [
            "                                     binary_sequence_2\n",
            "0    [0, 0, 0, 0, 0, 0, 0, 0, 0, 0, 0, 0, 0, 0, 0, ...\n",
            "1    [0, 0, 0, 0, 0, 0, 0, 0, 0, 0, 0, 0, 0, 0, 0, ...\n",
            "2    [0, 0, 0, 2, 0, 0, 0, 0, 0, 0, 0, 0, 0, 0, 0, ...\n",
            "3    [0, 0, 0, 0, 0, 0, 0, 0, 0, 0, 0, 0, 0, 0, 2, ...\n",
            "4    [0, 0, 0, 0, 0, 0, 0, 0, 0, 0, 0, 0, 0, 0, 0, ...\n",
            "..                                                 ...\n",
            "962  [0, 0, 0, 0, 0, 0, 0, 0, 0, 0, 0, 0, 0, 0, 0, ...\n",
            "963  [0, 0, 0, 0, 0, 0, 0, 0, 0, 0, 0, 0, 0, 0, 0, ...\n",
            "964  [0, 0, 0, 0, 0, 0, 0, 0, 0, 0, 0, 0, 0, 0, 0, ...\n",
            "965  [0, 0, 0, 0, 0, 0, 0, 0, 0, 0, 0, 0, 0, 0, 0, ...\n",
            "966  [0, 0, 0, 0, 0, 0, 0, 0, 0, 0, 0, 0, 0, 0, 0, ...\n",
            "\n",
            "[967 rows x 1 columns]\n"
          ]
        }
      ]
    },
    {
      "cell_type": "code",
      "source": [
        "n_myris=nested_list_l[967:1268]\n",
        "d_f_n=pd.DataFrame({'binary_sequence_1':n_myris})\n",
        "print(d_f_n)"
      ],
      "metadata": {
        "colab": {
          "base_uri": "https://localhost:8080/"
        },
        "id": "_SHQneNwXYtI",
        "outputId": "cdb759c6-a18d-43c4-ffec-4c02891c0f18"
      },
      "execution_count": 231,
      "outputs": [
        {
          "output_type": "stream",
          "name": "stdout",
          "text": [
            "                                     binary_sequence_1\n",
            "0    [0, 1, 0, 0, 0, 0, 0, 0, 0, 0, 0, 0, 0, 0, 0, ...\n",
            "1    [0, 1, 0, 0, 0, 0, 0, 0, 0, 0, 0, 0, 0, 0, 0, ...\n",
            "2    [0, 1, 0, 0, 0, 0, 0, 0, 0, 0, 0, 0, 0, 0, 0, ...\n",
            "3    [0, 1, 0, 0, 0, 0, 0, 0, 0, 0, 0, 0, 0, 0, 0, ...\n",
            "4    [0, 1, 0, 0, 0, 0, 0, 0, 0, 0, 0, 0, 0, 0, 0, ...\n",
            "..                                                 ...\n",
            "296  [0, 1, 0, 0, 0, 0, 0, 0, 0, 0, 0, 0, 0, 0, 0, ...\n",
            "297  [0, 1, 0, 0, 0, 0, 0, 0, 0, 0, 0, 0, 0, 0, 0, ...\n",
            "298  [0, 1, 0, 0, 0, 0, 0, 0, 0, 0, 0, 0, 0, 0, 0, ...\n",
            "299  [0, 1, 0, 0, 0, 0, 0, 0, 0, 0, 0, 0, 0, 0, 0, ...\n",
            "300  [0, 1, 0, 0, 0, 0, 0, 0, 0, 0, 0, 0, 0, 0, 0, ...\n",
            "\n",
            "[301 rows x 1 columns]\n"
          ]
        }
      ]
    },
    {
      "cell_type": "code",
      "source": [
        "preny_3=nested_list_l[1268:1453]\n",
        "for p_i,p_out in enumerate(preny_3):\n",
        "    for p_p_i,p_inner in enumerate(p_out):\n",
        "        if p_inner==1:\n",
        "            preny_3[p_i][p_p_i]=3\n",
        "    #print(preny_3)"
      ],
      "metadata": {
        "id": "tZH4sxbbXd6x"
      },
      "execution_count": 232,
      "outputs": []
    },
    {
      "cell_type": "code",
      "source": [
        "d_f_preny=pd.DataFrame({'binary_sequence_3':preny_3})\n",
        "print(d_f_preny)"
      ],
      "metadata": {
        "colab": {
          "base_uri": "https://localhost:8080/"
        },
        "id": "mY0CmteEXk7l",
        "outputId": "9620ce5d-83df-4c53-c3e2-e4670af7d732"
      },
      "execution_count": 233,
      "outputs": [
        {
          "output_type": "stream",
          "name": "stdout",
          "text": [
            "                                     binary_sequence_3\n",
            "0    [0, 0, 0, 0, 0, 0, 0, 0, 0, 0, 0, 0, 0, 0, 0, ...\n",
            "1    [0, 0, 0, 0, 0, 0, 0, 0, 0, 0, 0, 0, 0, 0, 0, ...\n",
            "2    [0, 0, 0, 0, 0, 0, 0, 0, 0, 0, 0, 0, 0, 0, 0, ...\n",
            "3    [0, 0, 0, 0, 0, 0, 0, 0, 0, 0, 0, 0, 0, 0, 0, ...\n",
            "4    [0, 0, 0, 0, 0, 0, 0, 0, 0, 0, 0, 0, 0, 0, 0, ...\n",
            "..                                                 ...\n",
            "180  [0, 0, 0, 0, 0, 0, 0, 0, 0, 0, 0, 0, 0, 0, 0, ...\n",
            "181  [0, 0, 0, 0, 0, 0, 0, 0, 0, 0, 0, 0, 0, 0, 0, ...\n",
            "182  [0, 0, 0, 0, 0, 0, 0, 0, 0, 0, 0, 0, 0, 0, 0, ...\n",
            "183  [0, 0, 0, 0, 0, 0, 0, 0, 0, 0, 0, 0, 0, 0, 0, ...\n",
            "184  [0, 0, 0, 0, 0, 0, 0, 0, 0, 0, 0, 0, 0, 0, 0, ...\n",
            "\n",
            "[185 rows x 1 columns]\n"
          ]
        }
      ]
    },
    {
      "cell_type": "code",
      "source": [
        "gpi=nested_list_l[1453:]\n",
        "for gpi_in,gpi_out in enumerate(gpi):\n",
        "    for gpi_i_in,gpi_i_inner in enumerate(gpi_out):\n",
        "        if gpi_i_inner==1:\n",
        "            gpi[gpi_in][gpi_i_in]=4\n",
        "        else:\n",
        "            gpi[gpi_in][gpi_i_in]=0\n",
        "    #print(gpi)"
      ],
      "metadata": {
        "id": "7tFzrOzRXpEs"
      },
      "execution_count": 234,
      "outputs": []
    },
    {
      "cell_type": "code",
      "source": [
        "gpi_df=pd.DataFrame({'binary_sequence_4':gpi})\n",
        "print(gpi_df)"
      ],
      "metadata": {
        "colab": {
          "base_uri": "https://localhost:8080/"
        },
        "id": "Q5cfKhjtXxoK",
        "outputId": "d4d42749-0e78-49c2-81fb-8cccb1db0d42"
      },
      "execution_count": 235,
      "outputs": [
        {
          "output_type": "stream",
          "name": "stdout",
          "text": [
            "                                     binary_sequence_4\n",
            "0    [0, 0, 0, 0, 0, 0, 0, 0, 0, 0, 0, 0, 0, 0, 0, ...\n",
            "1    [0, 0, 0, 0, 0, 0, 0, 0, 0, 0, 0, 0, 0, 0, 0, ...\n",
            "2    [0, 0, 0, 0, 0, 0, 0, 0, 0, 0, 0, 0, 0, 0, 0, ...\n",
            "3    [0, 0, 0, 0, 0, 0, 0, 0, 0, 0, 0, 0, 0, 0, 0, ...\n",
            "4    [0, 0, 0, 0, 0, 0, 0, 0, 0, 0, 0, 0, 0, 0, 0, ...\n",
            "..                                                 ...\n",
            "442  [0, 0, 0, 0, 0, 0, 0, 0, 0, 0, 0, 0, 0, 0, 0, ...\n",
            "443  [0, 0, 0, 0, 0, 0, 0, 0, 0, 0, 0, 0, 0, 0, 0, ...\n",
            "444  [0, 0, 0, 0, 0, 0, 0, 0, 0, 0, 0, 0, 0, 0, 0, ...\n",
            "445  [0, 0, 0, 0, 0, 0, 0, 0, 0, 0, 0, 0, 0, 0, 0, ...\n",
            "446  [0, 0, 0, 0, 0, 0, 0, 0, 0, 0, 0, 0, 0, 0, 0, ...\n",
            "\n",
            "[447 rows x 1 columns]\n"
          ]
        }
      ]
    },
    {
      "cell_type": "code",
      "source": [
        "list_1=pal_2+n_myris"
      ],
      "metadata": {
        "id": "V_54YF19X0Sl"
      },
      "execution_count": 236,
      "outputs": []
    },
    {
      "cell_type": "code",
      "source": [
        "list_y_data=pd.DataFrame({'list_1_d':list_1})\n",
        "print(list_y_data)"
      ],
      "metadata": {
        "colab": {
          "base_uri": "https://localhost:8080/"
        },
        "id": "AA-Ig0rUX4sd",
        "outputId": "52a4ab9b-b34c-46d1-aa07-880ac69470c9"
      },
      "execution_count": 237,
      "outputs": [
        {
          "output_type": "stream",
          "name": "stdout",
          "text": [
            "                                               list_1_d\n",
            "0     [0, 0, 0, 0, 0, 0, 0, 0, 0, 0, 0, 0, 0, 0, 0, ...\n",
            "1     [0, 0, 0, 0, 0, 0, 0, 0, 0, 0, 0, 0, 0, 0, 0, ...\n",
            "2     [0, 0, 0, 2, 0, 0, 0, 0, 0, 0, 0, 0, 0, 0, 0, ...\n",
            "3     [0, 0, 0, 0, 0, 0, 0, 0, 0, 0, 0, 0, 0, 0, 2, ...\n",
            "4     [0, 0, 0, 0, 0, 0, 0, 0, 0, 0, 0, 0, 0, 0, 0, ...\n",
            "...                                                 ...\n",
            "1263  [0, 1, 0, 0, 0, 0, 0, 0, 0, 0, 0, 0, 0, 0, 0, ...\n",
            "1264  [0, 1, 0, 0, 0, 0, 0, 0, 0, 0, 0, 0, 0, 0, 0, ...\n",
            "1265  [0, 1, 0, 0, 0, 0, 0, 0, 0, 0, 0, 0, 0, 0, 0, ...\n",
            "1266  [0, 1, 0, 0, 0, 0, 0, 0, 0, 0, 0, 0, 0, 0, 0, ...\n",
            "1267  [0, 1, 0, 0, 0, 0, 0, 0, 0, 0, 0, 0, 0, 0, 0, ...\n",
            "\n",
            "[1268 rows x 1 columns]\n"
          ]
        }
      ]
    },
    {
      "cell_type": "code",
      "source": [
        "list_2=preny_3+gpi"
      ],
      "metadata": {
        "id": "LKZ21jGZX7QI"
      },
      "execution_count": 238,
      "outputs": []
    },
    {
      "cell_type": "code",
      "source": [
        "list_2_y_data=pd.DataFrame({'list_2_d':list_2})\n",
        "print(list_2_y_data)"
      ],
      "metadata": {
        "colab": {
          "base_uri": "https://localhost:8080/"
        },
        "id": "CEFP1WgcYCiq",
        "outputId": "1e64fc46-3e38-42a6-fd63-ec217c0d8af3"
      },
      "execution_count": 239,
      "outputs": [
        {
          "output_type": "stream",
          "name": "stdout",
          "text": [
            "                                              list_2_d\n",
            "0    [0, 0, 0, 0, 0, 0, 0, 0, 0, 0, 0, 0, 0, 0, 0, ...\n",
            "1    [0, 0, 0, 0, 0, 0, 0, 0, 0, 0, 0, 0, 0, 0, 0, ...\n",
            "2    [0, 0, 0, 0, 0, 0, 0, 0, 0, 0, 0, 0, 0, 0, 0, ...\n",
            "3    [0, 0, 0, 0, 0, 0, 0, 0, 0, 0, 0, 0, 0, 0, 0, ...\n",
            "4    [0, 0, 0, 0, 0, 0, 0, 0, 0, 0, 0, 0, 0, 0, 0, ...\n",
            "..                                                 ...\n",
            "627  [0, 0, 0, 0, 0, 0, 0, 0, 0, 0, 0, 0, 0, 0, 0, ...\n",
            "628  [0, 0, 0, 0, 0, 0, 0, 0, 0, 0, 0, 0, 0, 0, 0, ...\n",
            "629  [0, 0, 0, 0, 0, 0, 0, 0, 0, 0, 0, 0, 0, 0, 0, ...\n",
            "630  [0, 0, 0, 0, 0, 0, 0, 0, 0, 0, 0, 0, 0, 0, 0, ...\n",
            "631  [0, 0, 0, 0, 0, 0, 0, 0, 0, 0, 0, 0, 0, 0, 0, ...\n",
            "\n",
            "[632 rows x 1 columns]\n"
          ]
        }
      ]
    },
    {
      "cell_type": "code",
      "source": [
        "all_list_y=list_1+list_2"
      ],
      "metadata": {
        "id": "pBnCshKFYF-v"
      },
      "execution_count": 240,
      "outputs": []
    },
    {
      "cell_type": "code",
      "source": [
        "y=pd.DataFrame({'y':all_list_y})\n",
        "print(y)"
      ],
      "metadata": {
        "colab": {
          "base_uri": "https://localhost:8080/"
        },
        "id": "ww9w3pnfYKt-",
        "outputId": "c345c368-74d6-4a5c-fbe7-f9497594e17b"
      },
      "execution_count": 241,
      "outputs": [
        {
          "output_type": "stream",
          "name": "stdout",
          "text": [
            "                                                      y\n",
            "0     [0, 0, 0, 0, 0, 0, 0, 0, 0, 0, 0, 0, 0, 0, 0, ...\n",
            "1     [0, 0, 0, 0, 0, 0, 0, 0, 0, 0, 0, 0, 0, 0, 0, ...\n",
            "2     [0, 0, 0, 2, 0, 0, 0, 0, 0, 0, 0, 0, 0, 0, 0, ...\n",
            "3     [0, 0, 0, 0, 0, 0, 0, 0, 0, 0, 0, 0, 0, 0, 2, ...\n",
            "4     [0, 0, 0, 0, 0, 0, 0, 0, 0, 0, 0, 0, 0, 0, 0, ...\n",
            "...                                                 ...\n",
            "1895  [0, 0, 0, 0, 0, 0, 0, 0, 0, 0, 0, 0, 0, 0, 0, ...\n",
            "1896  [0, 0, 0, 0, 0, 0, 0, 0, 0, 0, 0, 0, 0, 0, 0, ...\n",
            "1897  [0, 0, 0, 0, 0, 0, 0, 0, 0, 0, 0, 0, 0, 0, 0, ...\n",
            "1898  [0, 0, 0, 0, 0, 0, 0, 0, 0, 0, 0, 0, 0, 0, 0, ...\n",
            "1899  [0, 0, 0, 0, 0, 0, 0, 0, 0, 0, 0, 0, 0, 0, 0, ...\n",
            "\n",
            "[1900 rows x 1 columns]\n"
          ]
        }
      ]
    },
    {
      "cell_type": "code",
      "source": [
        "data_f[\"binary_sequence_lipidation\"]=y\n",
        "data_f"
      ],
      "metadata": {
        "colab": {
          "base_uri": "https://localhost:8080/",
          "height": 615
        },
        "id": "11yJzwQtYNqz",
        "outputId": "0db7da2d-7c24-4671-d69f-964e3336dc33"
      },
      "execution_count": 242,
      "outputs": [
        {
          "output_type": "execute_result",
          "data": {
            "text/plain": [
              "      Unnamed: 0          id  sequence_length  \\\n",
              "0              0  A0A0K8P8E7              603   \n",
              "1              1  A0A291NUG3              379   \n",
              "2              2  A0A2T4VDM4              266   \n",
              "3              3  A0A3S5YBC7              492   \n",
              "4              4      A0R1E8             2111   \n",
              "...          ...         ...              ...   \n",
              "1895        1895      Q9HGP7              278   \n",
              "1896        1896      Q9P7J9              156   \n",
              "1897        1897      Q9STH5              161   \n",
              "1898        1898      Q9SUC9              304   \n",
              "1899        1899      Q9SUV6              142   \n",
              "\n",
              "                                               sequence organism  Lipidation  \\\n",
              "0     MQTTVTTMLLASVALAACAGGGSTPLPLPQQQPPQQEPPPPPVPLA...   Others           2   \n",
              "1     MLHSSLHPSIPQPRGRRAKKAAFVLLSVCLVVLWDLGERPEHILQW...   Others           2   \n",
              "2     MGLCSDPAITYLKRLGYNVVRLPREGIQPLHLLGQQRGTVEYLGSL...   Others           2   \n",
              "3     MRKTVVAFAAAIAACSAVLSSTTTSAAPPATPITTLQADGTHLVDG...   Others           2   \n",
              "4     MTQNCVAPVAIIGMACRLPGAINSPQQLWEALLRGDDFVTEIPTGR...   Others           2   \n",
              "...                                                 ...      ...         ...   \n",
              "1895  MSPLIVGTLIIILLSGLATAFYVTWQGRLICAGVGLILEQAYEGGQ...   Others           0   \n",
              "1896  MFGKVSSLLVFASFLIIQGAFATLVAPIGDLEHLSEIELLYTNRVL...   Others           0   \n",
              "1897  MAQTTTLILLLATLLVAATTVSGQGPHIPLAPSPSVNEAMNCAAGL...   Others           0   \n",
              "1898  MKKSLTLLILLLCSLLFSTVLSNLLVEPVQPNTVPAFPVETQAQSC...   Others           0   \n",
              "1899  MAVAVTAVLFLAVVIAPQWTETKKPPRPSDTSDTSGTSGRDRRTMC...   Others           0   \n",
              "\n",
              "     Lipidation_Position         Annonation  \\\n",
              "0                   18,     Prosite-prorule   \n",
              "1               88, 91,          similarity   \n",
              "2                    4,          experiment   \n",
              "3                   15,     Prosite-prorule   \n",
              "4                   16,     Prosite-prorule   \n",
              "...                  ...                ...   \n",
              "1895                96,   sequence analysis   \n",
              "1896               129,   sequence analysis   \n",
              "1897               138,   sequence analysis   \n",
              "1898               282,   sequence analysis   \n",
              "1899               120,   sequence analysis   \n",
              "\n",
              "                                        binary_sequence  \\\n",
              "0     [0, 0, 0, 0, 0, 0, 0, 0, 0, 0, 0, 0, 0, 0, 0, ...   \n",
              "1     [0, 0, 0, 0, 0, 0, 0, 0, 0, 0, 0, 0, 0, 0, 0, ...   \n",
              "2     [0, 0, 0, 1, 0, 0, 0, 0, 0, 0, 0, 0, 0, 0, 0, ...   \n",
              "3     [0, 0, 0, 0, 0, 0, 0, 0, 0, 0, 0, 0, 0, 0, 1, ...   \n",
              "4     [0, 0, 0, 0, 0, 0, 0, 0, 0, 0, 0, 0, 0, 0, 0, ...   \n",
              "...                                                 ...   \n",
              "1895  [0, 0, 0, 0, 0, 0, 0, 0, 0, 0, 0, 0, 0, 0, 0, ...   \n",
              "1896  [0, 0, 0, 0, 0, 0, 0, 0, 0, 0, 0, 0, 0, 0, 0, ...   \n",
              "1897  [0, 0, 0, 0, 0, 0, 0, 0, 0, 0, 0, 0, 0, 0, 0, ...   \n",
              "1898  [0, 0, 0, 0, 0, 0, 0, 0, 0, 0, 0, 0, 0, 0, 0, ...   \n",
              "1899  [0, 0, 0, 0, 0, 0, 0, 0, 0, 0, 0, 0, 0, 0, 0, ...   \n",
              "\n",
              "                             binary_sequence_lipidation  \n",
              "0     [0, 0, 0, 0, 0, 0, 0, 0, 0, 0, 0, 0, 0, 0, 0, ...  \n",
              "1     [0, 0, 0, 0, 0, 0, 0, 0, 0, 0, 0, 0, 0, 0, 0, ...  \n",
              "2     [0, 0, 0, 2, 0, 0, 0, 0, 0, 0, 0, 0, 0, 0, 0, ...  \n",
              "3     [0, 0, 0, 0, 0, 0, 0, 0, 0, 0, 0, 0, 0, 0, 2, ...  \n",
              "4     [0, 0, 0, 0, 0, 0, 0, 0, 0, 0, 0, 0, 0, 0, 0, ...  \n",
              "...                                                 ...  \n",
              "1895  [0, 0, 0, 0, 0, 0, 0, 0, 0, 0, 0, 0, 0, 0, 0, ...  \n",
              "1896  [0, 0, 0, 0, 0, 0, 0, 0, 0, 0, 0, 0, 0, 0, 0, ...  \n",
              "1897  [0, 0, 0, 0, 0, 0, 0, 0, 0, 0, 0, 0, 0, 0, 0, ...  \n",
              "1898  [0, 0, 0, 0, 0, 0, 0, 0, 0, 0, 0, 0, 0, 0, 0, ...  \n",
              "1899  [0, 0, 0, 0, 0, 0, 0, 0, 0, 0, 0, 0, 0, 0, 0, ...  \n",
              "\n",
              "[1900 rows x 10 columns]"
            ],
            "text/html": [
              "\n",
              "  <div id=\"df-dbdf6266-fbfe-4a18-b6e5-f76ec2415c2e\" class=\"colab-df-container\">\n",
              "    <div>\n",
              "<style scoped>\n",
              "    .dataframe tbody tr th:only-of-type {\n",
              "        vertical-align: middle;\n",
              "    }\n",
              "\n",
              "    .dataframe tbody tr th {\n",
              "        vertical-align: top;\n",
              "    }\n",
              "\n",
              "    .dataframe thead th {\n",
              "        text-align: right;\n",
              "    }\n",
              "</style>\n",
              "<table border=\"1\" class=\"dataframe\">\n",
              "  <thead>\n",
              "    <tr style=\"text-align: right;\">\n",
              "      <th></th>\n",
              "      <th>Unnamed: 0</th>\n",
              "      <th>id</th>\n",
              "      <th>sequence_length</th>\n",
              "      <th>sequence</th>\n",
              "      <th>organism</th>\n",
              "      <th>Lipidation</th>\n",
              "      <th>Lipidation_Position</th>\n",
              "      <th>Annonation</th>\n",
              "      <th>binary_sequence</th>\n",
              "      <th>binary_sequence_lipidation</th>\n",
              "    </tr>\n",
              "  </thead>\n",
              "  <tbody>\n",
              "    <tr>\n",
              "      <th>0</th>\n",
              "      <td>0</td>\n",
              "      <td>A0A0K8P8E7</td>\n",
              "      <td>603</td>\n",
              "      <td>MQTTVTTMLLASVALAACAGGGSTPLPLPQQQPPQQEPPPPPVPLA...</td>\n",
              "      <td>Others</td>\n",
              "      <td>2</td>\n",
              "      <td>18,</td>\n",
              "      <td>Prosite-prorule</td>\n",
              "      <td>[0, 0, 0, 0, 0, 0, 0, 0, 0, 0, 0, 0, 0, 0, 0, ...</td>\n",
              "      <td>[0, 0, 0, 0, 0, 0, 0, 0, 0, 0, 0, 0, 0, 0, 0, ...</td>\n",
              "    </tr>\n",
              "    <tr>\n",
              "      <th>1</th>\n",
              "      <td>1</td>\n",
              "      <td>A0A291NUG3</td>\n",
              "      <td>379</td>\n",
              "      <td>MLHSSLHPSIPQPRGRRAKKAAFVLLSVCLVVLWDLGERPEHILQW...</td>\n",
              "      <td>Others</td>\n",
              "      <td>2</td>\n",
              "      <td>88, 91,</td>\n",
              "      <td>similarity</td>\n",
              "      <td>[0, 0, 0, 0, 0, 0, 0, 0, 0, 0, 0, 0, 0, 0, 0, ...</td>\n",
              "      <td>[0, 0, 0, 0, 0, 0, 0, 0, 0, 0, 0, 0, 0, 0, 0, ...</td>\n",
              "    </tr>\n",
              "    <tr>\n",
              "      <th>2</th>\n",
              "      <td>2</td>\n",
              "      <td>A0A2T4VDM4</td>\n",
              "      <td>266</td>\n",
              "      <td>MGLCSDPAITYLKRLGYNVVRLPREGIQPLHLLGQQRGTVEYLGSL...</td>\n",
              "      <td>Others</td>\n",
              "      <td>2</td>\n",
              "      <td>4,</td>\n",
              "      <td>experiment</td>\n",
              "      <td>[0, 0, 0, 1, 0, 0, 0, 0, 0, 0, 0, 0, 0, 0, 0, ...</td>\n",
              "      <td>[0, 0, 0, 2, 0, 0, 0, 0, 0, 0, 0, 0, 0, 0, 0, ...</td>\n",
              "    </tr>\n",
              "    <tr>\n",
              "      <th>3</th>\n",
              "      <td>3</td>\n",
              "      <td>A0A3S5YBC7</td>\n",
              "      <td>492</td>\n",
              "      <td>MRKTVVAFAAAIAACSAVLSSTTTSAAPPATPITTLQADGTHLVDG...</td>\n",
              "      <td>Others</td>\n",
              "      <td>2</td>\n",
              "      <td>15,</td>\n",
              "      <td>Prosite-prorule</td>\n",
              "      <td>[0, 0, 0, 0, 0, 0, 0, 0, 0, 0, 0, 0, 0, 0, 1, ...</td>\n",
              "      <td>[0, 0, 0, 0, 0, 0, 0, 0, 0, 0, 0, 0, 0, 0, 2, ...</td>\n",
              "    </tr>\n",
              "    <tr>\n",
              "      <th>4</th>\n",
              "      <td>4</td>\n",
              "      <td>A0R1E8</td>\n",
              "      <td>2111</td>\n",
              "      <td>MTQNCVAPVAIIGMACRLPGAINSPQQLWEALLRGDDFVTEIPTGR...</td>\n",
              "      <td>Others</td>\n",
              "      <td>2</td>\n",
              "      <td>16,</td>\n",
              "      <td>Prosite-prorule</td>\n",
              "      <td>[0, 0, 0, 0, 0, 0, 0, 0, 0, 0, 0, 0, 0, 0, 0, ...</td>\n",
              "      <td>[0, 0, 0, 0, 0, 0, 0, 0, 0, 0, 0, 0, 0, 0, 0, ...</td>\n",
              "    </tr>\n",
              "    <tr>\n",
              "      <th>...</th>\n",
              "      <td>...</td>\n",
              "      <td>...</td>\n",
              "      <td>...</td>\n",
              "      <td>...</td>\n",
              "      <td>...</td>\n",
              "      <td>...</td>\n",
              "      <td>...</td>\n",
              "      <td>...</td>\n",
              "      <td>...</td>\n",
              "      <td>...</td>\n",
              "    </tr>\n",
              "    <tr>\n",
              "      <th>1895</th>\n",
              "      <td>1895</td>\n",
              "      <td>Q9HGP7</td>\n",
              "      <td>278</td>\n",
              "      <td>MSPLIVGTLIIILLSGLATAFYVTWQGRLICAGVGLILEQAYEGGQ...</td>\n",
              "      <td>Others</td>\n",
              "      <td>0</td>\n",
              "      <td>96,</td>\n",
              "      <td>sequence analysis</td>\n",
              "      <td>[0, 0, 0, 0, 0, 0, 0, 0, 0, 0, 0, 0, 0, 0, 0, ...</td>\n",
              "      <td>[0, 0, 0, 0, 0, 0, 0, 0, 0, 0, 0, 0, 0, 0, 0, ...</td>\n",
              "    </tr>\n",
              "    <tr>\n",
              "      <th>1896</th>\n",
              "      <td>1896</td>\n",
              "      <td>Q9P7J9</td>\n",
              "      <td>156</td>\n",
              "      <td>MFGKVSSLLVFASFLIIQGAFATLVAPIGDLEHLSEIELLYTNRVL...</td>\n",
              "      <td>Others</td>\n",
              "      <td>0</td>\n",
              "      <td>129,</td>\n",
              "      <td>sequence analysis</td>\n",
              "      <td>[0, 0, 0, 0, 0, 0, 0, 0, 0, 0, 0, 0, 0, 0, 0, ...</td>\n",
              "      <td>[0, 0, 0, 0, 0, 0, 0, 0, 0, 0, 0, 0, 0, 0, 0, ...</td>\n",
              "    </tr>\n",
              "    <tr>\n",
              "      <th>1897</th>\n",
              "      <td>1897</td>\n",
              "      <td>Q9STH5</td>\n",
              "      <td>161</td>\n",
              "      <td>MAQTTTLILLLATLLVAATTVSGQGPHIPLAPSPSVNEAMNCAAGL...</td>\n",
              "      <td>Others</td>\n",
              "      <td>0</td>\n",
              "      <td>138,</td>\n",
              "      <td>sequence analysis</td>\n",
              "      <td>[0, 0, 0, 0, 0, 0, 0, 0, 0, 0, 0, 0, 0, 0, 0, ...</td>\n",
              "      <td>[0, 0, 0, 0, 0, 0, 0, 0, 0, 0, 0, 0, 0, 0, 0, ...</td>\n",
              "    </tr>\n",
              "    <tr>\n",
              "      <th>1898</th>\n",
              "      <td>1898</td>\n",
              "      <td>Q9SUC9</td>\n",
              "      <td>304</td>\n",
              "      <td>MKKSLTLLILLLCSLLFSTVLSNLLVEPVQPNTVPAFPVETQAQSC...</td>\n",
              "      <td>Others</td>\n",
              "      <td>0</td>\n",
              "      <td>282,</td>\n",
              "      <td>sequence analysis</td>\n",
              "      <td>[0, 0, 0, 0, 0, 0, 0, 0, 0, 0, 0, 0, 0, 0, 0, ...</td>\n",
              "      <td>[0, 0, 0, 0, 0, 0, 0, 0, 0, 0, 0, 0, 0, 0, 0, ...</td>\n",
              "    </tr>\n",
              "    <tr>\n",
              "      <th>1899</th>\n",
              "      <td>1899</td>\n",
              "      <td>Q9SUV6</td>\n",
              "      <td>142</td>\n",
              "      <td>MAVAVTAVLFLAVVIAPQWTETKKPPRPSDTSDTSGTSGRDRRTMC...</td>\n",
              "      <td>Others</td>\n",
              "      <td>0</td>\n",
              "      <td>120,</td>\n",
              "      <td>sequence analysis</td>\n",
              "      <td>[0, 0, 0, 0, 0, 0, 0, 0, 0, 0, 0, 0, 0, 0, 0, ...</td>\n",
              "      <td>[0, 0, 0, 0, 0, 0, 0, 0, 0, 0, 0, 0, 0, 0, 0, ...</td>\n",
              "    </tr>\n",
              "  </tbody>\n",
              "</table>\n",
              "<p>1900 rows × 10 columns</p>\n",
              "</div>\n",
              "    <div class=\"colab-df-buttons\">\n",
              "\n",
              "  <div class=\"colab-df-container\">\n",
              "    <button class=\"colab-df-convert\" onclick=\"convertToInteractive('df-dbdf6266-fbfe-4a18-b6e5-f76ec2415c2e')\"\n",
              "            title=\"Convert this dataframe to an interactive table.\"\n",
              "            style=\"display:none;\">\n",
              "\n",
              "  <svg xmlns=\"http://www.w3.org/2000/svg\" height=\"24px\" viewBox=\"0 -960 960 960\">\n",
              "    <path d=\"M120-120v-720h720v720H120Zm60-500h600v-160H180v160Zm220 220h160v-160H400v160Zm0 220h160v-160H400v160ZM180-400h160v-160H180v160Zm440 0h160v-160H620v160ZM180-180h160v-160H180v160Zm440 0h160v-160H620v160Z\"/>\n",
              "  </svg>\n",
              "    </button>\n",
              "\n",
              "  <style>\n",
              "    .colab-df-container {\n",
              "      display:flex;\n",
              "      gap: 12px;\n",
              "    }\n",
              "\n",
              "    .colab-df-convert {\n",
              "      background-color: #E8F0FE;\n",
              "      border: none;\n",
              "      border-radius: 50%;\n",
              "      cursor: pointer;\n",
              "      display: none;\n",
              "      fill: #1967D2;\n",
              "      height: 32px;\n",
              "      padding: 0 0 0 0;\n",
              "      width: 32px;\n",
              "    }\n",
              "\n",
              "    .colab-df-convert:hover {\n",
              "      background-color: #E2EBFA;\n",
              "      box-shadow: 0px 1px 2px rgba(60, 64, 67, 0.3), 0px 1px 3px 1px rgba(60, 64, 67, 0.15);\n",
              "      fill: #174EA6;\n",
              "    }\n",
              "\n",
              "    .colab-df-buttons div {\n",
              "      margin-bottom: 4px;\n",
              "    }\n",
              "\n",
              "    [theme=dark] .colab-df-convert {\n",
              "      background-color: #3B4455;\n",
              "      fill: #D2E3FC;\n",
              "    }\n",
              "\n",
              "    [theme=dark] .colab-df-convert:hover {\n",
              "      background-color: #434B5C;\n",
              "      box-shadow: 0px 1px 3px 1px rgba(0, 0, 0, 0.15);\n",
              "      filter: drop-shadow(0px 1px 2px rgba(0, 0, 0, 0.3));\n",
              "      fill: #FFFFFF;\n",
              "    }\n",
              "  </style>\n",
              "\n",
              "    <script>\n",
              "      const buttonEl =\n",
              "        document.querySelector('#df-dbdf6266-fbfe-4a18-b6e5-f76ec2415c2e button.colab-df-convert');\n",
              "      buttonEl.style.display =\n",
              "        google.colab.kernel.accessAllowed ? 'block' : 'none';\n",
              "\n",
              "      async function convertToInteractive(key) {\n",
              "        const element = document.querySelector('#df-dbdf6266-fbfe-4a18-b6e5-f76ec2415c2e');\n",
              "        const dataTable =\n",
              "          await google.colab.kernel.invokeFunction('convertToInteractive',\n",
              "                                                    [key], {});\n",
              "        if (!dataTable) return;\n",
              "\n",
              "        const docLinkHtml = 'Like what you see? Visit the ' +\n",
              "          '<a target=\"_blank\" href=https://colab.research.google.com/notebooks/data_table.ipynb>data table notebook</a>'\n",
              "          + ' to learn more about interactive tables.';\n",
              "        element.innerHTML = '';\n",
              "        dataTable['output_type'] = 'display_data';\n",
              "        await google.colab.output.renderOutput(dataTable, element);\n",
              "        const docLink = document.createElement('div');\n",
              "        docLink.innerHTML = docLinkHtml;\n",
              "        element.appendChild(docLink);\n",
              "      }\n",
              "    </script>\n",
              "  </div>\n",
              "\n",
              "\n",
              "<div id=\"df-de37fb89-e47d-47fc-a047-655ac9535950\">\n",
              "  <button class=\"colab-df-quickchart\" onclick=\"quickchart('df-de37fb89-e47d-47fc-a047-655ac9535950')\"\n",
              "            title=\"Suggest charts.\"\n",
              "            style=\"display:none;\">\n",
              "\n",
              "<svg xmlns=\"http://www.w3.org/2000/svg\" height=\"24px\"viewBox=\"0 0 24 24\"\n",
              "     width=\"24px\">\n",
              "    <g>\n",
              "        <path d=\"M19 3H5c-1.1 0-2 .9-2 2v14c0 1.1.9 2 2 2h14c1.1 0 2-.9 2-2V5c0-1.1-.9-2-2-2zM9 17H7v-7h2v7zm4 0h-2V7h2v10zm4 0h-2v-4h2v4z\"/>\n",
              "    </g>\n",
              "</svg>\n",
              "  </button>\n",
              "\n",
              "<style>\n",
              "  .colab-df-quickchart {\n",
              "    background-color: #E8F0FE;\n",
              "    border: none;\n",
              "    border-radius: 50%;\n",
              "    cursor: pointer;\n",
              "    display: none;\n",
              "    fill: #1967D2;\n",
              "    height: 32px;\n",
              "    padding: 0 0 0 0;\n",
              "    width: 32px;\n",
              "  }\n",
              "\n",
              "  .colab-df-quickchart:hover {\n",
              "    background-color: #E2EBFA;\n",
              "    box-shadow: 0px 1px 2px rgba(60, 64, 67, 0.3), 0px 1px 3px 1px rgba(60, 64, 67, 0.15);\n",
              "    fill: #174EA6;\n",
              "  }\n",
              "\n",
              "  [theme=dark] .colab-df-quickchart {\n",
              "    background-color: #3B4455;\n",
              "    fill: #D2E3FC;\n",
              "  }\n",
              "\n",
              "  [theme=dark] .colab-df-quickchart:hover {\n",
              "    background-color: #434B5C;\n",
              "    box-shadow: 0px 1px 3px 1px rgba(0, 0, 0, 0.15);\n",
              "    filter: drop-shadow(0px 1px 2px rgba(0, 0, 0, 0.3));\n",
              "    fill: #FFFFFF;\n",
              "  }\n",
              "</style>\n",
              "\n",
              "  <script>\n",
              "    async function quickchart(key) {\n",
              "      const charts = await google.colab.kernel.invokeFunction(\n",
              "          'suggestCharts', [key], {});\n",
              "    }\n",
              "    (() => {\n",
              "      let quickchartButtonEl =\n",
              "        document.querySelector('#df-de37fb89-e47d-47fc-a047-655ac9535950 button');\n",
              "      quickchartButtonEl.style.display =\n",
              "        google.colab.kernel.accessAllowed ? 'block' : 'none';\n",
              "    })();\n",
              "  </script>\n",
              "</div>\n",
              "    </div>\n",
              "  </div>\n"
            ]
          },
          "metadata": {},
          "execution_count": 242
        }
      ]
    },
    {
      "cell_type": "code",
      "source": [
        "data_f['Annonation'].value_counts(normalize=True) * 100"
      ],
      "metadata": {
        "colab": {
          "base_uri": "https://localhost:8080/"
        },
        "id": "JeFmBpneYTvi",
        "outputId": "2cd96805-6921-44c9-a431-269da819070c"
      },
      "execution_count": 243,
      "outputs": [
        {
          "output_type": "execute_result",
          "data": {
            "text/plain": [
              "sequence analysis                                31.157895\n",
              "Prosite-prorule                                  19.052632\n",
              "similarity                                       16.631579\n",
              "experiment                                       12.000000\n",
              "Unirule annotation                                7.578947\n",
              "curated                                           5.000000\n",
              "Similarity                                        3.894737\n",
              "Manual assertionby  curator                       3.368421\n",
              "sequence analysis, curated                        0.157895\n",
              "Prosite-prorule, Manual assertionby curator       0.157895\n",
              "manual assertionby  opinion                       0.157895\n",
              "Manual assertionby curator                        0.105263\n",
              "experiment                                        0.105263\n",
              "by similarity                                     0.105263\n",
              "Prosite-prorule-annotation                        0.105263\n",
              "Manual assertionby  similarity                    0.105263\n",
              "similarity                                        0.052632\n",
              "curator                                           0.052632\n",
              "sequence analysis, Manual assertionby curator     0.052632\n",
              "Manual assertion by  curator                      0.052632\n",
              "sequence analysis, Manual assertionby opinion     0.052632\n",
              "similarity, sequence analysis                     0.052632\n",
              "Name: Annonation, dtype: float64"
            ]
          },
          "metadata": {},
          "execution_count": 243
        }
      ]
    },
    {
      "cell_type": "code",
      "source": [
        "test=data_f.query(\"Annonation=='experiment'\")\n",
        "test"
      ],
      "metadata": {
        "colab": {
          "base_uri": "https://localhost:8080/",
          "height": 615
        },
        "id": "Y_cAxuL3Yan_",
        "outputId": "260bf174-c8b3-42bf-f1a0-741dc85f3016"
      },
      "execution_count": 244,
      "outputs": [
        {
          "output_type": "execute_result",
          "data": {
            "text/plain": [
              "      Unnamed: 0          id  sequence_length  \\\n",
              "2              2  A0A2T4VDM4              266   \n",
              "11            11      B2RHG2              324   \n",
              "22            22      G5EBX9              707   \n",
              "28            28      J7QLC0             1706   \n",
              "30            30      O00161              211   \n",
              "...          ...         ...              ...   \n",
              "1677        1677      Q8LD43               62   \n",
              "1683        1683      Q9C8A4               58   \n",
              "1689        1689      Q9LYF6               61   \n",
              "1691        1691      Q9M373               74   \n",
              "1821        1821      Q9GP84              155   \n",
              "\n",
              "                                               sequence organism  Lipidation  \\\n",
              "2     MGLCSDPAITYLKRLGYNVVRLPREGIQPLHLLGQQRGTVEYLGSL...   Others           2   \n",
              "11    MNKRKHMDIRRLIISLPAIMALWGGLASCDKMIYDNYDDCPRGVYV...   Others           2   \n",
              "22    MGCGPSSGRQNPSTELKKSTRATTTTTSSSQRNNYNDNNQNTSSSS...   Others           2   \n",
              "28    MQQSHQAGYANAADRESGIPAAVLDGIKAVAKEKNATLMFRLVNPH...   Others           2   \n",
              "30    MDNLSSEEIQQRAHQITDESLESTRRILGLAIESQDAGIKTITMLD...   Others           2   \n",
              "...                                                 ...      ...         ...   \n",
              "1677  MEMKNIFVALFISAVLVSSVSAATMESPAPSPGASSASTVAFPVVG...   Others           0   \n",
              "1683  MEAMKMKMMVFIMVVAVAFSAATAATVEAPAPSPTSDAAMFVPALF...   Others           0   \n",
              "1689  MAISKASIVVLMMVIISVVASAQSEAPAPSPTSGSSAISASFVSAG...   Others           0   \n",
              "1691  MASRNSVAVIALFAFVFAVISPFAGAQSLAPAPSPTSDGTSIDQGI...   Others           0   \n",
              "1821  MRFISIFLIIVALCVSSSWAFNFTDQPNSFRISGTGCGSGTTTVYF...   Others           0   \n",
              "\n",
              "            Lipidation_Position  Annonation  \\\n",
              "2                           4,   experiment   \n",
              "11                         29,   experiment   \n",
              "22                          3,   experiment   \n",
              "28                   860, 983,   experiment   \n",
              "30    79, 80, 83, 85, 87, 112,   experiment   \n",
              "...                         ...         ...   \n",
              "1677                       35,   experiment   \n",
              "1683                       36,   experiment   \n",
              "1689                       35,   experiment   \n",
              "1691                       37,   experiment   \n",
              "1821                      133,   experiment   \n",
              "\n",
              "                                        binary_sequence  \\\n",
              "2     [0, 0, 0, 1, 0, 0, 0, 0, 0, 0, 0, 0, 0, 0, 0, ...   \n",
              "11    [0, 0, 0, 0, 0, 0, 0, 0, 0, 0, 0, 0, 0, 0, 0, ...   \n",
              "22    [0, 0, 1, 0, 0, 0, 0, 0, 0, 0, 0, 0, 0, 0, 0, ...   \n",
              "28    [0, 0, 0, 0, 0, 0, 0, 0, 0, 0, 0, 0, 0, 0, 0, ...   \n",
              "30    [0, 0, 0, 0, 0, 0, 0, 0, 0, 0, 0, 0, 0, 0, 0, ...   \n",
              "...                                                 ...   \n",
              "1677  [0, 0, 0, 0, 0, 0, 0, 0, 0, 0, 0, 0, 0, 0, 0, ...   \n",
              "1683  [0, 0, 0, 0, 0, 0, 0, 0, 0, 0, 0, 0, 0, 0, 0, ...   \n",
              "1689  [0, 0, 0, 0, 0, 0, 0, 0, 0, 0, 0, 0, 0, 0, 0, ...   \n",
              "1691  [0, 0, 0, 0, 0, 0, 0, 0, 0, 0, 0, 0, 0, 0, 0, ...   \n",
              "1821  [0, 0, 0, 0, 0, 0, 0, 0, 0, 0, 0, 0, 0, 0, 0, ...   \n",
              "\n",
              "                             binary_sequence_lipidation  \n",
              "2     [0, 0, 0, 2, 0, 0, 0, 0, 0, 0, 0, 0, 0, 0, 0, ...  \n",
              "11    [0, 0, 0, 0, 0, 0, 0, 0, 0, 0, 0, 0, 0, 0, 0, ...  \n",
              "22    [0, 0, 2, 0, 0, 0, 0, 0, 0, 0, 0, 0, 0, 0, 0, ...  \n",
              "28    [0, 0, 0, 0, 0, 0, 0, 0, 0, 0, 0, 0, 0, 0, 0, ...  \n",
              "30    [0, 0, 0, 0, 0, 0, 0, 0, 0, 0, 0, 0, 0, 0, 0, ...  \n",
              "...                                                 ...  \n",
              "1677  [0, 0, 0, 0, 0, 0, 0, 0, 0, 0, 0, 0, 0, 0, 0, ...  \n",
              "1683  [0, 0, 0, 0, 0, 0, 0, 0, 0, 0, 0, 0, 0, 0, 0, ...  \n",
              "1689  [0, 0, 0, 0, 0, 0, 0, 0, 0, 0, 0, 0, 0, 0, 0, ...  \n",
              "1691  [0, 0, 0, 0, 0, 0, 0, 0, 0, 0, 0, 0, 0, 0, 0, ...  \n",
              "1821  [0, 0, 0, 0, 0, 0, 0, 0, 0, 0, 0, 0, 0, 0, 0, ...  \n",
              "\n",
              "[228 rows x 10 columns]"
            ],
            "text/html": [
              "\n",
              "  <div id=\"df-9644762b-b925-4624-9c96-743d3784170f\" class=\"colab-df-container\">\n",
              "    <div>\n",
              "<style scoped>\n",
              "    .dataframe tbody tr th:only-of-type {\n",
              "        vertical-align: middle;\n",
              "    }\n",
              "\n",
              "    .dataframe tbody tr th {\n",
              "        vertical-align: top;\n",
              "    }\n",
              "\n",
              "    .dataframe thead th {\n",
              "        text-align: right;\n",
              "    }\n",
              "</style>\n",
              "<table border=\"1\" class=\"dataframe\">\n",
              "  <thead>\n",
              "    <tr style=\"text-align: right;\">\n",
              "      <th></th>\n",
              "      <th>Unnamed: 0</th>\n",
              "      <th>id</th>\n",
              "      <th>sequence_length</th>\n",
              "      <th>sequence</th>\n",
              "      <th>organism</th>\n",
              "      <th>Lipidation</th>\n",
              "      <th>Lipidation_Position</th>\n",
              "      <th>Annonation</th>\n",
              "      <th>binary_sequence</th>\n",
              "      <th>binary_sequence_lipidation</th>\n",
              "    </tr>\n",
              "  </thead>\n",
              "  <tbody>\n",
              "    <tr>\n",
              "      <th>2</th>\n",
              "      <td>2</td>\n",
              "      <td>A0A2T4VDM4</td>\n",
              "      <td>266</td>\n",
              "      <td>MGLCSDPAITYLKRLGYNVVRLPREGIQPLHLLGQQRGTVEYLGSL...</td>\n",
              "      <td>Others</td>\n",
              "      <td>2</td>\n",
              "      <td>4,</td>\n",
              "      <td>experiment</td>\n",
              "      <td>[0, 0, 0, 1, 0, 0, 0, 0, 0, 0, 0, 0, 0, 0, 0, ...</td>\n",
              "      <td>[0, 0, 0, 2, 0, 0, 0, 0, 0, 0, 0, 0, 0, 0, 0, ...</td>\n",
              "    </tr>\n",
              "    <tr>\n",
              "      <th>11</th>\n",
              "      <td>11</td>\n",
              "      <td>B2RHG2</td>\n",
              "      <td>324</td>\n",
              "      <td>MNKRKHMDIRRLIISLPAIMALWGGLASCDKMIYDNYDDCPRGVYV...</td>\n",
              "      <td>Others</td>\n",
              "      <td>2</td>\n",
              "      <td>29,</td>\n",
              "      <td>experiment</td>\n",
              "      <td>[0, 0, 0, 0, 0, 0, 0, 0, 0, 0, 0, 0, 0, 0, 0, ...</td>\n",
              "      <td>[0, 0, 0, 0, 0, 0, 0, 0, 0, 0, 0, 0, 0, 0, 0, ...</td>\n",
              "    </tr>\n",
              "    <tr>\n",
              "      <th>22</th>\n",
              "      <td>22</td>\n",
              "      <td>G5EBX9</td>\n",
              "      <td>707</td>\n",
              "      <td>MGCGPSSGRQNPSTELKKSTRATTTTTSSSQRNNYNDNNQNTSSSS...</td>\n",
              "      <td>Others</td>\n",
              "      <td>2</td>\n",
              "      <td>3,</td>\n",
              "      <td>experiment</td>\n",
              "      <td>[0, 0, 1, 0, 0, 0, 0, 0, 0, 0, 0, 0, 0, 0, 0, ...</td>\n",
              "      <td>[0, 0, 2, 0, 0, 0, 0, 0, 0, 0, 0, 0, 0, 0, 0, ...</td>\n",
              "    </tr>\n",
              "    <tr>\n",
              "      <th>28</th>\n",
              "      <td>28</td>\n",
              "      <td>J7QLC0</td>\n",
              "      <td>1706</td>\n",
              "      <td>MQQSHQAGYANAADRESGIPAAVLDGIKAVAKEKNATLMFRLVNPH...</td>\n",
              "      <td>Others</td>\n",
              "      <td>2</td>\n",
              "      <td>860, 983,</td>\n",
              "      <td>experiment</td>\n",
              "      <td>[0, 0, 0, 0, 0, 0, 0, 0, 0, 0, 0, 0, 0, 0, 0, ...</td>\n",
              "      <td>[0, 0, 0, 0, 0, 0, 0, 0, 0, 0, 0, 0, 0, 0, 0, ...</td>\n",
              "    </tr>\n",
              "    <tr>\n",
              "      <th>30</th>\n",
              "      <td>30</td>\n",
              "      <td>O00161</td>\n",
              "      <td>211</td>\n",
              "      <td>MDNLSSEEIQQRAHQITDESLESTRRILGLAIESQDAGIKTITMLD...</td>\n",
              "      <td>Others</td>\n",
              "      <td>2</td>\n",
              "      <td>79, 80, 83, 85, 87, 112,</td>\n",
              "      <td>experiment</td>\n",
              "      <td>[0, 0, 0, 0, 0, 0, 0, 0, 0, 0, 0, 0, 0, 0, 0, ...</td>\n",
              "      <td>[0, 0, 0, 0, 0, 0, 0, 0, 0, 0, 0, 0, 0, 0, 0, ...</td>\n",
              "    </tr>\n",
              "    <tr>\n",
              "      <th>...</th>\n",
              "      <td>...</td>\n",
              "      <td>...</td>\n",
              "      <td>...</td>\n",
              "      <td>...</td>\n",
              "      <td>...</td>\n",
              "      <td>...</td>\n",
              "      <td>...</td>\n",
              "      <td>...</td>\n",
              "      <td>...</td>\n",
              "      <td>...</td>\n",
              "    </tr>\n",
              "    <tr>\n",
              "      <th>1677</th>\n",
              "      <td>1677</td>\n",
              "      <td>Q8LD43</td>\n",
              "      <td>62</td>\n",
              "      <td>MEMKNIFVALFISAVLVSSVSAATMESPAPSPGASSASTVAFPVVG...</td>\n",
              "      <td>Others</td>\n",
              "      <td>0</td>\n",
              "      <td>35,</td>\n",
              "      <td>experiment</td>\n",
              "      <td>[0, 0, 0, 0, 0, 0, 0, 0, 0, 0, 0, 0, 0, 0, 0, ...</td>\n",
              "      <td>[0, 0, 0, 0, 0, 0, 0, 0, 0, 0, 0, 0, 0, 0, 0, ...</td>\n",
              "    </tr>\n",
              "    <tr>\n",
              "      <th>1683</th>\n",
              "      <td>1683</td>\n",
              "      <td>Q9C8A4</td>\n",
              "      <td>58</td>\n",
              "      <td>MEAMKMKMMVFIMVVAVAFSAATAATVEAPAPSPTSDAAMFVPALF...</td>\n",
              "      <td>Others</td>\n",
              "      <td>0</td>\n",
              "      <td>36,</td>\n",
              "      <td>experiment</td>\n",
              "      <td>[0, 0, 0, 0, 0, 0, 0, 0, 0, 0, 0, 0, 0, 0, 0, ...</td>\n",
              "      <td>[0, 0, 0, 0, 0, 0, 0, 0, 0, 0, 0, 0, 0, 0, 0, ...</td>\n",
              "    </tr>\n",
              "    <tr>\n",
              "      <th>1689</th>\n",
              "      <td>1689</td>\n",
              "      <td>Q9LYF6</td>\n",
              "      <td>61</td>\n",
              "      <td>MAISKASIVVLMMVIISVVASAQSEAPAPSPTSGSSAISASFVSAG...</td>\n",
              "      <td>Others</td>\n",
              "      <td>0</td>\n",
              "      <td>35,</td>\n",
              "      <td>experiment</td>\n",
              "      <td>[0, 0, 0, 0, 0, 0, 0, 0, 0, 0, 0, 0, 0, 0, 0, ...</td>\n",
              "      <td>[0, 0, 0, 0, 0, 0, 0, 0, 0, 0, 0, 0, 0, 0, 0, ...</td>\n",
              "    </tr>\n",
              "    <tr>\n",
              "      <th>1691</th>\n",
              "      <td>1691</td>\n",
              "      <td>Q9M373</td>\n",
              "      <td>74</td>\n",
              "      <td>MASRNSVAVIALFAFVFAVISPFAGAQSLAPAPSPTSDGTSIDQGI...</td>\n",
              "      <td>Others</td>\n",
              "      <td>0</td>\n",
              "      <td>37,</td>\n",
              "      <td>experiment</td>\n",
              "      <td>[0, 0, 0, 0, 0, 0, 0, 0, 0, 0, 0, 0, 0, 0, 0, ...</td>\n",
              "      <td>[0, 0, 0, 0, 0, 0, 0, 0, 0, 0, 0, 0, 0, 0, 0, ...</td>\n",
              "    </tr>\n",
              "    <tr>\n",
              "      <th>1821</th>\n",
              "      <td>1821</td>\n",
              "      <td>Q9GP84</td>\n",
              "      <td>155</td>\n",
              "      <td>MRFISIFLIIVALCVSSSWAFNFTDQPNSFRISGTGCGSGTTTVYF...</td>\n",
              "      <td>Others</td>\n",
              "      <td>0</td>\n",
              "      <td>133,</td>\n",
              "      <td>experiment</td>\n",
              "      <td>[0, 0, 0, 0, 0, 0, 0, 0, 0, 0, 0, 0, 0, 0, 0, ...</td>\n",
              "      <td>[0, 0, 0, 0, 0, 0, 0, 0, 0, 0, 0, 0, 0, 0, 0, ...</td>\n",
              "    </tr>\n",
              "  </tbody>\n",
              "</table>\n",
              "<p>228 rows × 10 columns</p>\n",
              "</div>\n",
              "    <div class=\"colab-df-buttons\">\n",
              "\n",
              "  <div class=\"colab-df-container\">\n",
              "    <button class=\"colab-df-convert\" onclick=\"convertToInteractive('df-9644762b-b925-4624-9c96-743d3784170f')\"\n",
              "            title=\"Convert this dataframe to an interactive table.\"\n",
              "            style=\"display:none;\">\n",
              "\n",
              "  <svg xmlns=\"http://www.w3.org/2000/svg\" height=\"24px\" viewBox=\"0 -960 960 960\">\n",
              "    <path d=\"M120-120v-720h720v720H120Zm60-500h600v-160H180v160Zm220 220h160v-160H400v160Zm0 220h160v-160H400v160ZM180-400h160v-160H180v160Zm440 0h160v-160H620v160ZM180-180h160v-160H180v160Zm440 0h160v-160H620v160Z\"/>\n",
              "  </svg>\n",
              "    </button>\n",
              "\n",
              "  <style>\n",
              "    .colab-df-container {\n",
              "      display:flex;\n",
              "      gap: 12px;\n",
              "    }\n",
              "\n",
              "    .colab-df-convert {\n",
              "      background-color: #E8F0FE;\n",
              "      border: none;\n",
              "      border-radius: 50%;\n",
              "      cursor: pointer;\n",
              "      display: none;\n",
              "      fill: #1967D2;\n",
              "      height: 32px;\n",
              "      padding: 0 0 0 0;\n",
              "      width: 32px;\n",
              "    }\n",
              "\n",
              "    .colab-df-convert:hover {\n",
              "      background-color: #E2EBFA;\n",
              "      box-shadow: 0px 1px 2px rgba(60, 64, 67, 0.3), 0px 1px 3px 1px rgba(60, 64, 67, 0.15);\n",
              "      fill: #174EA6;\n",
              "    }\n",
              "\n",
              "    .colab-df-buttons div {\n",
              "      margin-bottom: 4px;\n",
              "    }\n",
              "\n",
              "    [theme=dark] .colab-df-convert {\n",
              "      background-color: #3B4455;\n",
              "      fill: #D2E3FC;\n",
              "    }\n",
              "\n",
              "    [theme=dark] .colab-df-convert:hover {\n",
              "      background-color: #434B5C;\n",
              "      box-shadow: 0px 1px 3px 1px rgba(0, 0, 0, 0.15);\n",
              "      filter: drop-shadow(0px 1px 2px rgba(0, 0, 0, 0.3));\n",
              "      fill: #FFFFFF;\n",
              "    }\n",
              "  </style>\n",
              "\n",
              "    <script>\n",
              "      const buttonEl =\n",
              "        document.querySelector('#df-9644762b-b925-4624-9c96-743d3784170f button.colab-df-convert');\n",
              "      buttonEl.style.display =\n",
              "        google.colab.kernel.accessAllowed ? 'block' : 'none';\n",
              "\n",
              "      async function convertToInteractive(key) {\n",
              "        const element = document.querySelector('#df-9644762b-b925-4624-9c96-743d3784170f');\n",
              "        const dataTable =\n",
              "          await google.colab.kernel.invokeFunction('convertToInteractive',\n",
              "                                                    [key], {});\n",
              "        if (!dataTable) return;\n",
              "\n",
              "        const docLinkHtml = 'Like what you see? Visit the ' +\n",
              "          '<a target=\"_blank\" href=https://colab.research.google.com/notebooks/data_table.ipynb>data table notebook</a>'\n",
              "          + ' to learn more about interactive tables.';\n",
              "        element.innerHTML = '';\n",
              "        dataTable['output_type'] = 'display_data';\n",
              "        await google.colab.output.renderOutput(dataTable, element);\n",
              "        const docLink = document.createElement('div');\n",
              "        docLink.innerHTML = docLinkHtml;\n",
              "        element.appendChild(docLink);\n",
              "      }\n",
              "    </script>\n",
              "  </div>\n",
              "\n",
              "\n",
              "<div id=\"df-8c405f91-ed58-416c-b985-e26a2e5d2ab9\">\n",
              "  <button class=\"colab-df-quickchart\" onclick=\"quickchart('df-8c405f91-ed58-416c-b985-e26a2e5d2ab9')\"\n",
              "            title=\"Suggest charts.\"\n",
              "            style=\"display:none;\">\n",
              "\n",
              "<svg xmlns=\"http://www.w3.org/2000/svg\" height=\"24px\"viewBox=\"0 0 24 24\"\n",
              "     width=\"24px\">\n",
              "    <g>\n",
              "        <path d=\"M19 3H5c-1.1 0-2 .9-2 2v14c0 1.1.9 2 2 2h14c1.1 0 2-.9 2-2V5c0-1.1-.9-2-2-2zM9 17H7v-7h2v7zm4 0h-2V7h2v10zm4 0h-2v-4h2v4z\"/>\n",
              "    </g>\n",
              "</svg>\n",
              "  </button>\n",
              "\n",
              "<style>\n",
              "  .colab-df-quickchart {\n",
              "    background-color: #E8F0FE;\n",
              "    border: none;\n",
              "    border-radius: 50%;\n",
              "    cursor: pointer;\n",
              "    display: none;\n",
              "    fill: #1967D2;\n",
              "    height: 32px;\n",
              "    padding: 0 0 0 0;\n",
              "    width: 32px;\n",
              "  }\n",
              "\n",
              "  .colab-df-quickchart:hover {\n",
              "    background-color: #E2EBFA;\n",
              "    box-shadow: 0px 1px 2px rgba(60, 64, 67, 0.3), 0px 1px 3px 1px rgba(60, 64, 67, 0.15);\n",
              "    fill: #174EA6;\n",
              "  }\n",
              "\n",
              "  [theme=dark] .colab-df-quickchart {\n",
              "    background-color: #3B4455;\n",
              "    fill: #D2E3FC;\n",
              "  }\n",
              "\n",
              "  [theme=dark] .colab-df-quickchart:hover {\n",
              "    background-color: #434B5C;\n",
              "    box-shadow: 0px 1px 3px 1px rgba(0, 0, 0, 0.15);\n",
              "    filter: drop-shadow(0px 1px 2px rgba(0, 0, 0, 0.3));\n",
              "    fill: #FFFFFF;\n",
              "  }\n",
              "</style>\n",
              "\n",
              "  <script>\n",
              "    async function quickchart(key) {\n",
              "      const charts = await google.colab.kernel.invokeFunction(\n",
              "          'suggestCharts', [key], {});\n",
              "    }\n",
              "    (() => {\n",
              "      let quickchartButtonEl =\n",
              "        document.querySelector('#df-8c405f91-ed58-416c-b985-e26a2e5d2ab9 button');\n",
              "      quickchartButtonEl.style.display =\n",
              "        google.colab.kernel.accessAllowed ? 'block' : 'none';\n",
              "    })();\n",
              "  </script>\n",
              "</div>\n",
              "    </div>\n",
              "  </div>\n"
            ]
          },
          "metadata": {},
          "execution_count": 244
        }
      ]
    },
    {
      "cell_type": "code",
      "source": [
        "test_x=test[\"binary_sequence\"]\n",
        "test_y=test[\"binary_sequence_lipidation\"]"
      ],
      "metadata": {
        "id": "BAtJIHR2YgHB"
      },
      "execution_count": 245,
      "outputs": []
    },
    {
      "cell_type": "code",
      "source": [
        "train = data_f.drop(data_f[(data_f.Annonation==\"experiment\")].index)\n",
        "train"
      ],
      "metadata": {
        "colab": {
          "base_uri": "https://localhost:8080/",
          "height": 615
        },
        "id": "QVFPZtCnYoEF",
        "outputId": "81b7edba-1983-4640-d8c9-c85450a47cdd"
      },
      "execution_count": 246,
      "outputs": [
        {
          "output_type": "execute_result",
          "data": {
            "text/plain": [
              "      Unnamed: 0          id  sequence_length  \\\n",
              "0              0  A0A0K8P8E7              603   \n",
              "1              1  A0A291NUG3              379   \n",
              "3              3  A0A3S5YBC7              492   \n",
              "4              4      A0R1E8             2111   \n",
              "5              5      A1A5H8              546   \n",
              "...          ...         ...              ...   \n",
              "1895        1895      Q9HGP7              278   \n",
              "1896        1896      Q9P7J9              156   \n",
              "1897        1897      Q9STH5              161   \n",
              "1898        1898      Q9SUC9              304   \n",
              "1899        1899      Q9SUV6              142   \n",
              "\n",
              "                                               sequence organism  Lipidation  \\\n",
              "0     MQTTVTTMLLASVALAACAGGGSTPLPLPQQQPPQQEPPPPPVPLA...   Others           2   \n",
              "1     MLHSSLHPSIPQPRGRRAKKAAFVLLSVCLVVLWDLGERPEHILQW...   Others           2   \n",
              "3     MRKTVVAFAAAIAACSAVLSSTTTSAAPPATPITTLQADGTHLVDG...   Others           2   \n",
              "4     MTQNCVAPVAIIGMACRLPGAINSPQQLWEALLRGDDFVTEIPTGR...   Others           2   \n",
              "5     MGCVKSKEDKGPTQKYRPDPTNPTPGSHMGLYGPDPTQMGQSPALK...   Others           2   \n",
              "...                                                 ...      ...         ...   \n",
              "1895  MSPLIVGTLIIILLSGLATAFYVTWQGRLICAGVGLILEQAYEGGQ...   Others           0   \n",
              "1896  MFGKVSSLLVFASFLIIQGAFATLVAPIGDLEHLSEIELLYTNRVL...   Others           0   \n",
              "1897  MAQTTTLILLLATLLVAATTVSGQGPHIPLAPSPSVNEAMNCAAGL...   Others           0   \n",
              "1898  MKKSLTLLILLLCSLLFSTVLSNLLVEPVQPNTVPAFPVETQAQSC...   Others           0   \n",
              "1899  MAVAVTAVLFLAVVIAPQWTETKKPPRPSDTSDTSGTSGRDRRTMC...   Others           0   \n",
              "\n",
              "     Lipidation_Position         Annonation  \\\n",
              "0                   18,     Prosite-prorule   \n",
              "1               88, 91,          similarity   \n",
              "3                   15,     Prosite-prorule   \n",
              "4                   16,     Prosite-prorule   \n",
              "5                    3,          similarity   \n",
              "...                  ...                ...   \n",
              "1895                96,   sequence analysis   \n",
              "1896               129,   sequence analysis   \n",
              "1897               138,   sequence analysis   \n",
              "1898               282,   sequence analysis   \n",
              "1899               120,   sequence analysis   \n",
              "\n",
              "                                        binary_sequence  \\\n",
              "0     [0, 0, 0, 0, 0, 0, 0, 0, 0, 0, 0, 0, 0, 0, 0, ...   \n",
              "1     [0, 0, 0, 0, 0, 0, 0, 0, 0, 0, 0, 0, 0, 0, 0, ...   \n",
              "3     [0, 0, 0, 0, 0, 0, 0, 0, 0, 0, 0, 0, 0, 0, 1, ...   \n",
              "4     [0, 0, 0, 0, 0, 0, 0, 0, 0, 0, 0, 0, 0, 0, 0, ...   \n",
              "5     [0, 0, 1, 0, 0, 0, 0, 0, 0, 0, 0, 0, 0, 0, 0, ...   \n",
              "...                                                 ...   \n",
              "1895  [0, 0, 0, 0, 0, 0, 0, 0, 0, 0, 0, 0, 0, 0, 0, ...   \n",
              "1896  [0, 0, 0, 0, 0, 0, 0, 0, 0, 0, 0, 0, 0, 0, 0, ...   \n",
              "1897  [0, 0, 0, 0, 0, 0, 0, 0, 0, 0, 0, 0, 0, 0, 0, ...   \n",
              "1898  [0, 0, 0, 0, 0, 0, 0, 0, 0, 0, 0, 0, 0, 0, 0, ...   \n",
              "1899  [0, 0, 0, 0, 0, 0, 0, 0, 0, 0, 0, 0, 0, 0, 0, ...   \n",
              "\n",
              "                             binary_sequence_lipidation  \n",
              "0     [0, 0, 0, 0, 0, 0, 0, 0, 0, 0, 0, 0, 0, 0, 0, ...  \n",
              "1     [0, 0, 0, 0, 0, 0, 0, 0, 0, 0, 0, 0, 0, 0, 0, ...  \n",
              "3     [0, 0, 0, 0, 0, 0, 0, 0, 0, 0, 0, 0, 0, 0, 2, ...  \n",
              "4     [0, 0, 0, 0, 0, 0, 0, 0, 0, 0, 0, 0, 0, 0, 0, ...  \n",
              "5     [0, 0, 2, 0, 0, 0, 0, 0, 0, 0, 0, 0, 0, 0, 0, ...  \n",
              "...                                                 ...  \n",
              "1895  [0, 0, 0, 0, 0, 0, 0, 0, 0, 0, 0, 0, 0, 0, 0, ...  \n",
              "1896  [0, 0, 0, 0, 0, 0, 0, 0, 0, 0, 0, 0, 0, 0, 0, ...  \n",
              "1897  [0, 0, 0, 0, 0, 0, 0, 0, 0, 0, 0, 0, 0, 0, 0, ...  \n",
              "1898  [0, 0, 0, 0, 0, 0, 0, 0, 0, 0, 0, 0, 0, 0, 0, ...  \n",
              "1899  [0, 0, 0, 0, 0, 0, 0, 0, 0, 0, 0, 0, 0, 0, 0, ...  \n",
              "\n",
              "[1672 rows x 10 columns]"
            ],
            "text/html": [
              "\n",
              "  <div id=\"df-c18c8d6a-6d0e-4a8e-af70-729a5ea390bc\" class=\"colab-df-container\">\n",
              "    <div>\n",
              "<style scoped>\n",
              "    .dataframe tbody tr th:only-of-type {\n",
              "        vertical-align: middle;\n",
              "    }\n",
              "\n",
              "    .dataframe tbody tr th {\n",
              "        vertical-align: top;\n",
              "    }\n",
              "\n",
              "    .dataframe thead th {\n",
              "        text-align: right;\n",
              "    }\n",
              "</style>\n",
              "<table border=\"1\" class=\"dataframe\">\n",
              "  <thead>\n",
              "    <tr style=\"text-align: right;\">\n",
              "      <th></th>\n",
              "      <th>Unnamed: 0</th>\n",
              "      <th>id</th>\n",
              "      <th>sequence_length</th>\n",
              "      <th>sequence</th>\n",
              "      <th>organism</th>\n",
              "      <th>Lipidation</th>\n",
              "      <th>Lipidation_Position</th>\n",
              "      <th>Annonation</th>\n",
              "      <th>binary_sequence</th>\n",
              "      <th>binary_sequence_lipidation</th>\n",
              "    </tr>\n",
              "  </thead>\n",
              "  <tbody>\n",
              "    <tr>\n",
              "      <th>0</th>\n",
              "      <td>0</td>\n",
              "      <td>A0A0K8P8E7</td>\n",
              "      <td>603</td>\n",
              "      <td>MQTTVTTMLLASVALAACAGGGSTPLPLPQQQPPQQEPPPPPVPLA...</td>\n",
              "      <td>Others</td>\n",
              "      <td>2</td>\n",
              "      <td>18,</td>\n",
              "      <td>Prosite-prorule</td>\n",
              "      <td>[0, 0, 0, 0, 0, 0, 0, 0, 0, 0, 0, 0, 0, 0, 0, ...</td>\n",
              "      <td>[0, 0, 0, 0, 0, 0, 0, 0, 0, 0, 0, 0, 0, 0, 0, ...</td>\n",
              "    </tr>\n",
              "    <tr>\n",
              "      <th>1</th>\n",
              "      <td>1</td>\n",
              "      <td>A0A291NUG3</td>\n",
              "      <td>379</td>\n",
              "      <td>MLHSSLHPSIPQPRGRRAKKAAFVLLSVCLVVLWDLGERPEHILQW...</td>\n",
              "      <td>Others</td>\n",
              "      <td>2</td>\n",
              "      <td>88, 91,</td>\n",
              "      <td>similarity</td>\n",
              "      <td>[0, 0, 0, 0, 0, 0, 0, 0, 0, 0, 0, 0, 0, 0, 0, ...</td>\n",
              "      <td>[0, 0, 0, 0, 0, 0, 0, 0, 0, 0, 0, 0, 0, 0, 0, ...</td>\n",
              "    </tr>\n",
              "    <tr>\n",
              "      <th>3</th>\n",
              "      <td>3</td>\n",
              "      <td>A0A3S5YBC7</td>\n",
              "      <td>492</td>\n",
              "      <td>MRKTVVAFAAAIAACSAVLSSTTTSAAPPATPITTLQADGTHLVDG...</td>\n",
              "      <td>Others</td>\n",
              "      <td>2</td>\n",
              "      <td>15,</td>\n",
              "      <td>Prosite-prorule</td>\n",
              "      <td>[0, 0, 0, 0, 0, 0, 0, 0, 0, 0, 0, 0, 0, 0, 1, ...</td>\n",
              "      <td>[0, 0, 0, 0, 0, 0, 0, 0, 0, 0, 0, 0, 0, 0, 2, ...</td>\n",
              "    </tr>\n",
              "    <tr>\n",
              "      <th>4</th>\n",
              "      <td>4</td>\n",
              "      <td>A0R1E8</td>\n",
              "      <td>2111</td>\n",
              "      <td>MTQNCVAPVAIIGMACRLPGAINSPQQLWEALLRGDDFVTEIPTGR...</td>\n",
              "      <td>Others</td>\n",
              "      <td>2</td>\n",
              "      <td>16,</td>\n",
              "      <td>Prosite-prorule</td>\n",
              "      <td>[0, 0, 0, 0, 0, 0, 0, 0, 0, 0, 0, 0, 0, 0, 0, ...</td>\n",
              "      <td>[0, 0, 0, 0, 0, 0, 0, 0, 0, 0, 0, 0, 0, 0, 0, ...</td>\n",
              "    </tr>\n",
              "    <tr>\n",
              "      <th>5</th>\n",
              "      <td>5</td>\n",
              "      <td>A1A5H8</td>\n",
              "      <td>546</td>\n",
              "      <td>MGCVKSKEDKGPTQKYRPDPTNPTPGSHMGLYGPDPTQMGQSPALK...</td>\n",
              "      <td>Others</td>\n",
              "      <td>2</td>\n",
              "      <td>3,</td>\n",
              "      <td>similarity</td>\n",
              "      <td>[0, 0, 1, 0, 0, 0, 0, 0, 0, 0, 0, 0, 0, 0, 0, ...</td>\n",
              "      <td>[0, 0, 2, 0, 0, 0, 0, 0, 0, 0, 0, 0, 0, 0, 0, ...</td>\n",
              "    </tr>\n",
              "    <tr>\n",
              "      <th>...</th>\n",
              "      <td>...</td>\n",
              "      <td>...</td>\n",
              "      <td>...</td>\n",
              "      <td>...</td>\n",
              "      <td>...</td>\n",
              "      <td>...</td>\n",
              "      <td>...</td>\n",
              "      <td>...</td>\n",
              "      <td>...</td>\n",
              "      <td>...</td>\n",
              "    </tr>\n",
              "    <tr>\n",
              "      <th>1895</th>\n",
              "      <td>1895</td>\n",
              "      <td>Q9HGP7</td>\n",
              "      <td>278</td>\n",
              "      <td>MSPLIVGTLIIILLSGLATAFYVTWQGRLICAGVGLILEQAYEGGQ...</td>\n",
              "      <td>Others</td>\n",
              "      <td>0</td>\n",
              "      <td>96,</td>\n",
              "      <td>sequence analysis</td>\n",
              "      <td>[0, 0, 0, 0, 0, 0, 0, 0, 0, 0, 0, 0, 0, 0, 0, ...</td>\n",
              "      <td>[0, 0, 0, 0, 0, 0, 0, 0, 0, 0, 0, 0, 0, 0, 0, ...</td>\n",
              "    </tr>\n",
              "    <tr>\n",
              "      <th>1896</th>\n",
              "      <td>1896</td>\n",
              "      <td>Q9P7J9</td>\n",
              "      <td>156</td>\n",
              "      <td>MFGKVSSLLVFASFLIIQGAFATLVAPIGDLEHLSEIELLYTNRVL...</td>\n",
              "      <td>Others</td>\n",
              "      <td>0</td>\n",
              "      <td>129,</td>\n",
              "      <td>sequence analysis</td>\n",
              "      <td>[0, 0, 0, 0, 0, 0, 0, 0, 0, 0, 0, 0, 0, 0, 0, ...</td>\n",
              "      <td>[0, 0, 0, 0, 0, 0, 0, 0, 0, 0, 0, 0, 0, 0, 0, ...</td>\n",
              "    </tr>\n",
              "    <tr>\n",
              "      <th>1897</th>\n",
              "      <td>1897</td>\n",
              "      <td>Q9STH5</td>\n",
              "      <td>161</td>\n",
              "      <td>MAQTTTLILLLATLLVAATTVSGQGPHIPLAPSPSVNEAMNCAAGL...</td>\n",
              "      <td>Others</td>\n",
              "      <td>0</td>\n",
              "      <td>138,</td>\n",
              "      <td>sequence analysis</td>\n",
              "      <td>[0, 0, 0, 0, 0, 0, 0, 0, 0, 0, 0, 0, 0, 0, 0, ...</td>\n",
              "      <td>[0, 0, 0, 0, 0, 0, 0, 0, 0, 0, 0, 0, 0, 0, 0, ...</td>\n",
              "    </tr>\n",
              "    <tr>\n",
              "      <th>1898</th>\n",
              "      <td>1898</td>\n",
              "      <td>Q9SUC9</td>\n",
              "      <td>304</td>\n",
              "      <td>MKKSLTLLILLLCSLLFSTVLSNLLVEPVQPNTVPAFPVETQAQSC...</td>\n",
              "      <td>Others</td>\n",
              "      <td>0</td>\n",
              "      <td>282,</td>\n",
              "      <td>sequence analysis</td>\n",
              "      <td>[0, 0, 0, 0, 0, 0, 0, 0, 0, 0, 0, 0, 0, 0, 0, ...</td>\n",
              "      <td>[0, 0, 0, 0, 0, 0, 0, 0, 0, 0, 0, 0, 0, 0, 0, ...</td>\n",
              "    </tr>\n",
              "    <tr>\n",
              "      <th>1899</th>\n",
              "      <td>1899</td>\n",
              "      <td>Q9SUV6</td>\n",
              "      <td>142</td>\n",
              "      <td>MAVAVTAVLFLAVVIAPQWTETKKPPRPSDTSDTSGTSGRDRRTMC...</td>\n",
              "      <td>Others</td>\n",
              "      <td>0</td>\n",
              "      <td>120,</td>\n",
              "      <td>sequence analysis</td>\n",
              "      <td>[0, 0, 0, 0, 0, 0, 0, 0, 0, 0, 0, 0, 0, 0, 0, ...</td>\n",
              "      <td>[0, 0, 0, 0, 0, 0, 0, 0, 0, 0, 0, 0, 0, 0, 0, ...</td>\n",
              "    </tr>\n",
              "  </tbody>\n",
              "</table>\n",
              "<p>1672 rows × 10 columns</p>\n",
              "</div>\n",
              "    <div class=\"colab-df-buttons\">\n",
              "\n",
              "  <div class=\"colab-df-container\">\n",
              "    <button class=\"colab-df-convert\" onclick=\"convertToInteractive('df-c18c8d6a-6d0e-4a8e-af70-729a5ea390bc')\"\n",
              "            title=\"Convert this dataframe to an interactive table.\"\n",
              "            style=\"display:none;\">\n",
              "\n",
              "  <svg xmlns=\"http://www.w3.org/2000/svg\" height=\"24px\" viewBox=\"0 -960 960 960\">\n",
              "    <path d=\"M120-120v-720h720v720H120Zm60-500h600v-160H180v160Zm220 220h160v-160H400v160Zm0 220h160v-160H400v160ZM180-400h160v-160H180v160Zm440 0h160v-160H620v160ZM180-180h160v-160H180v160Zm440 0h160v-160H620v160Z\"/>\n",
              "  </svg>\n",
              "    </button>\n",
              "\n",
              "  <style>\n",
              "    .colab-df-container {\n",
              "      display:flex;\n",
              "      gap: 12px;\n",
              "    }\n",
              "\n",
              "    .colab-df-convert {\n",
              "      background-color: #E8F0FE;\n",
              "      border: none;\n",
              "      border-radius: 50%;\n",
              "      cursor: pointer;\n",
              "      display: none;\n",
              "      fill: #1967D2;\n",
              "      height: 32px;\n",
              "      padding: 0 0 0 0;\n",
              "      width: 32px;\n",
              "    }\n",
              "\n",
              "    .colab-df-convert:hover {\n",
              "      background-color: #E2EBFA;\n",
              "      box-shadow: 0px 1px 2px rgba(60, 64, 67, 0.3), 0px 1px 3px 1px rgba(60, 64, 67, 0.15);\n",
              "      fill: #174EA6;\n",
              "    }\n",
              "\n",
              "    .colab-df-buttons div {\n",
              "      margin-bottom: 4px;\n",
              "    }\n",
              "\n",
              "    [theme=dark] .colab-df-convert {\n",
              "      background-color: #3B4455;\n",
              "      fill: #D2E3FC;\n",
              "    }\n",
              "\n",
              "    [theme=dark] .colab-df-convert:hover {\n",
              "      background-color: #434B5C;\n",
              "      box-shadow: 0px 1px 3px 1px rgba(0, 0, 0, 0.15);\n",
              "      filter: drop-shadow(0px 1px 2px rgba(0, 0, 0, 0.3));\n",
              "      fill: #FFFFFF;\n",
              "    }\n",
              "  </style>\n",
              "\n",
              "    <script>\n",
              "      const buttonEl =\n",
              "        document.querySelector('#df-c18c8d6a-6d0e-4a8e-af70-729a5ea390bc button.colab-df-convert');\n",
              "      buttonEl.style.display =\n",
              "        google.colab.kernel.accessAllowed ? 'block' : 'none';\n",
              "\n",
              "      async function convertToInteractive(key) {\n",
              "        const element = document.querySelector('#df-c18c8d6a-6d0e-4a8e-af70-729a5ea390bc');\n",
              "        const dataTable =\n",
              "          await google.colab.kernel.invokeFunction('convertToInteractive',\n",
              "                                                    [key], {});\n",
              "        if (!dataTable) return;\n",
              "\n",
              "        const docLinkHtml = 'Like what you see? Visit the ' +\n",
              "          '<a target=\"_blank\" href=https://colab.research.google.com/notebooks/data_table.ipynb>data table notebook</a>'\n",
              "          + ' to learn more about interactive tables.';\n",
              "        element.innerHTML = '';\n",
              "        dataTable['output_type'] = 'display_data';\n",
              "        await google.colab.output.renderOutput(dataTable, element);\n",
              "        const docLink = document.createElement('div');\n",
              "        docLink.innerHTML = docLinkHtml;\n",
              "        element.appendChild(docLink);\n",
              "      }\n",
              "    </script>\n",
              "  </div>\n",
              "\n",
              "\n",
              "<div id=\"df-a060f6d7-b4cd-4d45-a7d9-cf6378394f9b\">\n",
              "  <button class=\"colab-df-quickchart\" onclick=\"quickchart('df-a060f6d7-b4cd-4d45-a7d9-cf6378394f9b')\"\n",
              "            title=\"Suggest charts.\"\n",
              "            style=\"display:none;\">\n",
              "\n",
              "<svg xmlns=\"http://www.w3.org/2000/svg\" height=\"24px\"viewBox=\"0 0 24 24\"\n",
              "     width=\"24px\">\n",
              "    <g>\n",
              "        <path d=\"M19 3H5c-1.1 0-2 .9-2 2v14c0 1.1.9 2 2 2h14c1.1 0 2-.9 2-2V5c0-1.1-.9-2-2-2zM9 17H7v-7h2v7zm4 0h-2V7h2v10zm4 0h-2v-4h2v4z\"/>\n",
              "    </g>\n",
              "</svg>\n",
              "  </button>\n",
              "\n",
              "<style>\n",
              "  .colab-df-quickchart {\n",
              "    background-color: #E8F0FE;\n",
              "    border: none;\n",
              "    border-radius: 50%;\n",
              "    cursor: pointer;\n",
              "    display: none;\n",
              "    fill: #1967D2;\n",
              "    height: 32px;\n",
              "    padding: 0 0 0 0;\n",
              "    width: 32px;\n",
              "  }\n",
              "\n",
              "  .colab-df-quickchart:hover {\n",
              "    background-color: #E2EBFA;\n",
              "    box-shadow: 0px 1px 2px rgba(60, 64, 67, 0.3), 0px 1px 3px 1px rgba(60, 64, 67, 0.15);\n",
              "    fill: #174EA6;\n",
              "  }\n",
              "\n",
              "  [theme=dark] .colab-df-quickchart {\n",
              "    background-color: #3B4455;\n",
              "    fill: #D2E3FC;\n",
              "  }\n",
              "\n",
              "  [theme=dark] .colab-df-quickchart:hover {\n",
              "    background-color: #434B5C;\n",
              "    box-shadow: 0px 1px 3px 1px rgba(0, 0, 0, 0.15);\n",
              "    filter: drop-shadow(0px 1px 2px rgba(0, 0, 0, 0.3));\n",
              "    fill: #FFFFFF;\n",
              "  }\n",
              "</style>\n",
              "\n",
              "  <script>\n",
              "    async function quickchart(key) {\n",
              "      const charts = await google.colab.kernel.invokeFunction(\n",
              "          'suggestCharts', [key], {});\n",
              "    }\n",
              "    (() => {\n",
              "      let quickchartButtonEl =\n",
              "        document.querySelector('#df-a060f6d7-b4cd-4d45-a7d9-cf6378394f9b button');\n",
              "      quickchartButtonEl.style.display =\n",
              "        google.colab.kernel.accessAllowed ? 'block' : 'none';\n",
              "    })();\n",
              "  </script>\n",
              "</div>\n",
              "    </div>\n",
              "  </div>\n"
            ]
          },
          "metadata": {},
          "execution_count": 246
        }
      ]
    },
    {
      "cell_type": "code",
      "source": [
        "train_dataset_X=train['binary_sequence']\n",
        "train_dataset_y=train['binary_sequence_lipidation']"
      ],
      "metadata": {
        "id": "LgD54KfyYtUO"
      },
      "execution_count": 247,
      "outputs": []
    },
    {
      "cell_type": "code",
      "source": [
        "from torch import Tensor\n",
        "import torch\n",
        "import numpy as np\n",
        "from torch.utils.data import TensorDataset, DataLoader"
      ],
      "metadata": {
        "id": "8-OLxtqjY3bz"
      },
      "execution_count": 248,
      "outputs": []
    },
    {
      "cell_type": "code",
      "source": [
        "def ints_to_tensor(ints):\n",
        "  if isinstance(ints,torch.Tensor):\n",
        "    return ints\n",
        "  if isinstance(ints[0],int):\n",
        "    return torch.LongTensor(ints)\n",
        "  if isinstance(ints[0],torch.Tensor):\n",
        "    return pad_tensors(ints)\n",
        "  if isinstance(ints[0],list):\n",
        "    return ints_to_tensor([ints_to_tensor(inti) for inti in ints])"
      ],
      "metadata": {
        "id": "vRNcIkhxY6wD"
      },
      "execution_count": 249,
      "outputs": []
    },
    {
      "cell_type": "code",
      "source": [
        "def pad_tensors(tensors):\n",
        "  rep=tensors[0]\n",
        "  padded_dim=[]\n",
        "  for dim in range(rep.dim()):\n",
        "    max_dim=max([tensor.size(dim) for tensor in tensors])\n",
        "    padded_dim.append(max_dim)\n",
        "  padded_dim=[len(tensors)]+padded_dim\n",
        "  padded_tensor=torch.zeros(padded_dim)\n",
        "  padded_tensor=padded_tensor.type_as(rep)\n",
        "  for i, tensor in enumerate(tensors):\n",
        "    size=list(tensor.size())\n",
        "    if len(size)==1:\n",
        "      padded_tensor[i, :size[0]]=tensor\n",
        "    elif len(size)==2:\n",
        "      padded_tensor[i, :size[0], :size[1]]=tensor\n",
        "    elif len(size)==3:\n",
        "      padded_tensor[i, :size[0], :size[1], :size[2]]=tensor\n",
        "    else:\n",
        "      raise ValueError('padding is......')\n",
        "  return padded_tensor\n"
      ],
      "metadata": {
        "id": "HI_ZOkN-Y9uf"
      },
      "execution_count": 250,
      "outputs": []
    },
    {
      "cell_type": "code",
      "source": [
        "X_t_train=ints_to_tensor(train_dataset_X)\n",
        "X_t_train"
      ],
      "metadata": {
        "colab": {
          "base_uri": "https://localhost:8080/"
        },
        "id": "ZKtay_eZZBjb",
        "outputId": "c73b9338-ea47-46fc-8845-5aca37f627af"
      },
      "execution_count": 251,
      "outputs": [
        {
          "output_type": "execute_result",
          "data": {
            "text/plain": [
              "tensor([[0, 0, 0,  ..., 0, 0, 0],\n",
              "        [0, 0, 0,  ..., 0, 0, 0],\n",
              "        [0, 0, 0,  ..., 0, 0, 0],\n",
              "        ...,\n",
              "        [0, 0, 0,  ..., 0, 0, 0],\n",
              "        [0, 0, 0,  ..., 0, 0, 0],\n",
              "        [0, 0, 0,  ..., 0, 0, 0]])"
            ]
          },
          "metadata": {},
          "execution_count": 251
        }
      ]
    },
    {
      "cell_type": "code",
      "source": [
        "X_t_train = X_t_train.to(torch.float32)\n",
        "X_t_train"
      ],
      "metadata": {
        "colab": {
          "base_uri": "https://localhost:8080/"
        },
        "id": "SETYd2mpZGQf",
        "outputId": "5a6746f7-7370-4104-d346-98e066d4f30e"
      },
      "execution_count": 252,
      "outputs": [
        {
          "output_type": "execute_result",
          "data": {
            "text/plain": [
              "tensor([[0., 0., 0.,  ..., 0., 0., 0.],\n",
              "        [0., 0., 0.,  ..., 0., 0., 0.],\n",
              "        [0., 0., 0.,  ..., 0., 0., 0.],\n",
              "        ...,\n",
              "        [0., 0., 0.,  ..., 0., 0., 0.],\n",
              "        [0., 0., 0.,  ..., 0., 0., 0.],\n",
              "        [0., 0., 0.,  ..., 0., 0., 0.]])"
            ]
          },
          "metadata": {},
          "execution_count": 252
        }
      ]
    },
    {
      "cell_type": "code",
      "source": [
        "y_t_train=ints_to_tensor(train_dataset_y)\n",
        "y_t_train"
      ],
      "metadata": {
        "colab": {
          "base_uri": "https://localhost:8080/"
        },
        "id": "yuCjItNqZKEj",
        "outputId": "ec02ad0c-e535-4751-f80f-c765c0774445"
      },
      "execution_count": 253,
      "outputs": [
        {
          "output_type": "execute_result",
          "data": {
            "text/plain": [
              "tensor([[0, 0, 0,  ..., 0, 0, 0],\n",
              "        [0, 0, 0,  ..., 0, 0, 0],\n",
              "        [0, 0, 0,  ..., 0, 0, 0],\n",
              "        ...,\n",
              "        [0, 0, 0,  ..., 0, 0, 0],\n",
              "        [0, 0, 0,  ..., 0, 0, 0],\n",
              "        [0, 0, 0,  ..., 0, 0, 0]])"
            ]
          },
          "metadata": {},
          "execution_count": 253
        }
      ]
    },
    {
      "cell_type": "code",
      "source": [
        "y_t_train = y_t_train.to(torch.float32)\n",
        "y_t_train"
      ],
      "metadata": {
        "colab": {
          "base_uri": "https://localhost:8080/"
        },
        "id": "A2y38PSEZWk2",
        "outputId": "b7bef153-4485-412a-a910-e575253a07de"
      },
      "execution_count": 254,
      "outputs": [
        {
          "output_type": "execute_result",
          "data": {
            "text/plain": [
              "tensor([[0., 0., 0.,  ..., 0., 0., 0.],\n",
              "        [0., 0., 0.,  ..., 0., 0., 0.],\n",
              "        [0., 0., 0.,  ..., 0., 0., 0.],\n",
              "        ...,\n",
              "        [0., 0., 0.,  ..., 0., 0., 0.],\n",
              "        [0., 0., 0.,  ..., 0., 0., 0.],\n",
              "        [0., 0., 0.,  ..., 0., 0., 0.]])"
            ]
          },
          "metadata": {},
          "execution_count": 254
        }
      ]
    },
    {
      "cell_type": "code",
      "source": [
        "test_x = torch.LongTensor(list(map(lambda x: x + [0] * (max(map(len, test_x)) - len(x)), test_x)))"
      ],
      "metadata": {
        "id": "px9M0wVcZbVu"
      },
      "execution_count": 255,
      "outputs": []
    },
    {
      "cell_type": "code",
      "source": [
        "test_x"
      ],
      "metadata": {
        "colab": {
          "base_uri": "https://localhost:8080/"
        },
        "id": "k-2ch3RMZlQo",
        "outputId": "9737728e-b01d-47b1-a45e-efc6a46d203e"
      },
      "execution_count": 256,
      "outputs": [
        {
          "output_type": "execute_result",
          "data": {
            "text/plain": [
              "tensor([[0, 0, 0,  ..., 0, 0, 0],\n",
              "        [0, 0, 0,  ..., 0, 0, 0],\n",
              "        [0, 0, 1,  ..., 0, 0, 0],\n",
              "        ...,\n",
              "        [0, 0, 0,  ..., 0, 0, 0],\n",
              "        [0, 0, 0,  ..., 0, 0, 0],\n",
              "        [0, 0, 0,  ..., 0, 0, 0]])"
            ]
          },
          "metadata": {},
          "execution_count": 256
        }
      ]
    },
    {
      "cell_type": "code",
      "source": [
        "X_test = test_x.to(torch.float32)\n",
        "X_test"
      ],
      "metadata": {
        "colab": {
          "base_uri": "https://localhost:8080/"
        },
        "id": "nehLpn5mZmyR",
        "outputId": "8e3ff8a1-474e-4f69-ab1a-f7b03fe41987"
      },
      "execution_count": 257,
      "outputs": [
        {
          "output_type": "execute_result",
          "data": {
            "text/plain": [
              "tensor([[0., 0., 0.,  ..., 0., 0., 0.],\n",
              "        [0., 0., 0.,  ..., 0., 0., 0.],\n",
              "        [0., 0., 1.,  ..., 0., 0., 0.],\n",
              "        ...,\n",
              "        [0., 0., 0.,  ..., 0., 0., 0.],\n",
              "        [0., 0., 0.,  ..., 0., 0., 0.],\n",
              "        [0., 0., 0.,  ..., 0., 0., 0.]])"
            ]
          },
          "metadata": {},
          "execution_count": 257
        }
      ]
    },
    {
      "cell_type": "code",
      "source": [
        "test_y = torch.LongTensor(list(map(lambda x: x + [0] * (max(map(len, test_y)) - len(x)), test_y)))\n",
        "test_y"
      ],
      "metadata": {
        "colab": {
          "base_uri": "https://localhost:8080/"
        },
        "id": "0Ctm0rawZwnY",
        "outputId": "38e555d5-c952-4251-c9b6-aebc97fefe21"
      },
      "execution_count": 258,
      "outputs": [
        {
          "output_type": "execute_result",
          "data": {
            "text/plain": [
              "tensor([[0, 0, 0,  ..., 0, 0, 0],\n",
              "        [0, 0, 0,  ..., 0, 0, 0],\n",
              "        [0, 0, 2,  ..., 0, 0, 0],\n",
              "        ...,\n",
              "        [0, 0, 0,  ..., 0, 0, 0],\n",
              "        [0, 0, 0,  ..., 0, 0, 0],\n",
              "        [0, 0, 0,  ..., 0, 0, 0]])"
            ]
          },
          "metadata": {},
          "execution_count": 258
        }
      ]
    },
    {
      "cell_type": "code",
      "source": [
        "y_test = test_y.to(torch.float32)\n",
        "y_test"
      ],
      "metadata": {
        "colab": {
          "base_uri": "https://localhost:8080/"
        },
        "id": "Hk16E9fwZ7Hm",
        "outputId": "a78587d7-b498-4480-b02e-c0a4879657d3"
      },
      "execution_count": 259,
      "outputs": [
        {
          "output_type": "execute_result",
          "data": {
            "text/plain": [
              "tensor([[0., 0., 0.,  ..., 0., 0., 0.],\n",
              "        [0., 0., 0.,  ..., 0., 0., 0.],\n",
              "        [0., 0., 2.,  ..., 0., 0., 0.],\n",
              "        ...,\n",
              "        [0., 0., 0.,  ..., 0., 0., 0.],\n",
              "        [0., 0., 0.,  ..., 0., 0., 0.],\n",
              "        [0., 0., 0.,  ..., 0., 0., 0.]])"
            ]
          },
          "metadata": {},
          "execution_count": 259
        }
      ]
    },
    {
      "cell_type": "code",
      "source": [
        "from sklearn.model_selection import train_test_split\n",
        "X_train,X_val,y_train,y_val=train_test_split(X_t_train,y_t_train,test_size=0.1,random_state=8)"
      ],
      "metadata": {
        "id": "_7IFeGvpaAs-"
      },
      "execution_count": 260,
      "outputs": []
    },
    {
      "cell_type": "code",
      "source": [
        "X_train"
      ],
      "metadata": {
        "colab": {
          "base_uri": "https://localhost:8080/"
        },
        "id": "J2xYMwGFb0QD",
        "outputId": "f7f54b6b-d902-41ad-b498-43ac35b98cda"
      },
      "execution_count": 261,
      "outputs": [
        {
          "output_type": "execute_result",
          "data": {
            "text/plain": [
              "tensor([[0., 0., 0.,  ..., 0., 0., 0.],\n",
              "        [0., 0., 0.,  ..., 0., 0., 0.],\n",
              "        [0., 1., 0.,  ..., 0., 0., 0.],\n",
              "        ...,\n",
              "        [0., 0., 0.,  ..., 0., 0., 0.],\n",
              "        [0., 0., 0.,  ..., 0., 0., 0.],\n",
              "        [0., 0., 0.,  ..., 0., 0., 0.]])"
            ]
          },
          "metadata": {},
          "execution_count": 261
        }
      ]
    },
    {
      "cell_type": "code",
      "source": [
        "X_val"
      ],
      "metadata": {
        "colab": {
          "base_uri": "https://localhost:8080/"
        },
        "id": "ToAy57opb_2y",
        "outputId": "9675d1e8-ac6c-42d0-abc5-953d9baeb8d4"
      },
      "execution_count": 262,
      "outputs": [
        {
          "output_type": "execute_result",
          "data": {
            "text/plain": [
              "tensor([[0., 0., 0.,  ..., 0., 0., 0.],\n",
              "        [0., 0., 0.,  ..., 0., 0., 0.],\n",
              "        [0., 0., 0.,  ..., 0., 0., 0.],\n",
              "        ...,\n",
              "        [0., 0., 0.,  ..., 0., 0., 0.],\n",
              "        [0., 0., 0.,  ..., 0., 0., 0.],\n",
              "        [0., 0., 0.,  ..., 0., 0., 0.]])"
            ]
          },
          "metadata": {},
          "execution_count": 262
        }
      ]
    },
    {
      "cell_type": "code",
      "source": [
        "y_train"
      ],
      "metadata": {
        "colab": {
          "base_uri": "https://localhost:8080/"
        },
        "id": "3V4b5Z1scA4_",
        "outputId": "3587b3b3-afdd-4c03-8cc1-b100c98094e8"
      },
      "execution_count": 263,
      "outputs": [
        {
          "output_type": "execute_result",
          "data": {
            "text/plain": [
              "tensor([[0., 0., 0.,  ..., 0., 0., 0.],\n",
              "        [0., 0., 0.,  ..., 0., 0., 0.],\n",
              "        [0., 1., 0.,  ..., 0., 0., 0.],\n",
              "        ...,\n",
              "        [0., 0., 0.,  ..., 0., 0., 0.],\n",
              "        [0., 0., 0.,  ..., 0., 0., 0.],\n",
              "        [0., 0., 0.,  ..., 0., 0., 0.]])"
            ]
          },
          "metadata": {},
          "execution_count": 263
        }
      ]
    },
    {
      "cell_type": "code",
      "source": [
        "y_val"
      ],
      "metadata": {
        "colab": {
          "base_uri": "https://localhost:8080/"
        },
        "id": "OK-NZNH1cC02",
        "outputId": "c8aa4b88-cefd-4b6e-cddf-1c9757acbb8c"
      },
      "execution_count": 264,
      "outputs": [
        {
          "output_type": "execute_result",
          "data": {
            "text/plain": [
              "tensor([[0., 0., 0.,  ..., 0., 0., 0.],\n",
              "        [0., 0., 0.,  ..., 0., 0., 0.],\n",
              "        [0., 0., 0.,  ..., 0., 0., 0.],\n",
              "        ...,\n",
              "        [0., 0., 0.,  ..., 0., 0., 0.],\n",
              "        [0., 0., 0.,  ..., 0., 0., 0.],\n",
              "        [0., 0., 0.,  ..., 0., 0., 0.]])"
            ]
          },
          "metadata": {},
          "execution_count": 264
        }
      ]
    },
    {
      "cell_type": "code",
      "source": [
        "from torch.utils.data import Dataset, DataLoader, WeightedRandomSampler"
      ],
      "metadata": {
        "id": "A9ZU4KNCcDy-"
      },
      "execution_count": 265,
      "outputs": []
    },
    {
      "cell_type": "code",
      "source": [
        "###class weighting\n",
        "labels_unique,counts=np.unique(train['Lipidation'],return_counts=True)\n",
        "print(\"Unique labels: {}\".format(labels_unique))"
      ],
      "metadata": {
        "colab": {
          "base_uri": "https://localhost:8080/"
        },
        "id": "EdTv5-i8cKOE",
        "outputId": "18dd1c37-8320-4920-c29d-863a8dba2c91"
      },
      "execution_count": 266,
      "outputs": [
        {
          "output_type": "stream",
          "name": "stdout",
          "text": [
            "Unique labels: [0 1 2 3]\n"
          ]
        }
      ]
    },
    {
      "cell_type": "code",
      "source": [
        "class_weights = 1./torch.tensor(counts,dtype=torch.float32)\n",
        "class_weights"
      ],
      "metadata": {
        "colab": {
          "base_uri": "https://localhost:8080/"
        },
        "id": "s0UrTCIhcNJj",
        "outputId": "54eb34d9-ef97-4dec-9fff-04032e715d82"
      },
      "execution_count": 267,
      "outputs": [
        {
          "output_type": "execute_result",
          "data": {
            "text/plain": [
              "tensor([0.0024, 0.0047, 0.0011, 0.0068])"
            ]
          },
          "metadata": {},
          "execution_count": 267
        }
      ]
    },
    {
      "cell_type": "code",
      "source": [
        "weighted_sampler = WeightedRandomSampler(\n",
        "    weights=class_weights,\n",
        "    num_samples=len(class_weights),\n",
        "    replacement=True\n",
        ")"
      ],
      "metadata": {
        "id": "gZ2ttZ4DcQRS"
      },
      "execution_count": 268,
      "outputs": []
    },
    {
      "cell_type": "code",
      "source": [
        "class ClassifierDataset(Dataset):\n",
        "\n",
        "    def __init__(self, X_data, y_data):\n",
        "        self.X_data = X_data\n",
        "        self.y_data = y_data\n",
        "    def __getitem__(self, index):\n",
        "        return self.X_data[index], self.y_data[index]\n",
        "\n",
        "    def __len__ (self):\n",
        "        return len(self.X_data)\n",
        "\n",
        "\n",
        "train_dataset = ClassifierDataset(X_train,y_train)\n",
        "val_dataset=ClassifierDataset(X_val,y_val)\n",
        "test_dataset=ClassifierDataset(X_test,y_test)"
      ],
      "metadata": {
        "id": "torsQ1xlcTTh"
      },
      "execution_count": 269,
      "outputs": []
    },
    {
      "cell_type": "code",
      "source": [
        "EPOCHS = 300\n",
        "BATCH_SIZE = 64\n",
        "LEARNING_RATE = 0.01\n",
        "NUM_FEATURES = 1\n",
        "NUM_CLASSES = 5"
      ],
      "metadata": {
        "id": "2XBwmbDnccAf"
      },
      "execution_count": 270,
      "outputs": []
    },
    {
      "cell_type": "code",
      "source": [
        "train_loader = DataLoader(dataset=train_dataset,\n",
        "                          batch_size=BATCH_SIZE,\n",
        "                          sampler=weighted_sampler\n",
        ")"
      ],
      "metadata": {
        "id": "z5xDB_RCeODt"
      },
      "execution_count": 271,
      "outputs": []
    },
    {
      "cell_type": "code",
      "source": [
        "val_loader=DataLoader(dataset=val_dataset,batch_size=BATCH_SIZE,sampler=weighted_sampler)\n",
        "test_loader=DataLoader(dataset=test_dataset,batch_size=BATCH_SIZE,sampler=weighted_sampler)"
      ],
      "metadata": {
        "id": "oaeNzZpDhpT2"
      },
      "execution_count": 274,
      "outputs": []
    },
    {
      "cell_type": "code",
      "source": [
        "device = torch.device(\"cuda:0\" if torch.cuda.is_available() else \"cpu\")\n",
        "print(device)"
      ],
      "metadata": {
        "colab": {
          "base_uri": "https://localhost:8080/"
        },
        "id": "1CKjQIEveY6D",
        "outputId": "90a744d9-6c0b-4606-e226-2f4cbe9558b1"
      },
      "execution_count": 275,
      "outputs": [
        {
          "output_type": "stream",
          "name": "stdout",
          "text": [
            "cpu\n"
          ]
        }
      ]
    },
    {
      "cell_type": "code",
      "source": [
        "import torch\n",
        "print(torch.Tensor(1).dtype)"
      ],
      "metadata": {
        "colab": {
          "base_uri": "https://localhost:8080/"
        },
        "id": "t8fEP9-aec7s",
        "outputId": "058ea900-6cac-4ffb-c704-802e65d617e4"
      },
      "execution_count": 276,
      "outputs": [
        {
          "output_type": "stream",
          "name": "stdout",
          "text": [
            "torch.float32\n"
          ]
        }
      ]
    },
    {
      "cell_type": "code",
      "source": [
        "import torch.nn as nn\n",
        "import torch.optim as optim"
      ],
      "metadata": {
        "id": "VwxmyAiEee3F"
      },
      "execution_count": 277,
      "outputs": []
    },
    {
      "cell_type": "code",
      "source": [
        "class FeedforwardNeuralNetModel(nn.Module):\n",
        "    def __init__(self, input_dim, hidden_dim, output_dim):\n",
        "        super(FeedforwardNeuralNetModel, self).__init__()\n",
        "        # Linear function\n",
        "        self.fc1 = nn.Linear(input_dim, hidden_dim)\n",
        "        # Non-linearity\n",
        "        self.tanh = nn.Tanh()\n",
        "        self.relu = nn.ReLU()\n",
        "        # Linear function (readout)\n",
        "        self.fc2 = nn.Linear(hidden_dim, output_dim)\n",
        "\n",
        "    def forward(self, x):\n",
        "        # Linear function\n",
        "        out = self.fc1(x)\n",
        "        # Non-linearity\n",
        "        out = self.tanh(out)\n",
        "        out=self.relu(out)\n",
        "        # Linear function (readout)\n",
        "        out = self.fc2(out)\n",
        "        return out\n",
        "'''\n",
        "STEP 4: INSTANTIATE MODEL CLASS\n",
        "'''\n",
        "input_dim = 3971\n",
        "hidden_dim = 100\n",
        "output_dim = 5\n",
        "\n",
        "model_n = FeedforwardNeuralNetModel(input_dim, hidden_dim, output_dim)"
      ],
      "metadata": {
        "id": "9g7XVH2-ehJ5"
      },
      "execution_count": 278,
      "outputs": []
    },
    {
      "cell_type": "code",
      "source": [
        "model_n.to(device)\n",
        "\n",
        "criterion = nn.CrossEntropyLoss()\n",
        "optimizer = optim.Adam(model_n.parameters(), lr=LEARNING_RATE)\n",
        "print(model_n)\n"
      ],
      "metadata": {
        "colab": {
          "base_uri": "https://localhost:8080/"
        },
        "id": "n8AWk3Mbenhy",
        "outputId": "b25f82ee-3606-4bc1-9f22-11a2e2387432"
      },
      "execution_count": 279,
      "outputs": [
        {
          "output_type": "stream",
          "name": "stdout",
          "text": [
            "FeedforwardNeuralNetModel(\n",
            "  (fc1): Linear(in_features=3971, out_features=100, bias=True)\n",
            "  (tanh): Tanh()\n",
            "  (relu): ReLU()\n",
            "  (fc2): Linear(in_features=100, out_features=5, bias=True)\n",
            ")\n"
          ]
        }
      ]
    },
    {
      "cell_type": "code",
      "source": [
        "for X_train_batch,y_train_batch in train_loader:\n",
        "    print(X_train_batch.to(device))"
      ],
      "metadata": {
        "colab": {
          "base_uri": "https://localhost:8080/"
        },
        "id": "k0HJO2zPe2mt",
        "outputId": "3bd681fd-bc7a-4a04-ccb4-dd27df9c0ca2"
      },
      "execution_count": 280,
      "outputs": [
        {
          "output_type": "stream",
          "name": "stdout",
          "text": [
            "tensor([[0., 1., 1.,  ..., 0., 0., 0.],\n",
            "        [0., 1., 1.,  ..., 0., 0., 0.],\n",
            "        [0., 1., 1.,  ..., 0., 0., 0.],\n",
            "        [0., 1., 1.,  ..., 0., 0., 0.]])\n"
          ]
        }
      ]
    },
    {
      "cell_type": "code",
      "source": [
        "X_train_batch.size(dim=1)"
      ],
      "metadata": {
        "colab": {
          "base_uri": "https://localhost:8080/"
        },
        "id": "-tMhWQQpN4Hk",
        "outputId": "7346c0c1-02da-437b-8d9d-267a5cfe5a11"
      },
      "execution_count": 289,
      "outputs": [
        {
          "output_type": "execute_result",
          "data": {
            "text/plain": [
              "3971"
            ]
          },
          "metadata": {},
          "execution_count": 289
        }
      ]
    },
    {
      "cell_type": "code",
      "source": [
        "y_train_batch.size(dim=1)"
      ],
      "metadata": {
        "colab": {
          "base_uri": "https://localhost:8080/"
        },
        "id": "Mx3Cg8mzN90G",
        "outputId": "ecab6a69-066e-4728-e3ed-4842ebaa3094"
      },
      "execution_count": 290,
      "outputs": [
        {
          "output_type": "execute_result",
          "data": {
            "text/plain": [
              "3971"
            ]
          },
          "metadata": {},
          "execution_count": 290
        }
      ]
    },
    {
      "cell_type": "code",
      "source": [
        "torch.flatten(y_train_batch)"
      ],
      "metadata": {
        "colab": {
          "base_uri": "https://localhost:8080/"
        },
        "id": "5eu0c81VvyLh",
        "outputId": "fa1c3e87-634d-4e40-c96a-a6fef7ba1258"
      },
      "execution_count": 281,
      "outputs": [
        {
          "output_type": "execute_result",
          "data": {
            "text/plain": [
              "tensor([0., 2., 2.,  ..., 0., 0., 0.])"
            ]
          },
          "metadata": {},
          "execution_count": 281
        }
      ]
    },
    {
      "cell_type": "code",
      "source": [
        "y_train_pred = model_n(X_train_batch)\n",
        "y_train_pred"
      ],
      "metadata": {
        "colab": {
          "base_uri": "https://localhost:8080/"
        },
        "id": "fglW42bvwKAt",
        "outputId": "d084365f-5459-4352-867b-7105d3f25e25"
      },
      "execution_count": 282,
      "outputs": [
        {
          "output_type": "execute_result",
          "data": {
            "text/plain": [
              "tensor([[ 0.0789, -0.0657, -0.0300, -0.0748,  0.0444],\n",
              "        [ 0.0789, -0.0657, -0.0300, -0.0748,  0.0444],\n",
              "        [ 0.0789, -0.0657, -0.0300, -0.0748,  0.0444],\n",
              "        [ 0.0789, -0.0657, -0.0300, -0.0748,  0.0444]],\n",
              "       grad_fn=<AddmmBackward0>)"
            ]
          },
          "metadata": {},
          "execution_count": 282
        }
      ]
    },
    {
      "cell_type": "code",
      "source": [
        "model_n(X_train_batch.to(device))[:3]"
      ],
      "metadata": {
        "colab": {
          "base_uri": "https://localhost:8080/"
        },
        "id": "klhIIIczeqsv",
        "outputId": "573f7ede-3452-4f53-d0fa-12ccaa217602"
      },
      "execution_count": 283,
      "outputs": [
        {
          "output_type": "execute_result",
          "data": {
            "text/plain": [
              "tensor([[ 0.0789, -0.0657, -0.0300, -0.0748,  0.0444],\n",
              "        [ 0.0789, -0.0657, -0.0300, -0.0748,  0.0444],\n",
              "        [ 0.0789, -0.0657, -0.0300, -0.0748,  0.0444]],\n",
              "       grad_fn=<SliceBackward0>)"
            ]
          },
          "metadata": {},
          "execution_count": 283
        }
      ]
    },
    {
      "cell_type": "code",
      "source": [
        "model_n(X_train_batch.to(device))[0].shape, NUM_CLASSES"
      ],
      "metadata": {
        "colab": {
          "base_uri": "https://localhost:8080/"
        },
        "id": "AoE-J34-ey9r",
        "outputId": "f8d858f7-e507-406c-92a9-ab6855751a11"
      },
      "execution_count": 284,
      "outputs": [
        {
          "output_type": "execute_result",
          "data": {
            "text/plain": [
              "(torch.Size([5]), 5)"
            ]
          },
          "metadata": {},
          "execution_count": 284
        }
      ]
    },
    {
      "cell_type": "code",
      "source": [
        "for X_val_batch,y_val_batch in val_loader:\n",
        "    print(X_val_batch.to(device))"
      ],
      "metadata": {
        "colab": {
          "base_uri": "https://localhost:8080/"
        },
        "id": "2-QCb95DhKVr",
        "outputId": "264da6a8-ba54-4a00-d5f9-3bb30a158d6d"
      },
      "execution_count": 285,
      "outputs": [
        {
          "output_type": "stream",
          "name": "stdout",
          "text": [
            "tensor([[0., 0., 0.,  ..., 0., 0., 0.],\n",
            "        [0., 0., 0.,  ..., 0., 0., 0.],\n",
            "        [0., 0., 0.,  ..., 0., 0., 0.],\n",
            "        [0., 0., 0.,  ..., 0., 0., 0.]])\n"
          ]
        }
      ]
    },
    {
      "cell_type": "code",
      "source": [
        "def multi_acc(y_pred, y_test):\n",
        "    y_pred_softmax = torch.log_softmax(y_pred, dim = 1)\n",
        "    _, y_pred_tags = torch.max(y_pred_softmax, dim = 1)\n",
        "\n",
        "    correct_pred = (y_pred_tags == y_test).float()\n",
        "    acc = correct_pred.sum() / len(correct_pred)\n",
        "\n",
        "    acc = torch.round(acc * 100)\n",
        "\n",
        "    return acc"
      ],
      "metadata": {
        "id": "wzpi6R-dfNMy"
      },
      "execution_count": 286,
      "outputs": []
    },
    {
      "cell_type": "code",
      "source": [
        "accuracy_stats = {\n",
        "    'train': [],\n",
        "    \"val\": []\n",
        "}\n",
        "loss_stats = {\n",
        "    'train': [],\n",
        "    \"val\": []\n",
        "}"
      ],
      "metadata": {
        "id": "tKGdYHeF2T6C"
      },
      "execution_count": 287,
      "outputs": []
    },
    {
      "cell_type": "code",
      "source": [
        "from tqdm.notebook import tqdm\n",
        "print(\"Begin training.\")\n",
        "for e in tqdm(range(1, EPOCHS+1)):\n",
        "\n",
        "    # TRAINING\n",
        "    train_epoch_loss = 0\n",
        "    train_epoch_acc = 0\n",
        "    model_n.train()\n",
        "    for X_train_batch, y_train_batch in train_loader:\n",
        "        X_train_batch, y_train_batch = X_train_batch.to(device), y_train_batch.to(device)\n",
        "        optimizer.zero_grad()\n",
        "\n",
        "        y_train_pred = model_n(X_train_batch)\n",
        "        train_loss = criterion(y_train_pred, torch.flatten(y_train_batch))\n",
        "        train_acc = multi_acc(y_train_pred, y_train_batch)\n",
        "\n",
        "        train_loss.backward()\n",
        "        optimizer.step()\n",
        "\n",
        "        train_epoch_loss += train_loss.item()\n",
        "        train_epoch_acc += train_acc.item()"
      ],
      "metadata": {
        "colab": {
          "base_uri": "https://localhost:8080/",
          "height": 439,
          "referenced_widgets": [
            "7a33e5865588486dabc905ca3dbe2c8b",
            "a301005b36524aba9f4eb686cb2aea58",
            "ccc0360e5dd84e5498b91b0ef2124163",
            "5d1e07610b854609b2f3c0309010ec96",
            "39e2fdb612144f70a52986eb7f14598a",
            "c1d2487e3a7c462db36d14be861e9f6c",
            "cf5809b23b744dac866e467073f425e3",
            "011510006e7445668da6cd8e100246ed",
            "62964bfdb74c497596ed7cdb2a63c5b1",
            "8abc05d503a94223a87249b2e34fb28c",
            "a29e0043ae3041939be656edabb7eeeb"
          ]
        },
        "id": "twn9KjkWpb6k",
        "outputId": "a48898a8-2dc2-4380-f163-0bcd3f100ab9"
      },
      "execution_count": 291,
      "outputs": [
        {
          "output_type": "stream",
          "name": "stdout",
          "text": [
            "Begin training.\n"
          ]
        },
        {
          "output_type": "display_data",
          "data": {
            "text/plain": [
              "  0%|          | 0/300 [00:00<?, ?it/s]"
            ],
            "application/vnd.jupyter.widget-view+json": {
              "version_major": 2,
              "version_minor": 0,
              "model_id": "7a33e5865588486dabc905ca3dbe2c8b"
            }
          },
          "metadata": {}
        },
        {
          "output_type": "error",
          "ename": "ValueError",
          "evalue": "ignored",
          "traceback": [
            "\u001b[0;31m---------------------------------------------------------------------------\u001b[0m",
            "\u001b[0;31mValueError\u001b[0m                                Traceback (most recent call last)",
            "\u001b[0;32m<ipython-input-291-28c84a8fcf91>\u001b[0m in \u001b[0;36m<cell line: 3>\u001b[0;34m()\u001b[0m\n\u001b[1;32m     12\u001b[0m \u001b[0;34m\u001b[0m\u001b[0m\n\u001b[1;32m     13\u001b[0m         \u001b[0my_train_pred\u001b[0m \u001b[0;34m=\u001b[0m \u001b[0mmodel_n\u001b[0m\u001b[0;34m(\u001b[0m\u001b[0mX_train_batch\u001b[0m\u001b[0;34m)\u001b[0m\u001b[0;34m\u001b[0m\u001b[0;34m\u001b[0m\u001b[0m\n\u001b[0;32m---> 14\u001b[0;31m         \u001b[0mtrain_loss\u001b[0m \u001b[0;34m=\u001b[0m \u001b[0mcriterion\u001b[0m\u001b[0;34m(\u001b[0m\u001b[0my_train_pred\u001b[0m\u001b[0;34m,\u001b[0m \u001b[0mtorch\u001b[0m\u001b[0;34m.\u001b[0m\u001b[0mflatten\u001b[0m\u001b[0;34m(\u001b[0m\u001b[0my_train_batch\u001b[0m\u001b[0;34m)\u001b[0m\u001b[0;34m)\u001b[0m\u001b[0;34m\u001b[0m\u001b[0;34m\u001b[0m\u001b[0m\n\u001b[0m\u001b[1;32m     15\u001b[0m         \u001b[0mtrain_acc\u001b[0m \u001b[0;34m=\u001b[0m \u001b[0mmulti_acc\u001b[0m\u001b[0;34m(\u001b[0m\u001b[0my_train_pred\u001b[0m\u001b[0;34m,\u001b[0m \u001b[0my_train_batch\u001b[0m\u001b[0;34m)\u001b[0m\u001b[0;34m\u001b[0m\u001b[0;34m\u001b[0m\u001b[0m\n\u001b[1;32m     16\u001b[0m \u001b[0;34m\u001b[0m\u001b[0m\n",
            "\u001b[0;32m/usr/local/lib/python3.10/dist-packages/torch/nn/modules/module.py\u001b[0m in \u001b[0;36m_call_impl\u001b[0;34m(self, *args, **kwargs)\u001b[0m\n\u001b[1;32m   1499\u001b[0m                 \u001b[0;32mor\u001b[0m \u001b[0m_global_backward_pre_hooks\u001b[0m \u001b[0;32mor\u001b[0m \u001b[0m_global_backward_hooks\u001b[0m\u001b[0;34m\u001b[0m\u001b[0;34m\u001b[0m\u001b[0m\n\u001b[1;32m   1500\u001b[0m                 or _global_forward_hooks or _global_forward_pre_hooks):\n\u001b[0;32m-> 1501\u001b[0;31m             \u001b[0;32mreturn\u001b[0m \u001b[0mforward_call\u001b[0m\u001b[0;34m(\u001b[0m\u001b[0;34m*\u001b[0m\u001b[0margs\u001b[0m\u001b[0;34m,\u001b[0m \u001b[0;34m**\u001b[0m\u001b[0mkwargs\u001b[0m\u001b[0;34m)\u001b[0m\u001b[0;34m\u001b[0m\u001b[0;34m\u001b[0m\u001b[0m\n\u001b[0m\u001b[1;32m   1502\u001b[0m         \u001b[0;31m# Do not call functions when jit is used\u001b[0m\u001b[0;34m\u001b[0m\u001b[0;34m\u001b[0m\u001b[0m\n\u001b[1;32m   1503\u001b[0m         \u001b[0mfull_backward_hooks\u001b[0m\u001b[0;34m,\u001b[0m \u001b[0mnon_full_backward_hooks\u001b[0m \u001b[0;34m=\u001b[0m \u001b[0;34m[\u001b[0m\u001b[0;34m]\u001b[0m\u001b[0;34m,\u001b[0m \u001b[0;34m[\u001b[0m\u001b[0;34m]\u001b[0m\u001b[0;34m\u001b[0m\u001b[0;34m\u001b[0m\u001b[0m\n",
            "\u001b[0;32m/usr/local/lib/python3.10/dist-packages/torch/nn/modules/loss.py\u001b[0m in \u001b[0;36mforward\u001b[0;34m(self, input, target)\u001b[0m\n\u001b[1;32m   1172\u001b[0m \u001b[0;34m\u001b[0m\u001b[0m\n\u001b[1;32m   1173\u001b[0m     \u001b[0;32mdef\u001b[0m \u001b[0mforward\u001b[0m\u001b[0;34m(\u001b[0m\u001b[0mself\u001b[0m\u001b[0;34m,\u001b[0m \u001b[0minput\u001b[0m\u001b[0;34m:\u001b[0m \u001b[0mTensor\u001b[0m\u001b[0;34m,\u001b[0m \u001b[0mtarget\u001b[0m\u001b[0;34m:\u001b[0m \u001b[0mTensor\u001b[0m\u001b[0;34m)\u001b[0m \u001b[0;34m->\u001b[0m \u001b[0mTensor\u001b[0m\u001b[0;34m:\u001b[0m\u001b[0;34m\u001b[0m\u001b[0;34m\u001b[0m\u001b[0m\n\u001b[0;32m-> 1174\u001b[0;31m         return F.cross_entropy(input, target, weight=self.weight,\n\u001b[0m\u001b[1;32m   1175\u001b[0m                                \u001b[0mignore_index\u001b[0m\u001b[0;34m=\u001b[0m\u001b[0mself\u001b[0m\u001b[0;34m.\u001b[0m\u001b[0mignore_index\u001b[0m\u001b[0;34m,\u001b[0m \u001b[0mreduction\u001b[0m\u001b[0;34m=\u001b[0m\u001b[0mself\u001b[0m\u001b[0;34m.\u001b[0m\u001b[0mreduction\u001b[0m\u001b[0;34m,\u001b[0m\u001b[0;34m\u001b[0m\u001b[0;34m\u001b[0m\u001b[0m\n\u001b[1;32m   1176\u001b[0m                                label_smoothing=self.label_smoothing)\n",
            "\u001b[0;32m/usr/local/lib/python3.10/dist-packages/torch/nn/functional.py\u001b[0m in \u001b[0;36mcross_entropy\u001b[0;34m(input, target, weight, size_average, ignore_index, reduce, reduction, label_smoothing)\u001b[0m\n\u001b[1;32m   3027\u001b[0m     \u001b[0;32mif\u001b[0m \u001b[0msize_average\u001b[0m \u001b[0;32mis\u001b[0m \u001b[0;32mnot\u001b[0m \u001b[0;32mNone\u001b[0m \u001b[0;32mor\u001b[0m \u001b[0mreduce\u001b[0m \u001b[0;32mis\u001b[0m \u001b[0;32mnot\u001b[0m \u001b[0;32mNone\u001b[0m\u001b[0;34m:\u001b[0m\u001b[0;34m\u001b[0m\u001b[0;34m\u001b[0m\u001b[0m\n\u001b[1;32m   3028\u001b[0m         \u001b[0mreduction\u001b[0m \u001b[0;34m=\u001b[0m \u001b[0m_Reduction\u001b[0m\u001b[0;34m.\u001b[0m\u001b[0mlegacy_get_string\u001b[0m\u001b[0;34m(\u001b[0m\u001b[0msize_average\u001b[0m\u001b[0;34m,\u001b[0m \u001b[0mreduce\u001b[0m\u001b[0;34m)\u001b[0m\u001b[0;34m\u001b[0m\u001b[0;34m\u001b[0m\u001b[0m\n\u001b[0;32m-> 3029\u001b[0;31m     \u001b[0;32mreturn\u001b[0m \u001b[0mtorch\u001b[0m\u001b[0;34m.\u001b[0m\u001b[0m_C\u001b[0m\u001b[0;34m.\u001b[0m\u001b[0m_nn\u001b[0m\u001b[0;34m.\u001b[0m\u001b[0mcross_entropy_loss\u001b[0m\u001b[0;34m(\u001b[0m\u001b[0minput\u001b[0m\u001b[0;34m,\u001b[0m \u001b[0mtarget\u001b[0m\u001b[0;34m,\u001b[0m \u001b[0mweight\u001b[0m\u001b[0;34m,\u001b[0m \u001b[0m_Reduction\u001b[0m\u001b[0;34m.\u001b[0m\u001b[0mget_enum\u001b[0m\u001b[0;34m(\u001b[0m\u001b[0mreduction\u001b[0m\u001b[0;34m)\u001b[0m\u001b[0;34m,\u001b[0m \u001b[0mignore_index\u001b[0m\u001b[0;34m,\u001b[0m \u001b[0mlabel_smoothing\u001b[0m\u001b[0;34m)\u001b[0m\u001b[0;34m\u001b[0m\u001b[0;34m\u001b[0m\u001b[0m\n\u001b[0m\u001b[1;32m   3030\u001b[0m \u001b[0;34m\u001b[0m\u001b[0m\n\u001b[1;32m   3031\u001b[0m \u001b[0;34m\u001b[0m\u001b[0m\n",
            "\u001b[0;31mValueError\u001b[0m: Expected input batch_size (4) to match target batch_size (15884)."
          ]
        }
      ]
    },
    {
      "cell_type": "code",
      "source": [
        "y_train_pred.size(dim=1)"
      ],
      "metadata": {
        "id": "4NcKewYfxlmv",
        "colab": {
          "base_uri": "https://localhost:8080/"
        },
        "outputId": "c86b10c4-ee11-43f6-cbc8-e6cd53636e7e"
      },
      "execution_count": 292,
      "outputs": [
        {
          "output_type": "execute_result",
          "data": {
            "text/plain": [
              "5"
            ]
          },
          "metadata": {},
          "execution_count": 292
        }
      ]
    },
    {
      "cell_type": "code",
      "source": [
        "y_train_batch.size(dim=1)"
      ],
      "metadata": {
        "id": "0yACBWirxl7d",
        "colab": {
          "base_uri": "https://localhost:8080/"
        },
        "outputId": "521060c7-b1b4-4c3e-a3d8-2f25234c6137"
      },
      "execution_count": 293,
      "outputs": [
        {
          "output_type": "execute_result",
          "data": {
            "text/plain": [
              "3971"
            ]
          },
          "metadata": {},
          "execution_count": 293
        }
      ]
    },
    {
      "cell_type": "code",
      "source": [],
      "metadata": {
        "id": "oIPKQJW_xmdi"
      },
      "execution_count": null,
      "outputs": []
    },
    {
      "cell_type": "code",
      "source": [],
      "metadata": {
        "id": "5fZoPUdooE26"
      },
      "execution_count": null,
      "outputs": []
    }
  ]
}